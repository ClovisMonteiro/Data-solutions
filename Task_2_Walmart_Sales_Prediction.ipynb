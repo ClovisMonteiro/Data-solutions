{
  "nbformat": 4,
  "nbformat_minor": 0,
  "metadata": {
    "colab": {
      "name": "Task 2 Walmart Sales Prediction.ipynb",
      "provenance": [],
      "collapsed_sections": [
        "V-x55kyUvHuC"
      ],
      "mount_file_id": "1iH47VF-kkwDVu6S6OJabEC8b8m4K4JI6",
      "authorship_tag": "ABX9TyNunabicEA7e25/nKVG2N1V",
      "include_colab_link": true
    },
    "kernelspec": {
      "display_name": "Python 3",
      "name": "python3"
    },
    "language_info": {
      "name": "python"
    }
  },
  "cells": [
    {
      "cell_type": "markdown",
      "metadata": {
        "id": "view-in-github",
        "colab_type": "text"
      },
      "source": [
        "<a href=\"https://colab.research.google.com/github/ClovisMonteiro/Data-solutions/blob/main/Task_2_Walmart_Sales_Prediction.ipynb\" target=\"_parent\"><img src=\"https://colab.research.google.com/assets/colab-badge.svg\" alt=\"Open In Colab\"/></a>"
      ]
    },
    {
      "cell_type": "markdown",
      "metadata": {
        "id": "700fPJ2J1f0L"
      },
      "source": [
        "# Task 2 - Walmart Sales Prediction"
      ]
    },
    {
      "cell_type": "markdown",
      "metadata": {
        "id": "kLsl_Xvd1S6H"
      },
      "source": [
        "In this task you are asked to do an exploratory data analysis, feature selection, feature engineering and fit a simple model to predict the sales using the data from Walmart competition at Kaggle\n",
        "\n",
        "(https://www.kaggle.com/c/walmart-recruiting-store-sales-forecasting/data)."
      ]
    },
    {
      "cell_type": "markdown",
      "metadata": {
        "id": "V-x55kyUvHuC"
      },
      "source": [
        "# Import required basics  libraries"
      ]
    },
    {
      "cell_type": "code",
      "metadata": {
        "id": "Wqj5gBct1PRz"
      },
      "source": [
        "import pandas as pd\n",
        "import os\n",
        "import matplotlib.pyplot as plt\n",
        "\n",
        "%matplotlib inline\n",
        "\n",
        "import numpy as np\n",
        "import seaborn as sns\n",
        "import warnings\n",
        "warnings.filterwarnings(\"ignore\")"
      ],
      "execution_count": 1,
      "outputs": []
    },
    {
      "cell_type": "markdown",
      "metadata": {
        "id": "OnCyOEaTvKA2"
      },
      "source": [
        "# Load Data"
      ]
    },
    {
      "cell_type": "code",
      "metadata": {
        "colab": {
          "base_uri": "https://localhost:8080/"
        },
        "id": "5EuJYbTWdkI-",
        "outputId": "1aeb301a-9685-42dc-df27-239095e81e90"
      },
      "source": [
        "from google.colab import drive\n",
        "drive.mount('/content/drive')"
      ],
      "execution_count": 2,
      "outputs": [
        {
          "output_type": "stream",
          "text": [
            "Drive already mounted at /content/drive; to attempt to forcibly remount, call drive.mount(\"/content/drive\", force_remount=True).\n"
          ],
          "name": "stdout"
        }
      ]
    },
    {
      "cell_type": "code",
      "metadata": {
        "colab": {
          "base_uri": "https://localhost:8080/"
        },
        "id": "z1vXE7M42PnF",
        "outputId": "cbed01f9-2358-437b-fcd7-b985a7ee6de8"
      },
      "source": [
        "os.listdir(\"./drive/MyDrive/Data_Solutions/Walmart_Sales_Prediction\")"
      ],
      "execution_count": 3,
      "outputs": [
        {
          "output_type": "execute_result",
          "data": {
            "text/plain": [
              "['features.csv', 'test.csv', 'train.csv', 'sampleSubmission.csv', 'stores.csv']"
            ]
          },
          "metadata": {
            "tags": []
          },
          "execution_count": 3
        }
      ]
    },
    {
      "cell_type": "markdown",
      "metadata": {
        "id": "LDZJAs4aq-dt"
      },
      "source": [
        "Test\n",
        "\n",
        "This file is identical to train.csv, except we have withheld the weekly sales. You must predict the sales for each triplet of store, department, and date in this file."
      ]
    },
    {
      "cell_type": "code",
      "metadata": {
        "id": "8yBmQNbNdsqk"
      },
      "source": [
        "test = pd.read_csv(\"./drive/MyDrive/Data_Solutions/Walmart_Sales_Prediction/test.csv\", sep=',', encoding='utf-8')"
      ],
      "execution_count": 4,
      "outputs": []
    },
    {
      "cell_type": "code",
      "metadata": {
        "colab": {
          "base_uri": "https://localhost:8080/",
          "height": 204
        },
        "id": "HLfYZmZIunF7",
        "outputId": "c5776c90-862c-472a-f053-8795a581ded4"
      },
      "source": [
        "test.head()"
      ],
      "execution_count": 5,
      "outputs": [
        {
          "output_type": "execute_result",
          "data": {
            "text/html": [
              "<div>\n",
              "<style scoped>\n",
              "    .dataframe tbody tr th:only-of-type {\n",
              "        vertical-align: middle;\n",
              "    }\n",
              "\n",
              "    .dataframe tbody tr th {\n",
              "        vertical-align: top;\n",
              "    }\n",
              "\n",
              "    .dataframe thead th {\n",
              "        text-align: right;\n",
              "    }\n",
              "</style>\n",
              "<table border=\"1\" class=\"dataframe\">\n",
              "  <thead>\n",
              "    <tr style=\"text-align: right;\">\n",
              "      <th></th>\n",
              "      <th>Store</th>\n",
              "      <th>Dept</th>\n",
              "      <th>Date</th>\n",
              "      <th>IsHoliday</th>\n",
              "    </tr>\n",
              "  </thead>\n",
              "  <tbody>\n",
              "    <tr>\n",
              "      <th>0</th>\n",
              "      <td>1</td>\n",
              "      <td>1</td>\n",
              "      <td>2012-11-02</td>\n",
              "      <td>False</td>\n",
              "    </tr>\n",
              "    <tr>\n",
              "      <th>1</th>\n",
              "      <td>1</td>\n",
              "      <td>1</td>\n",
              "      <td>2012-11-09</td>\n",
              "      <td>False</td>\n",
              "    </tr>\n",
              "    <tr>\n",
              "      <th>2</th>\n",
              "      <td>1</td>\n",
              "      <td>1</td>\n",
              "      <td>2012-11-16</td>\n",
              "      <td>False</td>\n",
              "    </tr>\n",
              "    <tr>\n",
              "      <th>3</th>\n",
              "      <td>1</td>\n",
              "      <td>1</td>\n",
              "      <td>2012-11-23</td>\n",
              "      <td>True</td>\n",
              "    </tr>\n",
              "    <tr>\n",
              "      <th>4</th>\n",
              "      <td>1</td>\n",
              "      <td>1</td>\n",
              "      <td>2012-11-30</td>\n",
              "      <td>False</td>\n",
              "    </tr>\n",
              "  </tbody>\n",
              "</table>\n",
              "</div>"
            ],
            "text/plain": [
              "   Store  Dept        Date  IsHoliday\n",
              "0      1     1  2012-11-02      False\n",
              "1      1     1  2012-11-09      False\n",
              "2      1     1  2012-11-16      False\n",
              "3      1     1  2012-11-23       True\n",
              "4      1     1  2012-11-30      False"
            ]
          },
          "metadata": {
            "tags": []
          },
          "execution_count": 5
        }
      ]
    },
    {
      "cell_type": "markdown",
      "metadata": {
        "id": "obUtft89rCqL"
      },
      "source": [
        "Train\n",
        "\n",
        "This is the historical training data, which covers to 2010-02-05 to 2012-11-01. Within this file you will find the following fields:\n",
        "\n",
        "  - Store - the store number\n",
        "  - Dept - the department number\n",
        "  - Date - the week\n",
        "  - Weekly_Sales -  sales for the given department in the given store\n",
        "  - IsHoliday - whether the week is a special holiday week"
      ]
    },
    {
      "cell_type": "code",
      "metadata": {
        "id": "r9Zq1JQFljWm"
      },
      "source": [
        "train = pd.read_csv(\"./drive/MyDrive/Data_Solutions/Walmart_Sales_Prediction/train.csv\", sep=',', encoding='utf-8')"
      ],
      "execution_count": 6,
      "outputs": []
    },
    {
      "cell_type": "code",
      "metadata": {
        "colab": {
          "base_uri": "https://localhost:8080/",
          "height": 204
        },
        "id": "ejefZrJhuxtJ",
        "outputId": "59f3d370-f25d-444b-8d92-9c0d757ca8fb"
      },
      "source": [
        "train.head()"
      ],
      "execution_count": 7,
      "outputs": [
        {
          "output_type": "execute_result",
          "data": {
            "text/html": [
              "<div>\n",
              "<style scoped>\n",
              "    .dataframe tbody tr th:only-of-type {\n",
              "        vertical-align: middle;\n",
              "    }\n",
              "\n",
              "    .dataframe tbody tr th {\n",
              "        vertical-align: top;\n",
              "    }\n",
              "\n",
              "    .dataframe thead th {\n",
              "        text-align: right;\n",
              "    }\n",
              "</style>\n",
              "<table border=\"1\" class=\"dataframe\">\n",
              "  <thead>\n",
              "    <tr style=\"text-align: right;\">\n",
              "      <th></th>\n",
              "      <th>Store</th>\n",
              "      <th>Dept</th>\n",
              "      <th>Date</th>\n",
              "      <th>Weekly_Sales</th>\n",
              "      <th>IsHoliday</th>\n",
              "    </tr>\n",
              "  </thead>\n",
              "  <tbody>\n",
              "    <tr>\n",
              "      <th>0</th>\n",
              "      <td>1</td>\n",
              "      <td>1</td>\n",
              "      <td>2010-02-05</td>\n",
              "      <td>24924.50</td>\n",
              "      <td>False</td>\n",
              "    </tr>\n",
              "    <tr>\n",
              "      <th>1</th>\n",
              "      <td>1</td>\n",
              "      <td>1</td>\n",
              "      <td>2010-02-12</td>\n",
              "      <td>46039.49</td>\n",
              "      <td>True</td>\n",
              "    </tr>\n",
              "    <tr>\n",
              "      <th>2</th>\n",
              "      <td>1</td>\n",
              "      <td>1</td>\n",
              "      <td>2010-02-19</td>\n",
              "      <td>41595.55</td>\n",
              "      <td>False</td>\n",
              "    </tr>\n",
              "    <tr>\n",
              "      <th>3</th>\n",
              "      <td>1</td>\n",
              "      <td>1</td>\n",
              "      <td>2010-02-26</td>\n",
              "      <td>19403.54</td>\n",
              "      <td>False</td>\n",
              "    </tr>\n",
              "    <tr>\n",
              "      <th>4</th>\n",
              "      <td>1</td>\n",
              "      <td>1</td>\n",
              "      <td>2010-03-05</td>\n",
              "      <td>21827.90</td>\n",
              "      <td>False</td>\n",
              "    </tr>\n",
              "  </tbody>\n",
              "</table>\n",
              "</div>"
            ],
            "text/plain": [
              "   Store  Dept        Date  Weekly_Sales  IsHoliday\n",
              "0      1     1  2010-02-05      24924.50      False\n",
              "1      1     1  2010-02-12      46039.49       True\n",
              "2      1     1  2010-02-19      41595.55      False\n",
              "3      1     1  2010-02-26      19403.54      False\n",
              "4      1     1  2010-03-05      21827.90      False"
            ]
          },
          "metadata": {
            "tags": []
          },
          "execution_count": 7
        }
      ]
    },
    {
      "cell_type": "markdown",
      "metadata": {
        "id": "kizFOmXhrDG9"
      },
      "source": [
        "Features\n",
        "\n",
        "\n",
        "This file contains additional data related to the store, department, and regional activity for the given dates. It contains the following fields:\n",
        "\n",
        "  - Store - the store number\n",
        "  - Date - the week\n",
        "  - Temperature - average temperature in the region\n",
        "  - Fuel_Price - cost of fuel in the region\n",
        "  - MarkDown1-5 - anonymized data related to promotional markdowns that Walmart   is running. MarkDown data is only available after Nov 2011, and is not available for all stores all the time. Any missing value is marked with an NA.\n",
        "  - CPI - the consumer price index\n",
        "  - Unemployment - the unemployment rate\n",
        "  - IsHoliday - whether the week is a special holiday week\n",
        "For convenience, the four holidays fall within the following weeks in the dataset (not all holidays are in the data):\n",
        "\n",
        "Examples:\n",
        "- Super Bowl: 12-Feb-10, 11-Feb-11, 10-Feb-12, 8-Feb-13\n",
        "- Labor Day: 10-Sep-10, 9-Sep-11, 7-Sep-12, 6-Sep-13\n",
        "- Thanksgiving: 26-Nov-10, 25-Nov-11, 23-Nov-12, 29-Nov-13\n",
        "- Christmas: 31-Dec-10, 30-Dec-11, 28-Dec-12, 27-Dec-13"
      ]
    },
    {
      "cell_type": "code",
      "metadata": {
        "id": "uV1MYlOxmEtN"
      },
      "source": [
        "features = pd.read_csv(\"./drive/MyDrive/Data_Solutions/Walmart_Sales_Prediction/features.csv\", sep=',', encoding='utf-8')"
      ],
      "execution_count": 8,
      "outputs": []
    },
    {
      "cell_type": "code",
      "metadata": {
        "colab": {
          "base_uri": "https://localhost:8080/",
          "height": 204
        },
        "id": "W29wBRbru1-l",
        "outputId": "f68f6800-9827-41c2-93dc-22169326e391"
      },
      "source": [
        "features.head()"
      ],
      "execution_count": 9,
      "outputs": [
        {
          "output_type": "execute_result",
          "data": {
            "text/html": [
              "<div>\n",
              "<style scoped>\n",
              "    .dataframe tbody tr th:only-of-type {\n",
              "        vertical-align: middle;\n",
              "    }\n",
              "\n",
              "    .dataframe tbody tr th {\n",
              "        vertical-align: top;\n",
              "    }\n",
              "\n",
              "    .dataframe thead th {\n",
              "        text-align: right;\n",
              "    }\n",
              "</style>\n",
              "<table border=\"1\" class=\"dataframe\">\n",
              "  <thead>\n",
              "    <tr style=\"text-align: right;\">\n",
              "      <th></th>\n",
              "      <th>Store</th>\n",
              "      <th>Date</th>\n",
              "      <th>Temperature</th>\n",
              "      <th>Fuel_Price</th>\n",
              "      <th>MarkDown1</th>\n",
              "      <th>MarkDown2</th>\n",
              "      <th>MarkDown3</th>\n",
              "      <th>MarkDown4</th>\n",
              "      <th>MarkDown5</th>\n",
              "      <th>CPI</th>\n",
              "      <th>Unemployment</th>\n",
              "      <th>IsHoliday</th>\n",
              "    </tr>\n",
              "  </thead>\n",
              "  <tbody>\n",
              "    <tr>\n",
              "      <th>0</th>\n",
              "      <td>1</td>\n",
              "      <td>2010-02-05</td>\n",
              "      <td>42.31</td>\n",
              "      <td>2.572</td>\n",
              "      <td>NaN</td>\n",
              "      <td>NaN</td>\n",
              "      <td>NaN</td>\n",
              "      <td>NaN</td>\n",
              "      <td>NaN</td>\n",
              "      <td>211.096358</td>\n",
              "      <td>8.106</td>\n",
              "      <td>False</td>\n",
              "    </tr>\n",
              "    <tr>\n",
              "      <th>1</th>\n",
              "      <td>1</td>\n",
              "      <td>2010-02-12</td>\n",
              "      <td>38.51</td>\n",
              "      <td>2.548</td>\n",
              "      <td>NaN</td>\n",
              "      <td>NaN</td>\n",
              "      <td>NaN</td>\n",
              "      <td>NaN</td>\n",
              "      <td>NaN</td>\n",
              "      <td>211.242170</td>\n",
              "      <td>8.106</td>\n",
              "      <td>True</td>\n",
              "    </tr>\n",
              "    <tr>\n",
              "      <th>2</th>\n",
              "      <td>1</td>\n",
              "      <td>2010-02-19</td>\n",
              "      <td>39.93</td>\n",
              "      <td>2.514</td>\n",
              "      <td>NaN</td>\n",
              "      <td>NaN</td>\n",
              "      <td>NaN</td>\n",
              "      <td>NaN</td>\n",
              "      <td>NaN</td>\n",
              "      <td>211.289143</td>\n",
              "      <td>8.106</td>\n",
              "      <td>False</td>\n",
              "    </tr>\n",
              "    <tr>\n",
              "      <th>3</th>\n",
              "      <td>1</td>\n",
              "      <td>2010-02-26</td>\n",
              "      <td>46.63</td>\n",
              "      <td>2.561</td>\n",
              "      <td>NaN</td>\n",
              "      <td>NaN</td>\n",
              "      <td>NaN</td>\n",
              "      <td>NaN</td>\n",
              "      <td>NaN</td>\n",
              "      <td>211.319643</td>\n",
              "      <td>8.106</td>\n",
              "      <td>False</td>\n",
              "    </tr>\n",
              "    <tr>\n",
              "      <th>4</th>\n",
              "      <td>1</td>\n",
              "      <td>2010-03-05</td>\n",
              "      <td>46.50</td>\n",
              "      <td>2.625</td>\n",
              "      <td>NaN</td>\n",
              "      <td>NaN</td>\n",
              "      <td>NaN</td>\n",
              "      <td>NaN</td>\n",
              "      <td>NaN</td>\n",
              "      <td>211.350143</td>\n",
              "      <td>8.106</td>\n",
              "      <td>False</td>\n",
              "    </tr>\n",
              "  </tbody>\n",
              "</table>\n",
              "</div>"
            ],
            "text/plain": [
              "   Store        Date  Temperature  ...         CPI  Unemployment  IsHoliday\n",
              "0      1  2010-02-05        42.31  ...  211.096358         8.106      False\n",
              "1      1  2010-02-12        38.51  ...  211.242170         8.106       True\n",
              "2      1  2010-02-19        39.93  ...  211.289143         8.106      False\n",
              "3      1  2010-02-26        46.63  ...  211.319643         8.106      False\n",
              "4      1  2010-03-05        46.50  ...  211.350143         8.106      False\n",
              "\n",
              "[5 rows x 12 columns]"
            ]
          },
          "metadata": {
            "tags": []
          },
          "execution_count": 9
        }
      ]
    },
    {
      "cell_type": "markdown",
      "metadata": {
        "id": "imiYZNDLrDqN"
      },
      "source": [
        "Stores\n",
        "\n",
        "This file contains anonymized information about the 45 stores, indicating the type and size of store."
      ]
    },
    {
      "cell_type": "code",
      "metadata": {
        "id": "Asd3LBnMmEik"
      },
      "source": [
        "stores = pd.read_csv(\"./drive/MyDrive/Data_Solutions/Walmart_Sales_Prediction/stores.csv\", sep=',', encoding='utf-8')"
      ],
      "execution_count": 10,
      "outputs": []
    },
    {
      "cell_type": "code",
      "metadata": {
        "colab": {
          "base_uri": "https://localhost:8080/",
          "height": 204
        },
        "id": "VMbPJevzmY6y",
        "outputId": "79c5863e-71eb-45b6-8fec-0de1d35388a8"
      },
      "source": [
        "stores.head()"
      ],
      "execution_count": 11,
      "outputs": [
        {
          "output_type": "execute_result",
          "data": {
            "text/html": [
              "<div>\n",
              "<style scoped>\n",
              "    .dataframe tbody tr th:only-of-type {\n",
              "        vertical-align: middle;\n",
              "    }\n",
              "\n",
              "    .dataframe tbody tr th {\n",
              "        vertical-align: top;\n",
              "    }\n",
              "\n",
              "    .dataframe thead th {\n",
              "        text-align: right;\n",
              "    }\n",
              "</style>\n",
              "<table border=\"1\" class=\"dataframe\">\n",
              "  <thead>\n",
              "    <tr style=\"text-align: right;\">\n",
              "      <th></th>\n",
              "      <th>Store</th>\n",
              "      <th>Type</th>\n",
              "      <th>Size</th>\n",
              "    </tr>\n",
              "  </thead>\n",
              "  <tbody>\n",
              "    <tr>\n",
              "      <th>0</th>\n",
              "      <td>1</td>\n",
              "      <td>A</td>\n",
              "      <td>151315</td>\n",
              "    </tr>\n",
              "    <tr>\n",
              "      <th>1</th>\n",
              "      <td>2</td>\n",
              "      <td>A</td>\n",
              "      <td>202307</td>\n",
              "    </tr>\n",
              "    <tr>\n",
              "      <th>2</th>\n",
              "      <td>3</td>\n",
              "      <td>B</td>\n",
              "      <td>37392</td>\n",
              "    </tr>\n",
              "    <tr>\n",
              "      <th>3</th>\n",
              "      <td>4</td>\n",
              "      <td>A</td>\n",
              "      <td>205863</td>\n",
              "    </tr>\n",
              "    <tr>\n",
              "      <th>4</th>\n",
              "      <td>5</td>\n",
              "      <td>B</td>\n",
              "      <td>34875</td>\n",
              "    </tr>\n",
              "  </tbody>\n",
              "</table>\n",
              "</div>"
            ],
            "text/plain": [
              "   Store Type    Size\n",
              "0      1    A  151315\n",
              "1      2    A  202307\n",
              "2      3    B   37392\n",
              "3      4    A  205863\n",
              "4      5    B   34875"
            ]
          },
          "metadata": {
            "tags": []
          },
          "execution_count": 11
        }
      ]
    },
    {
      "cell_type": "markdown",
      "metadata": {
        "id": "218zSyikrCJn"
      },
      "source": [
        "Sample submission\n",
        "\n",
        "\n",
        " Example of data format to send"
      ]
    },
    {
      "cell_type": "code",
      "metadata": {
        "id": "jgrRUm_mkMpS"
      },
      "source": [
        "sample_submission = pd.read_csv(\"./drive/MyDrive/Data_Solutions/Walmart_Sales_Prediction/sampleSubmission.csv\", sep=',', encoding='utf-8')\n"
      ],
      "execution_count": 12,
      "outputs": []
    },
    {
      "cell_type": "code",
      "metadata": {
        "colab": {
          "base_uri": "https://localhost:8080/",
          "height": 204
        },
        "id": "UohqumxjusaL",
        "outputId": "3df534a0-fea5-4da2-92c2-1208d7d35d05"
      },
      "source": [
        "sample_submission.head()\n",
        "\n",
        "# will not be used in this case"
      ],
      "execution_count": 13,
      "outputs": [
        {
          "output_type": "execute_result",
          "data": {
            "text/html": [
              "<div>\n",
              "<style scoped>\n",
              "    .dataframe tbody tr th:only-of-type {\n",
              "        vertical-align: middle;\n",
              "    }\n",
              "\n",
              "    .dataframe tbody tr th {\n",
              "        vertical-align: top;\n",
              "    }\n",
              "\n",
              "    .dataframe thead th {\n",
              "        text-align: right;\n",
              "    }\n",
              "</style>\n",
              "<table border=\"1\" class=\"dataframe\">\n",
              "  <thead>\n",
              "    <tr style=\"text-align: right;\">\n",
              "      <th></th>\n",
              "      <th>Id</th>\n",
              "      <th>Weekly_Sales</th>\n",
              "    </tr>\n",
              "  </thead>\n",
              "  <tbody>\n",
              "    <tr>\n",
              "      <th>0</th>\n",
              "      <td>1_1_2012-11-02</td>\n",
              "      <td>0</td>\n",
              "    </tr>\n",
              "    <tr>\n",
              "      <th>1</th>\n",
              "      <td>1_1_2012-11-09</td>\n",
              "      <td>0</td>\n",
              "    </tr>\n",
              "    <tr>\n",
              "      <th>2</th>\n",
              "      <td>1_1_2012-11-16</td>\n",
              "      <td>0</td>\n",
              "    </tr>\n",
              "    <tr>\n",
              "      <th>3</th>\n",
              "      <td>1_1_2012-11-23</td>\n",
              "      <td>0</td>\n",
              "    </tr>\n",
              "    <tr>\n",
              "      <th>4</th>\n",
              "      <td>1_1_2012-11-30</td>\n",
              "      <td>0</td>\n",
              "    </tr>\n",
              "  </tbody>\n",
              "</table>\n",
              "</div>"
            ],
            "text/plain": [
              "               Id  Weekly_Sales\n",
              "0  1_1_2012-11-02             0\n",
              "1  1_1_2012-11-09             0\n",
              "2  1_1_2012-11-16             0\n",
              "3  1_1_2012-11-23             0\n",
              "4  1_1_2012-11-30             0"
            ]
          },
          "metadata": {
            "tags": []
          },
          "execution_count": 13
        }
      ]
    },
    {
      "cell_type": "markdown",
      "metadata": {
        "id": "ozGwg38t8i1M"
      },
      "source": [
        "### Analyzing data"
      ]
    },
    {
      "cell_type": "code",
      "metadata": {
        "colab": {
          "base_uri": "https://localhost:8080/"
        },
        "id": "J98f-YrhoeVP",
        "outputId": "af424bd1-bd20-4951-b7be-d53f06fca2ce"
      },
      "source": [
        "print(\"Archive Test: {} rows and {} columns\".format(test.shape[0],test.shape[1]))\n",
        "print(\"Archive Train: {} rows and {} columns\".format(train.shape[0],train.shape[1]))\n",
        "print(\"Archive Feature: {} rows and {} columns\".format(features.shape[0],features.shape[1]))\n",
        "print(\"Archive Stores: {} rows and {} columns\".format(stores.shape[0],stores.shape[1]))"
      ],
      "execution_count": 14,
      "outputs": [
        {
          "output_type": "stream",
          "text": [
            "Archive Test: 115064 rows and 4 columns\n",
            "Archive Train: 421570 rows and 5 columns\n",
            "Archive Feature: 8190 rows and 12 columns\n",
            "Archive Stores: 45 rows and 3 columns\n"
          ],
          "name": "stdout"
        }
      ]
    },
    {
      "cell_type": "code",
      "metadata": {
        "colab": {
          "base_uri": "https://localhost:8080/"
        },
        "id": "VZDk34MA9CDP",
        "outputId": "92eacb5a-2ab2-45ed-d800-0919b035b37f"
      },
      "source": [
        "features.isna().sum().any()\n",
        "\n",
        "\n",
        "print(\"Missing values at test? \\nR: {}\".format(test.isna().sum().any()))\n",
        "print(\"Missing values at train? \\nR: {}\".format(train.isna().sum().any()))\n",
        "print(\"Missing values at features? \\nR: {}\".format(features.isna().sum().any()))\n",
        "print(\"Missing values at stores? \\nR: {}\".format(stores.isna().sum().any()))"
      ],
      "execution_count": 15,
      "outputs": [
        {
          "output_type": "stream",
          "text": [
            "Missing values at test? \n",
            "R: False\n",
            "Missing values at train? \n",
            "R: False\n",
            "Missing values at features? \n",
            "R: True\n",
            "Missing values at stores? \n",
            "R: False\n"
          ],
          "name": "stdout"
        }
      ]
    },
    {
      "cell_type": "code",
      "metadata": {
        "colab": {
          "base_uri": "https://localhost:8080/"
        },
        "id": "ip15w1T_BlHB",
        "outputId": "7eac9bf0-17c6-45a6-e5e3-4faa7a22235f"
      },
      "source": [
        "# Analyzing missing data in features \n",
        "\n",
        "features.isna().sum()"
      ],
      "execution_count": 16,
      "outputs": [
        {
          "output_type": "execute_result",
          "data": {
            "text/plain": [
              "Store              0\n",
              "Date               0\n",
              "Temperature        0\n",
              "Fuel_Price         0\n",
              "MarkDown1       4158\n",
              "MarkDown2       5269\n",
              "MarkDown3       4577\n",
              "MarkDown4       4726\n",
              "MarkDown5       4140\n",
              "CPI              585\n",
              "Unemployment     585\n",
              "IsHoliday          0\n",
              "dtype: int64"
            ]
          },
          "metadata": {
            "tags": []
          },
          "execution_count": 16
        }
      ]
    },
    {
      "cell_type": "markdown",
      "metadata": {
        "id": "zyEZRSKoHpQp"
      },
      "source": [
        "### Analyzing the data\n",
        "\n",
        "##### the store and feature files should be joined to the train and test datasets "
      ]
    },
    {
      "cell_type": "code",
      "metadata": {
        "id": "7qAuoRFNJJTn"
      },
      "source": [
        "# test\n",
        "train_new = pd.merge(train, stores, on='Store', how='outer', indicator=True) \n",
        "train_new.columns = ['Store', 'Dept', 'Date', 'Weekly_Sales', 'IsHoliday', 'Type', 'Size', '_merge_Train_store']\n",
        "train_new_feat = pd.merge(train_new, features, on=['Store', 'Date', 'IsHoliday'], how='outer', indicator=True) \n"
      ],
      "execution_count": 17,
      "outputs": []
    },
    {
      "cell_type": "code",
      "metadata": {
        "colab": {
          "base_uri": "https://localhost:8080/"
        },
        "id": "6sE1L2qRMZYR",
        "outputId": "53fd23b9-aded-4d49-d76a-03ab62e14cf6"
      },
      "source": [
        "train_new_feat.shape, train_new.shape, train.shape, stores.shape"
      ],
      "execution_count": 18,
      "outputs": [
        {
          "output_type": "execute_result",
          "data": {
            "text/plain": [
              "((423325, 18), (421570, 8), (421570, 5), (45, 3))"
            ]
          },
          "metadata": {
            "tags": []
          },
          "execution_count": 18
        }
      ]
    },
    {
      "cell_type": "code",
      "metadata": {
        "colab": {
          "base_uri": "https://localhost:8080/"
        },
        "id": "UYgLwTmvJtqO",
        "outputId": "f8746449-8db5-4ddf-a461-8bc1ae33fe7f"
      },
      "source": [
        "train_new['_merge_Train_store'].value_counts()"
      ],
      "execution_count": 19,
      "outputs": [
        {
          "output_type": "execute_result",
          "data": {
            "text/plain": [
              "both          421570\n",
              "right_only         0\n",
              "left_only          0\n",
              "Name: _merge_Train_store, dtype: int64"
            ]
          },
          "metadata": {
            "tags": []
          },
          "execution_count": 19
        }
      ]
    },
    {
      "cell_type": "code",
      "metadata": {
        "colab": {
          "base_uri": "https://localhost:8080/"
        },
        "id": "aafRQ7ftJ6kE",
        "outputId": "b968ea19-0297-4655-e886-3474b5df03ad"
      },
      "source": [
        "train_new_feat['_merge'].value_counts()"
      ],
      "execution_count": 20,
      "outputs": [
        {
          "output_type": "execute_result",
          "data": {
            "text/plain": [
              "both          421570\n",
              "right_only      1755\n",
              "left_only          0\n",
              "Name: _merge, dtype: int64"
            ]
          },
          "metadata": {
            "tags": []
          },
          "execution_count": 20
        }
      ]
    },
    {
      "cell_type": "code",
      "metadata": {
        "id": "f5tDrda2KaC6"
      },
      "source": [
        "#Change dataframes train e test\n",
        "\n",
        "# Train\n",
        "df_train = train.merge(stores, how='left', on='Store')\n",
        "df_train = df_train.merge(features, how='left', on=['Store', 'Date', 'IsHoliday'])\n",
        "\n",
        "# Test \n",
        "df_test = test.merge(stores, how='left', on='Store')\n",
        "df_test = df_test.merge(features, how='left', on=['Store', 'Date', 'IsHoliday'])\n"
      ],
      "execution_count": 21,
      "outputs": []
    },
    {
      "cell_type": "code",
      "metadata": {
        "colab": {
          "base_uri": "https://localhost:8080/"
        },
        "id": "Gy8cDenzVicQ",
        "outputId": "786d0fde-201e-4abd-b0d2-a946f9eae98e"
      },
      "source": [
        "df_train.columns"
      ],
      "execution_count": 22,
      "outputs": [
        {
          "output_type": "execute_result",
          "data": {
            "text/plain": [
              "Index(['Store', 'Dept', 'Date', 'Weekly_Sales', 'IsHoliday', 'Type', 'Size',\n",
              "       'Temperature', 'Fuel_Price', 'MarkDown1', 'MarkDown2', 'MarkDown3',\n",
              "       'MarkDown4', 'MarkDown5', 'CPI', 'Unemployment'],\n",
              "      dtype='object')"
            ]
          },
          "metadata": {
            "tags": []
          },
          "execution_count": 22
        }
      ]
    },
    {
      "cell_type": "code",
      "metadata": {
        "id": "R9I3Nv4HJ7bG"
      },
      "source": [
        "df_train.drop(columns=['MarkDown1', 'MarkDown2', 'MarkDown3',\n",
        "       'MarkDown4', 'MarkDown5'], inplace=True)\n",
        "df_test.drop(columns=['MarkDown1', 'MarkDown2', 'MarkDown3',\n",
        "       'MarkDown4', 'MarkDown5'], inplace=True)\n",
        "\n"
      ],
      "execution_count": 23,
      "outputs": []
    },
    {
      "cell_type": "code",
      "metadata": {
        "colab": {
          "base_uri": "https://localhost:8080/",
          "height": 204
        },
        "id": "7A2rgOstMYYE",
        "outputId": "eb47f266-5ef8-49b3-e0a9-12b1c3fcea49"
      },
      "source": [
        "df_test.head()"
      ],
      "execution_count": 24,
      "outputs": [
        {
          "output_type": "execute_result",
          "data": {
            "text/html": [
              "<div>\n",
              "<style scoped>\n",
              "    .dataframe tbody tr th:only-of-type {\n",
              "        vertical-align: middle;\n",
              "    }\n",
              "\n",
              "    .dataframe tbody tr th {\n",
              "        vertical-align: top;\n",
              "    }\n",
              "\n",
              "    .dataframe thead th {\n",
              "        text-align: right;\n",
              "    }\n",
              "</style>\n",
              "<table border=\"1\" class=\"dataframe\">\n",
              "  <thead>\n",
              "    <tr style=\"text-align: right;\">\n",
              "      <th></th>\n",
              "      <th>Store</th>\n",
              "      <th>Dept</th>\n",
              "      <th>Date</th>\n",
              "      <th>IsHoliday</th>\n",
              "      <th>Type</th>\n",
              "      <th>Size</th>\n",
              "      <th>Temperature</th>\n",
              "      <th>Fuel_Price</th>\n",
              "      <th>CPI</th>\n",
              "      <th>Unemployment</th>\n",
              "    </tr>\n",
              "  </thead>\n",
              "  <tbody>\n",
              "    <tr>\n",
              "      <th>0</th>\n",
              "      <td>1</td>\n",
              "      <td>1</td>\n",
              "      <td>2012-11-02</td>\n",
              "      <td>False</td>\n",
              "      <td>A</td>\n",
              "      <td>151315</td>\n",
              "      <td>55.32</td>\n",
              "      <td>3.386</td>\n",
              "      <td>223.462779</td>\n",
              "      <td>6.573</td>\n",
              "    </tr>\n",
              "    <tr>\n",
              "      <th>1</th>\n",
              "      <td>1</td>\n",
              "      <td>1</td>\n",
              "      <td>2012-11-09</td>\n",
              "      <td>False</td>\n",
              "      <td>A</td>\n",
              "      <td>151315</td>\n",
              "      <td>61.24</td>\n",
              "      <td>3.314</td>\n",
              "      <td>223.481307</td>\n",
              "      <td>6.573</td>\n",
              "    </tr>\n",
              "    <tr>\n",
              "      <th>2</th>\n",
              "      <td>1</td>\n",
              "      <td>1</td>\n",
              "      <td>2012-11-16</td>\n",
              "      <td>False</td>\n",
              "      <td>A</td>\n",
              "      <td>151315</td>\n",
              "      <td>52.92</td>\n",
              "      <td>3.252</td>\n",
              "      <td>223.512911</td>\n",
              "      <td>6.573</td>\n",
              "    </tr>\n",
              "    <tr>\n",
              "      <th>3</th>\n",
              "      <td>1</td>\n",
              "      <td>1</td>\n",
              "      <td>2012-11-23</td>\n",
              "      <td>True</td>\n",
              "      <td>A</td>\n",
              "      <td>151315</td>\n",
              "      <td>56.23</td>\n",
              "      <td>3.211</td>\n",
              "      <td>223.561947</td>\n",
              "      <td>6.573</td>\n",
              "    </tr>\n",
              "    <tr>\n",
              "      <th>4</th>\n",
              "      <td>1</td>\n",
              "      <td>1</td>\n",
              "      <td>2012-11-30</td>\n",
              "      <td>False</td>\n",
              "      <td>A</td>\n",
              "      <td>151315</td>\n",
              "      <td>52.34</td>\n",
              "      <td>3.207</td>\n",
              "      <td>223.610984</td>\n",
              "      <td>6.573</td>\n",
              "    </tr>\n",
              "  </tbody>\n",
              "</table>\n",
              "</div>"
            ],
            "text/plain": [
              "   Store  Dept        Date  ...  Fuel_Price         CPI  Unemployment\n",
              "0      1     1  2012-11-02  ...       3.386  223.462779         6.573\n",
              "1      1     1  2012-11-09  ...       3.314  223.481307         6.573\n",
              "2      1     1  2012-11-16  ...       3.252  223.512911         6.573\n",
              "3      1     1  2012-11-23  ...       3.211  223.561947         6.573\n",
              "4      1     1  2012-11-30  ...       3.207  223.610984         6.573\n",
              "\n",
              "[5 rows x 10 columns]"
            ]
          },
          "metadata": {
            "tags": []
          },
          "execution_count": 24
        }
      ]
    },
    {
      "cell_type": "code",
      "metadata": {
        "id": "LJ5ETt-bJnxm"
      },
      "source": [
        "# Change formatc of Date\n",
        "df_train['Date'] = pd.to_datetime(df_train['Date'], format='%Y-%m-%d')\n",
        "df_test['Date'] = pd.to_datetime(df_test['Date'], format='%Y-%m-%d')"
      ],
      "execution_count": 25,
      "outputs": []
    },
    {
      "cell_type": "code",
      "metadata": {
        "colab": {
          "base_uri": "https://localhost:8080/",
          "height": 419
        },
        "id": "t7pO2vToNKfs",
        "outputId": "1067b1e5-7e9f-4e4a-f140-3bef3be1ad44"
      },
      "source": [
        "df_train"
      ],
      "execution_count": 26,
      "outputs": [
        {
          "output_type": "execute_result",
          "data": {
            "text/html": [
              "<div>\n",
              "<style scoped>\n",
              "    .dataframe tbody tr th:only-of-type {\n",
              "        vertical-align: middle;\n",
              "    }\n",
              "\n",
              "    .dataframe tbody tr th {\n",
              "        vertical-align: top;\n",
              "    }\n",
              "\n",
              "    .dataframe thead th {\n",
              "        text-align: right;\n",
              "    }\n",
              "</style>\n",
              "<table border=\"1\" class=\"dataframe\">\n",
              "  <thead>\n",
              "    <tr style=\"text-align: right;\">\n",
              "      <th></th>\n",
              "      <th>Store</th>\n",
              "      <th>Dept</th>\n",
              "      <th>Date</th>\n",
              "      <th>Weekly_Sales</th>\n",
              "      <th>IsHoliday</th>\n",
              "      <th>Type</th>\n",
              "      <th>Size</th>\n",
              "      <th>Temperature</th>\n",
              "      <th>Fuel_Price</th>\n",
              "      <th>CPI</th>\n",
              "      <th>Unemployment</th>\n",
              "    </tr>\n",
              "  </thead>\n",
              "  <tbody>\n",
              "    <tr>\n",
              "      <th>0</th>\n",
              "      <td>1</td>\n",
              "      <td>1</td>\n",
              "      <td>2010-02-05</td>\n",
              "      <td>24924.50</td>\n",
              "      <td>False</td>\n",
              "      <td>A</td>\n",
              "      <td>151315</td>\n",
              "      <td>42.31</td>\n",
              "      <td>2.572</td>\n",
              "      <td>211.096358</td>\n",
              "      <td>8.106</td>\n",
              "    </tr>\n",
              "    <tr>\n",
              "      <th>1</th>\n",
              "      <td>1</td>\n",
              "      <td>1</td>\n",
              "      <td>2010-02-12</td>\n",
              "      <td>46039.49</td>\n",
              "      <td>True</td>\n",
              "      <td>A</td>\n",
              "      <td>151315</td>\n",
              "      <td>38.51</td>\n",
              "      <td>2.548</td>\n",
              "      <td>211.242170</td>\n",
              "      <td>8.106</td>\n",
              "    </tr>\n",
              "    <tr>\n",
              "      <th>2</th>\n",
              "      <td>1</td>\n",
              "      <td>1</td>\n",
              "      <td>2010-02-19</td>\n",
              "      <td>41595.55</td>\n",
              "      <td>False</td>\n",
              "      <td>A</td>\n",
              "      <td>151315</td>\n",
              "      <td>39.93</td>\n",
              "      <td>2.514</td>\n",
              "      <td>211.289143</td>\n",
              "      <td>8.106</td>\n",
              "    </tr>\n",
              "    <tr>\n",
              "      <th>3</th>\n",
              "      <td>1</td>\n",
              "      <td>1</td>\n",
              "      <td>2010-02-26</td>\n",
              "      <td>19403.54</td>\n",
              "      <td>False</td>\n",
              "      <td>A</td>\n",
              "      <td>151315</td>\n",
              "      <td>46.63</td>\n",
              "      <td>2.561</td>\n",
              "      <td>211.319643</td>\n",
              "      <td>8.106</td>\n",
              "    </tr>\n",
              "    <tr>\n",
              "      <th>4</th>\n",
              "      <td>1</td>\n",
              "      <td>1</td>\n",
              "      <td>2010-03-05</td>\n",
              "      <td>21827.90</td>\n",
              "      <td>False</td>\n",
              "      <td>A</td>\n",
              "      <td>151315</td>\n",
              "      <td>46.50</td>\n",
              "      <td>2.625</td>\n",
              "      <td>211.350143</td>\n",
              "      <td>8.106</td>\n",
              "    </tr>\n",
              "    <tr>\n",
              "      <th>...</th>\n",
              "      <td>...</td>\n",
              "      <td>...</td>\n",
              "      <td>...</td>\n",
              "      <td>...</td>\n",
              "      <td>...</td>\n",
              "      <td>...</td>\n",
              "      <td>...</td>\n",
              "      <td>...</td>\n",
              "      <td>...</td>\n",
              "      <td>...</td>\n",
              "      <td>...</td>\n",
              "    </tr>\n",
              "    <tr>\n",
              "      <th>421565</th>\n",
              "      <td>45</td>\n",
              "      <td>98</td>\n",
              "      <td>2012-09-28</td>\n",
              "      <td>508.37</td>\n",
              "      <td>False</td>\n",
              "      <td>B</td>\n",
              "      <td>118221</td>\n",
              "      <td>64.88</td>\n",
              "      <td>3.997</td>\n",
              "      <td>192.013558</td>\n",
              "      <td>8.684</td>\n",
              "    </tr>\n",
              "    <tr>\n",
              "      <th>421566</th>\n",
              "      <td>45</td>\n",
              "      <td>98</td>\n",
              "      <td>2012-10-05</td>\n",
              "      <td>628.10</td>\n",
              "      <td>False</td>\n",
              "      <td>B</td>\n",
              "      <td>118221</td>\n",
              "      <td>64.89</td>\n",
              "      <td>3.985</td>\n",
              "      <td>192.170412</td>\n",
              "      <td>8.667</td>\n",
              "    </tr>\n",
              "    <tr>\n",
              "      <th>421567</th>\n",
              "      <td>45</td>\n",
              "      <td>98</td>\n",
              "      <td>2012-10-12</td>\n",
              "      <td>1061.02</td>\n",
              "      <td>False</td>\n",
              "      <td>B</td>\n",
              "      <td>118221</td>\n",
              "      <td>54.47</td>\n",
              "      <td>4.000</td>\n",
              "      <td>192.327265</td>\n",
              "      <td>8.667</td>\n",
              "    </tr>\n",
              "    <tr>\n",
              "      <th>421568</th>\n",
              "      <td>45</td>\n",
              "      <td>98</td>\n",
              "      <td>2012-10-19</td>\n",
              "      <td>760.01</td>\n",
              "      <td>False</td>\n",
              "      <td>B</td>\n",
              "      <td>118221</td>\n",
              "      <td>56.47</td>\n",
              "      <td>3.969</td>\n",
              "      <td>192.330854</td>\n",
              "      <td>8.667</td>\n",
              "    </tr>\n",
              "    <tr>\n",
              "      <th>421569</th>\n",
              "      <td>45</td>\n",
              "      <td>98</td>\n",
              "      <td>2012-10-26</td>\n",
              "      <td>1076.80</td>\n",
              "      <td>False</td>\n",
              "      <td>B</td>\n",
              "      <td>118221</td>\n",
              "      <td>58.85</td>\n",
              "      <td>3.882</td>\n",
              "      <td>192.308899</td>\n",
              "      <td>8.667</td>\n",
              "    </tr>\n",
              "  </tbody>\n",
              "</table>\n",
              "<p>421570 rows × 11 columns</p>\n",
              "</div>"
            ],
            "text/plain": [
              "        Store  Dept       Date  ...  Fuel_Price         CPI Unemployment\n",
              "0           1     1 2010-02-05  ...       2.572  211.096358        8.106\n",
              "1           1     1 2010-02-12  ...       2.548  211.242170        8.106\n",
              "2           1     1 2010-02-19  ...       2.514  211.289143        8.106\n",
              "3           1     1 2010-02-26  ...       2.561  211.319643        8.106\n",
              "4           1     1 2010-03-05  ...       2.625  211.350143        8.106\n",
              "...       ...   ...        ...  ...         ...         ...          ...\n",
              "421565     45    98 2012-09-28  ...       3.997  192.013558        8.684\n",
              "421566     45    98 2012-10-05  ...       3.985  192.170412        8.667\n",
              "421567     45    98 2012-10-12  ...       4.000  192.327265        8.667\n",
              "421568     45    98 2012-10-19  ...       3.969  192.330854        8.667\n",
              "421569     45    98 2012-10-26  ...       3.882  192.308899        8.667\n",
              "\n",
              "[421570 rows x 11 columns]"
            ]
          },
          "metadata": {
            "tags": []
          },
          "execution_count": 26
        }
      ]
    },
    {
      "cell_type": "code",
      "metadata": {
        "id": "FayEusbs1xrP"
      },
      "source": [
        "# convert date for week and year\n",
        "# References: https://docs.python.org/3/library/datetime.html\n",
        "\n",
        "df_train['week'] = df_train['Date'].dt.isocalendar().week\n",
        "df_test['week'] = df_test['Date'].dt.isocalendar().week\n",
        "\n",
        "df_train['year'] = df_train['Date'].dt.isocalendar().year\n",
        "df_test['year'] = df_test['Date'].dt.isocalendar().year"
      ],
      "execution_count": 27,
      "outputs": []
    },
    {
      "cell_type": "code",
      "metadata": {
        "colab": {
          "base_uri": "https://localhost:8080/",
          "height": 204
        },
        "id": "ABd1DoSQ3Il3",
        "outputId": "c5811615-bb08-45e6-cc50-2e3fae884421"
      },
      "source": [
        "df_train.head()"
      ],
      "execution_count": 28,
      "outputs": [
        {
          "output_type": "execute_result",
          "data": {
            "text/html": [
              "<div>\n",
              "<style scoped>\n",
              "    .dataframe tbody tr th:only-of-type {\n",
              "        vertical-align: middle;\n",
              "    }\n",
              "\n",
              "    .dataframe tbody tr th {\n",
              "        vertical-align: top;\n",
              "    }\n",
              "\n",
              "    .dataframe thead th {\n",
              "        text-align: right;\n",
              "    }\n",
              "</style>\n",
              "<table border=\"1\" class=\"dataframe\">\n",
              "  <thead>\n",
              "    <tr style=\"text-align: right;\">\n",
              "      <th></th>\n",
              "      <th>Store</th>\n",
              "      <th>Dept</th>\n",
              "      <th>Date</th>\n",
              "      <th>Weekly_Sales</th>\n",
              "      <th>IsHoliday</th>\n",
              "      <th>Type</th>\n",
              "      <th>Size</th>\n",
              "      <th>Temperature</th>\n",
              "      <th>Fuel_Price</th>\n",
              "      <th>CPI</th>\n",
              "      <th>Unemployment</th>\n",
              "      <th>week</th>\n",
              "      <th>year</th>\n",
              "    </tr>\n",
              "  </thead>\n",
              "  <tbody>\n",
              "    <tr>\n",
              "      <th>0</th>\n",
              "      <td>1</td>\n",
              "      <td>1</td>\n",
              "      <td>2010-02-05</td>\n",
              "      <td>24924.50</td>\n",
              "      <td>False</td>\n",
              "      <td>A</td>\n",
              "      <td>151315</td>\n",
              "      <td>42.31</td>\n",
              "      <td>2.572</td>\n",
              "      <td>211.096358</td>\n",
              "      <td>8.106</td>\n",
              "      <td>5</td>\n",
              "      <td>2010</td>\n",
              "    </tr>\n",
              "    <tr>\n",
              "      <th>1</th>\n",
              "      <td>1</td>\n",
              "      <td>1</td>\n",
              "      <td>2010-02-12</td>\n",
              "      <td>46039.49</td>\n",
              "      <td>True</td>\n",
              "      <td>A</td>\n",
              "      <td>151315</td>\n",
              "      <td>38.51</td>\n",
              "      <td>2.548</td>\n",
              "      <td>211.242170</td>\n",
              "      <td>8.106</td>\n",
              "      <td>6</td>\n",
              "      <td>2010</td>\n",
              "    </tr>\n",
              "    <tr>\n",
              "      <th>2</th>\n",
              "      <td>1</td>\n",
              "      <td>1</td>\n",
              "      <td>2010-02-19</td>\n",
              "      <td>41595.55</td>\n",
              "      <td>False</td>\n",
              "      <td>A</td>\n",
              "      <td>151315</td>\n",
              "      <td>39.93</td>\n",
              "      <td>2.514</td>\n",
              "      <td>211.289143</td>\n",
              "      <td>8.106</td>\n",
              "      <td>7</td>\n",
              "      <td>2010</td>\n",
              "    </tr>\n",
              "    <tr>\n",
              "      <th>3</th>\n",
              "      <td>1</td>\n",
              "      <td>1</td>\n",
              "      <td>2010-02-26</td>\n",
              "      <td>19403.54</td>\n",
              "      <td>False</td>\n",
              "      <td>A</td>\n",
              "      <td>151315</td>\n",
              "      <td>46.63</td>\n",
              "      <td>2.561</td>\n",
              "      <td>211.319643</td>\n",
              "      <td>8.106</td>\n",
              "      <td>8</td>\n",
              "      <td>2010</td>\n",
              "    </tr>\n",
              "    <tr>\n",
              "      <th>4</th>\n",
              "      <td>1</td>\n",
              "      <td>1</td>\n",
              "      <td>2010-03-05</td>\n",
              "      <td>21827.90</td>\n",
              "      <td>False</td>\n",
              "      <td>A</td>\n",
              "      <td>151315</td>\n",
              "      <td>46.50</td>\n",
              "      <td>2.625</td>\n",
              "      <td>211.350143</td>\n",
              "      <td>8.106</td>\n",
              "      <td>9</td>\n",
              "      <td>2010</td>\n",
              "    </tr>\n",
              "  </tbody>\n",
              "</table>\n",
              "</div>"
            ],
            "text/plain": [
              "   Store  Dept       Date  Weekly_Sales  ...         CPI Unemployment  week  year\n",
              "0      1     1 2010-02-05      24924.50  ...  211.096358        8.106     5  2010\n",
              "1      1     1 2010-02-12      46039.49  ...  211.242170        8.106     6  2010\n",
              "2      1     1 2010-02-19      41595.55  ...  211.289143        8.106     7  2010\n",
              "3      1     1 2010-02-26      19403.54  ...  211.319643        8.106     8  2010\n",
              "4      1     1 2010-03-05      21827.90  ...  211.350143        8.106     9  2010\n",
              "\n",
              "[5 rows x 13 columns]"
            ]
          },
          "metadata": {
            "tags": []
          },
          "execution_count": 28
        }
      ]
    },
    {
      "cell_type": "code",
      "metadata": {
        "colab": {
          "base_uri": "https://localhost:8080/",
          "height": 359
        },
        "id": "HTfTJrtS3RcP",
        "outputId": "1821a08b-fbe1-4ec9-e3f1-97bb68e42407"
      },
      "source": [
        "df_train.describe().T"
      ],
      "execution_count": 29,
      "outputs": [
        {
          "output_type": "execute_result",
          "data": {
            "text/html": [
              "<div>\n",
              "<style scoped>\n",
              "    .dataframe tbody tr th:only-of-type {\n",
              "        vertical-align: middle;\n",
              "    }\n",
              "\n",
              "    .dataframe tbody tr th {\n",
              "        vertical-align: top;\n",
              "    }\n",
              "\n",
              "    .dataframe thead th {\n",
              "        text-align: right;\n",
              "    }\n",
              "</style>\n",
              "<table border=\"1\" class=\"dataframe\">\n",
              "  <thead>\n",
              "    <tr style=\"text-align: right;\">\n",
              "      <th></th>\n",
              "      <th>count</th>\n",
              "      <th>mean</th>\n",
              "      <th>std</th>\n",
              "      <th>min</th>\n",
              "      <th>25%</th>\n",
              "      <th>50%</th>\n",
              "      <th>75%</th>\n",
              "      <th>max</th>\n",
              "    </tr>\n",
              "  </thead>\n",
              "  <tbody>\n",
              "    <tr>\n",
              "      <th>Store</th>\n",
              "      <td>421570.0</td>\n",
              "      <td>22.200546</td>\n",
              "      <td>12.785297</td>\n",
              "      <td>1.000</td>\n",
              "      <td>11.000000</td>\n",
              "      <td>22.00000</td>\n",
              "      <td>33.000000</td>\n",
              "      <td>45.000000</td>\n",
              "    </tr>\n",
              "    <tr>\n",
              "      <th>Dept</th>\n",
              "      <td>421570.0</td>\n",
              "      <td>44.260317</td>\n",
              "      <td>30.492054</td>\n",
              "      <td>1.000</td>\n",
              "      <td>18.000000</td>\n",
              "      <td>37.00000</td>\n",
              "      <td>74.000000</td>\n",
              "      <td>99.000000</td>\n",
              "    </tr>\n",
              "    <tr>\n",
              "      <th>Weekly_Sales</th>\n",
              "      <td>421570.0</td>\n",
              "      <td>15981.258123</td>\n",
              "      <td>22711.183519</td>\n",
              "      <td>-4988.940</td>\n",
              "      <td>2079.650000</td>\n",
              "      <td>7612.03000</td>\n",
              "      <td>20205.852500</td>\n",
              "      <td>693099.360000</td>\n",
              "    </tr>\n",
              "    <tr>\n",
              "      <th>Size</th>\n",
              "      <td>421570.0</td>\n",
              "      <td>136727.915739</td>\n",
              "      <td>60980.583328</td>\n",
              "      <td>34875.000</td>\n",
              "      <td>93638.000000</td>\n",
              "      <td>140167.00000</td>\n",
              "      <td>202505.000000</td>\n",
              "      <td>219622.000000</td>\n",
              "    </tr>\n",
              "    <tr>\n",
              "      <th>Temperature</th>\n",
              "      <td>421570.0</td>\n",
              "      <td>60.090059</td>\n",
              "      <td>18.447931</td>\n",
              "      <td>-2.060</td>\n",
              "      <td>46.680000</td>\n",
              "      <td>62.09000</td>\n",
              "      <td>74.280000</td>\n",
              "      <td>100.140000</td>\n",
              "    </tr>\n",
              "    <tr>\n",
              "      <th>Fuel_Price</th>\n",
              "      <td>421570.0</td>\n",
              "      <td>3.361027</td>\n",
              "      <td>0.458515</td>\n",
              "      <td>2.472</td>\n",
              "      <td>2.933000</td>\n",
              "      <td>3.45200</td>\n",
              "      <td>3.738000</td>\n",
              "      <td>4.468000</td>\n",
              "    </tr>\n",
              "    <tr>\n",
              "      <th>CPI</th>\n",
              "      <td>421570.0</td>\n",
              "      <td>171.201947</td>\n",
              "      <td>39.159276</td>\n",
              "      <td>126.064</td>\n",
              "      <td>132.022667</td>\n",
              "      <td>182.31878</td>\n",
              "      <td>212.416993</td>\n",
              "      <td>227.232807</td>\n",
              "    </tr>\n",
              "    <tr>\n",
              "      <th>Unemployment</th>\n",
              "      <td>421570.0</td>\n",
              "      <td>7.960289</td>\n",
              "      <td>1.863296</td>\n",
              "      <td>3.879</td>\n",
              "      <td>6.891000</td>\n",
              "      <td>7.86600</td>\n",
              "      <td>8.572000</td>\n",
              "      <td>14.313000</td>\n",
              "    </tr>\n",
              "    <tr>\n",
              "      <th>week</th>\n",
              "      <td>421570.0</td>\n",
              "      <td>25.826762</td>\n",
              "      <td>14.151887</td>\n",
              "      <td>1.000</td>\n",
              "      <td>14.000000</td>\n",
              "      <td>26.00000</td>\n",
              "      <td>38.000000</td>\n",
              "      <td>52.000000</td>\n",
              "    </tr>\n",
              "    <tr>\n",
              "      <th>year</th>\n",
              "      <td>421570.0</td>\n",
              "      <td>2010.968591</td>\n",
              "      <td>0.796876</td>\n",
              "      <td>2010.000</td>\n",
              "      <td>2010.000000</td>\n",
              "      <td>2011.00000</td>\n",
              "      <td>2012.000000</td>\n",
              "      <td>2012.000000</td>\n",
              "    </tr>\n",
              "  </tbody>\n",
              "</table>\n",
              "</div>"
            ],
            "text/plain": [
              "                 count           mean  ...            75%            max\n",
              "Store         421570.0      22.200546  ...      33.000000      45.000000\n",
              "Dept          421570.0      44.260317  ...      74.000000      99.000000\n",
              "Weekly_Sales  421570.0   15981.258123  ...   20205.852500  693099.360000\n",
              "Size          421570.0  136727.915739  ...  202505.000000  219622.000000\n",
              "Temperature   421570.0      60.090059  ...      74.280000     100.140000\n",
              "Fuel_Price    421570.0       3.361027  ...       3.738000       4.468000\n",
              "CPI           421570.0     171.201947  ...     212.416993     227.232807\n",
              "Unemployment  421570.0       7.960289  ...       8.572000      14.313000\n",
              "week          421570.0      25.826762  ...      38.000000      52.000000\n",
              "year          421570.0    2010.968591  ...    2012.000000    2012.000000\n",
              "\n",
              "[10 rows x 8 columns]"
            ]
          },
          "metadata": {
            "tags": []
          },
          "execution_count": 29
        }
      ]
    },
    {
      "cell_type": "code",
      "metadata": {
        "colab": {
          "base_uri": "https://localhost:8080/",
          "height": 204
        },
        "id": "1E-x42IN3LwC",
        "outputId": "d44072bd-c21c-44b2-9e82-9901bdd64d24"
      },
      "source": [
        "df_test.head()"
      ],
      "execution_count": 30,
      "outputs": [
        {
          "output_type": "execute_result",
          "data": {
            "text/html": [
              "<div>\n",
              "<style scoped>\n",
              "    .dataframe tbody tr th:only-of-type {\n",
              "        vertical-align: middle;\n",
              "    }\n",
              "\n",
              "    .dataframe tbody tr th {\n",
              "        vertical-align: top;\n",
              "    }\n",
              "\n",
              "    .dataframe thead th {\n",
              "        text-align: right;\n",
              "    }\n",
              "</style>\n",
              "<table border=\"1\" class=\"dataframe\">\n",
              "  <thead>\n",
              "    <tr style=\"text-align: right;\">\n",
              "      <th></th>\n",
              "      <th>Store</th>\n",
              "      <th>Dept</th>\n",
              "      <th>Date</th>\n",
              "      <th>IsHoliday</th>\n",
              "      <th>Type</th>\n",
              "      <th>Size</th>\n",
              "      <th>Temperature</th>\n",
              "      <th>Fuel_Price</th>\n",
              "      <th>CPI</th>\n",
              "      <th>Unemployment</th>\n",
              "      <th>week</th>\n",
              "      <th>year</th>\n",
              "    </tr>\n",
              "  </thead>\n",
              "  <tbody>\n",
              "    <tr>\n",
              "      <th>0</th>\n",
              "      <td>1</td>\n",
              "      <td>1</td>\n",
              "      <td>2012-11-02</td>\n",
              "      <td>False</td>\n",
              "      <td>A</td>\n",
              "      <td>151315</td>\n",
              "      <td>55.32</td>\n",
              "      <td>3.386</td>\n",
              "      <td>223.462779</td>\n",
              "      <td>6.573</td>\n",
              "      <td>44</td>\n",
              "      <td>2012</td>\n",
              "    </tr>\n",
              "    <tr>\n",
              "      <th>1</th>\n",
              "      <td>1</td>\n",
              "      <td>1</td>\n",
              "      <td>2012-11-09</td>\n",
              "      <td>False</td>\n",
              "      <td>A</td>\n",
              "      <td>151315</td>\n",
              "      <td>61.24</td>\n",
              "      <td>3.314</td>\n",
              "      <td>223.481307</td>\n",
              "      <td>6.573</td>\n",
              "      <td>45</td>\n",
              "      <td>2012</td>\n",
              "    </tr>\n",
              "    <tr>\n",
              "      <th>2</th>\n",
              "      <td>1</td>\n",
              "      <td>1</td>\n",
              "      <td>2012-11-16</td>\n",
              "      <td>False</td>\n",
              "      <td>A</td>\n",
              "      <td>151315</td>\n",
              "      <td>52.92</td>\n",
              "      <td>3.252</td>\n",
              "      <td>223.512911</td>\n",
              "      <td>6.573</td>\n",
              "      <td>46</td>\n",
              "      <td>2012</td>\n",
              "    </tr>\n",
              "    <tr>\n",
              "      <th>3</th>\n",
              "      <td>1</td>\n",
              "      <td>1</td>\n",
              "      <td>2012-11-23</td>\n",
              "      <td>True</td>\n",
              "      <td>A</td>\n",
              "      <td>151315</td>\n",
              "      <td>56.23</td>\n",
              "      <td>3.211</td>\n",
              "      <td>223.561947</td>\n",
              "      <td>6.573</td>\n",
              "      <td>47</td>\n",
              "      <td>2012</td>\n",
              "    </tr>\n",
              "    <tr>\n",
              "      <th>4</th>\n",
              "      <td>1</td>\n",
              "      <td>1</td>\n",
              "      <td>2012-11-30</td>\n",
              "      <td>False</td>\n",
              "      <td>A</td>\n",
              "      <td>151315</td>\n",
              "      <td>52.34</td>\n",
              "      <td>3.207</td>\n",
              "      <td>223.610984</td>\n",
              "      <td>6.573</td>\n",
              "      <td>48</td>\n",
              "      <td>2012</td>\n",
              "    </tr>\n",
              "  </tbody>\n",
              "</table>\n",
              "</div>"
            ],
            "text/plain": [
              "   Store  Dept       Date  IsHoliday  ...         CPI  Unemployment  week  year\n",
              "0      1     1 2012-11-02      False  ...  223.462779         6.573    44  2012\n",
              "1      1     1 2012-11-09      False  ...  223.481307         6.573    45  2012\n",
              "2      1     1 2012-11-16      False  ...  223.512911         6.573    46  2012\n",
              "3      1     1 2012-11-23       True  ...  223.561947         6.573    47  2012\n",
              "4      1     1 2012-11-30      False  ...  223.610984         6.573    48  2012\n",
              "\n",
              "[5 rows x 12 columns]"
            ]
          },
          "metadata": {
            "tags": []
          },
          "execution_count": 30
        }
      ]
    },
    {
      "cell_type": "code",
      "metadata": {
        "colab": {
          "base_uri": "https://localhost:8080/",
          "height": 328
        },
        "id": "09M8OfwC3Qm1",
        "outputId": "b1c83ea8-3389-42c8-86ae-347c60267dcb"
      },
      "source": [
        "df_test.describe().T"
      ],
      "execution_count": 31,
      "outputs": [
        {
          "output_type": "execute_result",
          "data": {
            "text/html": [
              "<div>\n",
              "<style scoped>\n",
              "    .dataframe tbody tr th:only-of-type {\n",
              "        vertical-align: middle;\n",
              "    }\n",
              "\n",
              "    .dataframe tbody tr th {\n",
              "        vertical-align: top;\n",
              "    }\n",
              "\n",
              "    .dataframe thead th {\n",
              "        text-align: right;\n",
              "    }\n",
              "</style>\n",
              "<table border=\"1\" class=\"dataframe\">\n",
              "  <thead>\n",
              "    <tr style=\"text-align: right;\">\n",
              "      <th></th>\n",
              "      <th>count</th>\n",
              "      <th>mean</th>\n",
              "      <th>std</th>\n",
              "      <th>min</th>\n",
              "      <th>25%</th>\n",
              "      <th>50%</th>\n",
              "      <th>75%</th>\n",
              "      <th>max</th>\n",
              "    </tr>\n",
              "  </thead>\n",
              "  <tbody>\n",
              "    <tr>\n",
              "      <th>Store</th>\n",
              "      <td>115064.0</td>\n",
              "      <td>22.238207</td>\n",
              "      <td>12.809930</td>\n",
              "      <td>1.000000</td>\n",
              "      <td>11.000000</td>\n",
              "      <td>22.000000</td>\n",
              "      <td>33.000000</td>\n",
              "      <td>45.000000</td>\n",
              "    </tr>\n",
              "    <tr>\n",
              "      <th>Dept</th>\n",
              "      <td>115064.0</td>\n",
              "      <td>44.339524</td>\n",
              "      <td>30.656410</td>\n",
              "      <td>1.000000</td>\n",
              "      <td>18.000000</td>\n",
              "      <td>37.000000</td>\n",
              "      <td>74.000000</td>\n",
              "      <td>99.000000</td>\n",
              "    </tr>\n",
              "    <tr>\n",
              "      <th>Size</th>\n",
              "      <td>115064.0</td>\n",
              "      <td>136497.688921</td>\n",
              "      <td>61106.926438</td>\n",
              "      <td>34875.000000</td>\n",
              "      <td>93638.000000</td>\n",
              "      <td>140167.000000</td>\n",
              "      <td>202505.000000</td>\n",
              "      <td>219622.000000</td>\n",
              "    </tr>\n",
              "    <tr>\n",
              "      <th>Temperature</th>\n",
              "      <td>115064.0</td>\n",
              "      <td>53.941804</td>\n",
              "      <td>18.724153</td>\n",
              "      <td>-7.290000</td>\n",
              "      <td>39.820000</td>\n",
              "      <td>54.470000</td>\n",
              "      <td>67.350000</td>\n",
              "      <td>101.950000</td>\n",
              "    </tr>\n",
              "    <tr>\n",
              "      <th>Fuel_Price</th>\n",
              "      <td>115064.0</td>\n",
              "      <td>3.581546</td>\n",
              "      <td>0.239442</td>\n",
              "      <td>2.872000</td>\n",
              "      <td>3.431000</td>\n",
              "      <td>3.606000</td>\n",
              "      <td>3.766000</td>\n",
              "      <td>4.125000</td>\n",
              "    </tr>\n",
              "    <tr>\n",
              "      <th>CPI</th>\n",
              "      <td>76902.0</td>\n",
              "      <td>176.961347</td>\n",
              "      <td>41.239967</td>\n",
              "      <td>131.236226</td>\n",
              "      <td>138.402033</td>\n",
              "      <td>192.304445</td>\n",
              "      <td>223.244532</td>\n",
              "      <td>228.976456</td>\n",
              "    </tr>\n",
              "    <tr>\n",
              "      <th>Unemployment</th>\n",
              "      <td>76902.0</td>\n",
              "      <td>6.868733</td>\n",
              "      <td>1.583427</td>\n",
              "      <td>3.684000</td>\n",
              "      <td>5.771000</td>\n",
              "      <td>6.806000</td>\n",
              "      <td>8.036000</td>\n",
              "      <td>10.199000</td>\n",
              "    </tr>\n",
              "    <tr>\n",
              "      <th>week</th>\n",
              "      <td>115064.0</td>\n",
              "      <td>23.050963</td>\n",
              "      <td>15.750407</td>\n",
              "      <td>1.000000</td>\n",
              "      <td>10.000000</td>\n",
              "      <td>20.000000</td>\n",
              "      <td>30.000000</td>\n",
              "      <td>52.000000</td>\n",
              "    </tr>\n",
              "    <tr>\n",
              "      <th>year</th>\n",
              "      <td>115064.0</td>\n",
              "      <td>2012.767182</td>\n",
              "      <td>0.422629</td>\n",
              "      <td>2012.000000</td>\n",
              "      <td>2013.000000</td>\n",
              "      <td>2013.000000</td>\n",
              "      <td>2013.000000</td>\n",
              "      <td>2013.000000</td>\n",
              "    </tr>\n",
              "  </tbody>\n",
              "</table>\n",
              "</div>"
            ],
            "text/plain": [
              "                 count           mean  ...            75%            max\n",
              "Store         115064.0      22.238207  ...      33.000000      45.000000\n",
              "Dept          115064.0      44.339524  ...      74.000000      99.000000\n",
              "Size          115064.0  136497.688921  ...  202505.000000  219622.000000\n",
              "Temperature   115064.0      53.941804  ...      67.350000     101.950000\n",
              "Fuel_Price    115064.0       3.581546  ...       3.766000       4.125000\n",
              "CPI            76902.0     176.961347  ...     223.244532     228.976456\n",
              "Unemployment   76902.0       6.868733  ...       8.036000      10.199000\n",
              "week          115064.0      23.050963  ...      30.000000      52.000000\n",
              "year          115064.0    2012.767182  ...    2013.000000    2013.000000\n",
              "\n",
              "[9 rows x 8 columns]"
            ]
          },
          "metadata": {
            "tags": []
          },
          "execution_count": 31
        }
      ]
    },
    {
      "cell_type": "code",
      "metadata": {
        "colab": {
          "base_uri": "https://localhost:8080/"
        },
        "id": "ybrEEE4s3f37",
        "outputId": "d455daba-6c04-4b7a-f829-e3b65ae40be6"
      },
      "source": [
        "df_test.columns"
      ],
      "execution_count": 32,
      "outputs": [
        {
          "output_type": "execute_result",
          "data": {
            "text/plain": [
              "Index(['Store', 'Dept', 'Date', 'IsHoliday', 'Type', 'Size', 'Temperature',\n",
              "       'Fuel_Price', 'CPI', 'Unemployment', 'week', 'year'],\n",
              "      dtype='object')"
            ]
          },
          "metadata": {
            "tags": []
          },
          "execution_count": 32
        }
      ]
    },
    {
      "cell_type": "code",
      "metadata": {
        "colab": {
          "base_uri": "https://localhost:8080/"
        },
        "id": "THfy0uhJ3QpK",
        "outputId": "d9bf730f-da14-4101-9709-5687eaf49e3f"
      },
      "source": [
        "df_test['IsHoliday'].value_counts()"
      ],
      "execution_count": 33,
      "outputs": [
        {
          "output_type": "execute_result",
          "data": {
            "text/plain": [
              "False    106136\n",
              "True       8928\n",
              "Name: IsHoliday, dtype: int64"
            ]
          },
          "metadata": {
            "tags": []
          },
          "execution_count": 33
        }
      ]
    },
    {
      "cell_type": "code",
      "metadata": {
        "colab": {
          "base_uri": "https://localhost:8080/",
          "height": 204
        },
        "id": "GjN1sH_73QtM",
        "outputId": "1e369368-602a-4e75-e1fe-1c1634ce535c"
      },
      "source": [
        "df_train.tail()"
      ],
      "execution_count": 34,
      "outputs": [
        {
          "output_type": "execute_result",
          "data": {
            "text/html": [
              "<div>\n",
              "<style scoped>\n",
              "    .dataframe tbody tr th:only-of-type {\n",
              "        vertical-align: middle;\n",
              "    }\n",
              "\n",
              "    .dataframe tbody tr th {\n",
              "        vertical-align: top;\n",
              "    }\n",
              "\n",
              "    .dataframe thead th {\n",
              "        text-align: right;\n",
              "    }\n",
              "</style>\n",
              "<table border=\"1\" class=\"dataframe\">\n",
              "  <thead>\n",
              "    <tr style=\"text-align: right;\">\n",
              "      <th></th>\n",
              "      <th>Store</th>\n",
              "      <th>Dept</th>\n",
              "      <th>Date</th>\n",
              "      <th>Weekly_Sales</th>\n",
              "      <th>IsHoliday</th>\n",
              "      <th>Type</th>\n",
              "      <th>Size</th>\n",
              "      <th>Temperature</th>\n",
              "      <th>Fuel_Price</th>\n",
              "      <th>CPI</th>\n",
              "      <th>Unemployment</th>\n",
              "      <th>week</th>\n",
              "      <th>year</th>\n",
              "    </tr>\n",
              "  </thead>\n",
              "  <tbody>\n",
              "    <tr>\n",
              "      <th>421565</th>\n",
              "      <td>45</td>\n",
              "      <td>98</td>\n",
              "      <td>2012-09-28</td>\n",
              "      <td>508.37</td>\n",
              "      <td>False</td>\n",
              "      <td>B</td>\n",
              "      <td>118221</td>\n",
              "      <td>64.88</td>\n",
              "      <td>3.997</td>\n",
              "      <td>192.013558</td>\n",
              "      <td>8.684</td>\n",
              "      <td>39</td>\n",
              "      <td>2012</td>\n",
              "    </tr>\n",
              "    <tr>\n",
              "      <th>421566</th>\n",
              "      <td>45</td>\n",
              "      <td>98</td>\n",
              "      <td>2012-10-05</td>\n",
              "      <td>628.10</td>\n",
              "      <td>False</td>\n",
              "      <td>B</td>\n",
              "      <td>118221</td>\n",
              "      <td>64.89</td>\n",
              "      <td>3.985</td>\n",
              "      <td>192.170412</td>\n",
              "      <td>8.667</td>\n",
              "      <td>40</td>\n",
              "      <td>2012</td>\n",
              "    </tr>\n",
              "    <tr>\n",
              "      <th>421567</th>\n",
              "      <td>45</td>\n",
              "      <td>98</td>\n",
              "      <td>2012-10-12</td>\n",
              "      <td>1061.02</td>\n",
              "      <td>False</td>\n",
              "      <td>B</td>\n",
              "      <td>118221</td>\n",
              "      <td>54.47</td>\n",
              "      <td>4.000</td>\n",
              "      <td>192.327265</td>\n",
              "      <td>8.667</td>\n",
              "      <td>41</td>\n",
              "      <td>2012</td>\n",
              "    </tr>\n",
              "    <tr>\n",
              "      <th>421568</th>\n",
              "      <td>45</td>\n",
              "      <td>98</td>\n",
              "      <td>2012-10-19</td>\n",
              "      <td>760.01</td>\n",
              "      <td>False</td>\n",
              "      <td>B</td>\n",
              "      <td>118221</td>\n",
              "      <td>56.47</td>\n",
              "      <td>3.969</td>\n",
              "      <td>192.330854</td>\n",
              "      <td>8.667</td>\n",
              "      <td>42</td>\n",
              "      <td>2012</td>\n",
              "    </tr>\n",
              "    <tr>\n",
              "      <th>421569</th>\n",
              "      <td>45</td>\n",
              "      <td>98</td>\n",
              "      <td>2012-10-26</td>\n",
              "      <td>1076.80</td>\n",
              "      <td>False</td>\n",
              "      <td>B</td>\n",
              "      <td>118221</td>\n",
              "      <td>58.85</td>\n",
              "      <td>3.882</td>\n",
              "      <td>192.308899</td>\n",
              "      <td>8.667</td>\n",
              "      <td>43</td>\n",
              "      <td>2012</td>\n",
              "    </tr>\n",
              "  </tbody>\n",
              "</table>\n",
              "</div>"
            ],
            "text/plain": [
              "        Store  Dept       Date  ...  Unemployment  week  year\n",
              "421565     45    98 2012-09-28  ...         8.684    39  2012\n",
              "421566     45    98 2012-10-05  ...         8.667    40  2012\n",
              "421567     45    98 2012-10-12  ...         8.667    41  2012\n",
              "421568     45    98 2012-10-19  ...         8.667    42  2012\n",
              "421569     45    98 2012-10-26  ...         8.667    43  2012\n",
              "\n",
              "[5 rows x 13 columns]"
            ]
          },
          "metadata": {
            "tags": []
          },
          "execution_count": 34
        }
      ]
    },
    {
      "cell_type": "code",
      "metadata": {
        "colab": {
          "base_uri": "https://localhost:8080/"
        },
        "id": "rCaKaeZrJOU5",
        "outputId": "5212477a-9ae5-4ee4-e056-8073e10ca2b8"
      },
      "source": [
        "df_train.isna().sum()"
      ],
      "execution_count": 35,
      "outputs": [
        {
          "output_type": "execute_result",
          "data": {
            "text/plain": [
              "Store           0\n",
              "Dept            0\n",
              "Date            0\n",
              "Weekly_Sales    0\n",
              "IsHoliday       0\n",
              "Type            0\n",
              "Size            0\n",
              "Temperature     0\n",
              "Fuel_Price      0\n",
              "CPI             0\n",
              "Unemployment    0\n",
              "week            0\n",
              "year            0\n",
              "dtype: int64"
            ]
          },
          "metadata": {
            "tags": []
          },
          "execution_count": 35
        }
      ]
    },
    {
      "cell_type": "code",
      "metadata": {
        "colab": {
          "base_uri": "https://localhost:8080/"
        },
        "id": "a9Dhd--HHatS",
        "outputId": "1807a185-cf1e-4d7f-a2cb-d8a505b2211a"
      },
      "source": [
        "df_test.isna().sum()"
      ],
      "execution_count": 36,
      "outputs": [
        {
          "output_type": "execute_result",
          "data": {
            "text/plain": [
              "Store               0\n",
              "Dept                0\n",
              "Date                0\n",
              "IsHoliday           0\n",
              "Type                0\n",
              "Size                0\n",
              "Temperature         0\n",
              "Fuel_Price          0\n",
              "CPI             38162\n",
              "Unemployment    38162\n",
              "week                0\n",
              "year                0\n",
              "dtype: int64"
            ]
          },
          "metadata": {
            "tags": []
          },
          "execution_count": 36
        }
      ]
    },
    {
      "cell_type": "code",
      "metadata": {
        "id": "lHvuhuMs4rop"
      },
      "source": [
        "df_train = df_train.fillna(0)\n",
        "df_test = df_test.fillna(0)"
      ],
      "execution_count": 37,
      "outputs": []
    },
    {
      "cell_type": "code",
      "metadata": {
        "colab": {
          "base_uri": "https://localhost:8080/"
        },
        "id": "89ol75OjC5Z1",
        "outputId": "e204c542-489d-4e2b-880e-6a37f0ce0c5c"
      },
      "source": [
        "df_train.isna().sum()"
      ],
      "execution_count": 38,
      "outputs": [
        {
          "output_type": "execute_result",
          "data": {
            "text/plain": [
              "Store           0\n",
              "Dept            0\n",
              "Date            0\n",
              "Weekly_Sales    0\n",
              "IsHoliday       0\n",
              "Type            0\n",
              "Size            0\n",
              "Temperature     0\n",
              "Fuel_Price      0\n",
              "CPI             0\n",
              "Unemployment    0\n",
              "week            0\n",
              "year            0\n",
              "dtype: int64"
            ]
          },
          "metadata": {
            "tags": []
          },
          "execution_count": 38
        }
      ]
    },
    {
      "cell_type": "code",
      "metadata": {
        "colab": {
          "base_uri": "https://localhost:8080/"
        },
        "id": "XATrjwSZ5UxX",
        "outputId": "8aefb22f-cc66-4b1a-943b-846127cfc9b6"
      },
      "source": [
        "df_test.isna().sum()"
      ],
      "execution_count": 39,
      "outputs": [
        {
          "output_type": "execute_result",
          "data": {
            "text/plain": [
              "Store           0\n",
              "Dept            0\n",
              "Date            0\n",
              "IsHoliday       0\n",
              "Type            0\n",
              "Size            0\n",
              "Temperature     0\n",
              "Fuel_Price      0\n",
              "CPI             0\n",
              "Unemployment    0\n",
              "week            0\n",
              "year            0\n",
              "dtype: int64"
            ]
          },
          "metadata": {
            "tags": []
          },
          "execution_count": 39
        }
      ]
    },
    {
      "cell_type": "code",
      "metadata": {
        "colab": {
          "base_uri": "https://localhost:8080/"
        },
        "id": "Oc1e3TKp6bnV",
        "outputId": "bff4048b-5fb8-4c43-ce13-b0d90c5b6092"
      },
      "source": [
        "df_test.isna().sum()"
      ],
      "execution_count": 40,
      "outputs": [
        {
          "output_type": "execute_result",
          "data": {
            "text/plain": [
              "Store           0\n",
              "Dept            0\n",
              "Date            0\n",
              "IsHoliday       0\n",
              "Type            0\n",
              "Size            0\n",
              "Temperature     0\n",
              "Fuel_Price      0\n",
              "CPI             0\n",
              "Unemployment    0\n",
              "week            0\n",
              "year            0\n",
              "dtype: int64"
            ]
          },
          "metadata": {
            "tags": []
          },
          "execution_count": 40
        }
      ]
    },
    {
      "cell_type": "markdown",
      "metadata": {
        "id": "n2ZgArNI4ARF"
      },
      "source": [
        "### applying treatment for the holliday"
      ]
    },
    {
      "cell_type": "markdown",
      "metadata": {
        "id": "tymyYvcA50RE"
      },
      "source": [
        "- Super Bowl: 12-Feb-10, 11-Feb-11, 10-Feb-12, 8-Feb-13\n",
        "- Labor Day: 10-Sep-10, 9-Sep-11, 7-Sep-12, 6-Sep-13\n",
        "- Thanksgiving: 26-Nov-10, 25-Nov-11, 23-Nov-12, 29-Nov-13\n",
        "- Christmas: 31-Dec-10, 30-Dec-11, 28-Dec-12, 27-Dec-13"
      ]
    },
    {
      "cell_type": "code",
      "metadata": {
        "id": "KM8Qj2_aSOox"
      },
      "source": [
        "df_train['Type'] = df_train['Type'] .apply(lambda x: 3 if x == 'A' else(2 if x == 'B' else 1))\n",
        "df_train = df_train.dropna()"
      ],
      "execution_count": 41,
      "outputs": []
    },
    {
      "cell_type": "code",
      "metadata": {
        "id": "Fpz2zVRT5zvD"
      },
      "source": [
        "df_train_test_date = df_train.query(\"'1' in IsHoliday \")"
      ],
      "execution_count": 42,
      "outputs": []
    },
    {
      "cell_type": "code",
      "metadata": {
        "colab": {
          "base_uri": "https://localhost:8080/"
        },
        "id": "BNg95SrR6dN4",
        "outputId": "881cba08-f382-4425-8b12-aa6db97b0434"
      },
      "source": [
        "df_train_test_date['week'].value_counts()"
      ],
      "execution_count": 43,
      "outputs": [
        {
          "output_type": "execute_result",
          "data": {
            "text/plain": [
              "6     8895\n",
              "36    8861\n",
              "47    5959\n",
              "52    5946\n",
              "Name: week, dtype: Int64"
            ]
          },
          "metadata": {
            "tags": []
          },
          "execution_count": 43
        }
      ]
    },
    {
      "cell_type": "markdown",
      "metadata": {
        "id": "vZH4ucWg-kZS"
      },
      "source": [
        "applying new values in column holliday\n",
        "\n",
        "0 - not a holiday\n",
        "- Holidays:\n",
        "\n",
        "  - 1 - SuperBowl - column week = value 6 \n",
        "  - 2 - LaborDay - column week = value 36\n",
        "  - 3 - Thanksgiving - column week = value 47\n",
        "  - 4 - Christmas - column week = value 52"
      ]
    },
    {
      "cell_type": "code",
      "metadata": {
        "colab": {
          "base_uri": "https://localhost:8080/",
          "height": 419
        },
        "id": "hMC9nTkpsEVo",
        "outputId": "23511c83-05d8-40e6-fd81-faeeb3e91d5d"
      },
      "source": [
        "df_train"
      ],
      "execution_count": 44,
      "outputs": [
        {
          "output_type": "execute_result",
          "data": {
            "text/html": [
              "<div>\n",
              "<style scoped>\n",
              "    .dataframe tbody tr th:only-of-type {\n",
              "        vertical-align: middle;\n",
              "    }\n",
              "\n",
              "    .dataframe tbody tr th {\n",
              "        vertical-align: top;\n",
              "    }\n",
              "\n",
              "    .dataframe thead th {\n",
              "        text-align: right;\n",
              "    }\n",
              "</style>\n",
              "<table border=\"1\" class=\"dataframe\">\n",
              "  <thead>\n",
              "    <tr style=\"text-align: right;\">\n",
              "      <th></th>\n",
              "      <th>Store</th>\n",
              "      <th>Dept</th>\n",
              "      <th>Date</th>\n",
              "      <th>Weekly_Sales</th>\n",
              "      <th>IsHoliday</th>\n",
              "      <th>Type</th>\n",
              "      <th>Size</th>\n",
              "      <th>Temperature</th>\n",
              "      <th>Fuel_Price</th>\n",
              "      <th>CPI</th>\n",
              "      <th>Unemployment</th>\n",
              "      <th>week</th>\n",
              "      <th>year</th>\n",
              "    </tr>\n",
              "  </thead>\n",
              "  <tbody>\n",
              "    <tr>\n",
              "      <th>0</th>\n",
              "      <td>1</td>\n",
              "      <td>1</td>\n",
              "      <td>2010-02-05</td>\n",
              "      <td>24924.50</td>\n",
              "      <td>False</td>\n",
              "      <td>3</td>\n",
              "      <td>151315</td>\n",
              "      <td>42.31</td>\n",
              "      <td>2.572</td>\n",
              "      <td>211.096358</td>\n",
              "      <td>8.106</td>\n",
              "      <td>5</td>\n",
              "      <td>2010</td>\n",
              "    </tr>\n",
              "    <tr>\n",
              "      <th>1</th>\n",
              "      <td>1</td>\n",
              "      <td>1</td>\n",
              "      <td>2010-02-12</td>\n",
              "      <td>46039.49</td>\n",
              "      <td>True</td>\n",
              "      <td>3</td>\n",
              "      <td>151315</td>\n",
              "      <td>38.51</td>\n",
              "      <td>2.548</td>\n",
              "      <td>211.242170</td>\n",
              "      <td>8.106</td>\n",
              "      <td>6</td>\n",
              "      <td>2010</td>\n",
              "    </tr>\n",
              "    <tr>\n",
              "      <th>2</th>\n",
              "      <td>1</td>\n",
              "      <td>1</td>\n",
              "      <td>2010-02-19</td>\n",
              "      <td>41595.55</td>\n",
              "      <td>False</td>\n",
              "      <td>3</td>\n",
              "      <td>151315</td>\n",
              "      <td>39.93</td>\n",
              "      <td>2.514</td>\n",
              "      <td>211.289143</td>\n",
              "      <td>8.106</td>\n",
              "      <td>7</td>\n",
              "      <td>2010</td>\n",
              "    </tr>\n",
              "    <tr>\n",
              "      <th>3</th>\n",
              "      <td>1</td>\n",
              "      <td>1</td>\n",
              "      <td>2010-02-26</td>\n",
              "      <td>19403.54</td>\n",
              "      <td>False</td>\n",
              "      <td>3</td>\n",
              "      <td>151315</td>\n",
              "      <td>46.63</td>\n",
              "      <td>2.561</td>\n",
              "      <td>211.319643</td>\n",
              "      <td>8.106</td>\n",
              "      <td>8</td>\n",
              "      <td>2010</td>\n",
              "    </tr>\n",
              "    <tr>\n",
              "      <th>4</th>\n",
              "      <td>1</td>\n",
              "      <td>1</td>\n",
              "      <td>2010-03-05</td>\n",
              "      <td>21827.90</td>\n",
              "      <td>False</td>\n",
              "      <td>3</td>\n",
              "      <td>151315</td>\n",
              "      <td>46.50</td>\n",
              "      <td>2.625</td>\n",
              "      <td>211.350143</td>\n",
              "      <td>8.106</td>\n",
              "      <td>9</td>\n",
              "      <td>2010</td>\n",
              "    </tr>\n",
              "    <tr>\n",
              "      <th>...</th>\n",
              "      <td>...</td>\n",
              "      <td>...</td>\n",
              "      <td>...</td>\n",
              "      <td>...</td>\n",
              "      <td>...</td>\n",
              "      <td>...</td>\n",
              "      <td>...</td>\n",
              "      <td>...</td>\n",
              "      <td>...</td>\n",
              "      <td>...</td>\n",
              "      <td>...</td>\n",
              "      <td>...</td>\n",
              "      <td>...</td>\n",
              "    </tr>\n",
              "    <tr>\n",
              "      <th>421565</th>\n",
              "      <td>45</td>\n",
              "      <td>98</td>\n",
              "      <td>2012-09-28</td>\n",
              "      <td>508.37</td>\n",
              "      <td>False</td>\n",
              "      <td>2</td>\n",
              "      <td>118221</td>\n",
              "      <td>64.88</td>\n",
              "      <td>3.997</td>\n",
              "      <td>192.013558</td>\n",
              "      <td>8.684</td>\n",
              "      <td>39</td>\n",
              "      <td>2012</td>\n",
              "    </tr>\n",
              "    <tr>\n",
              "      <th>421566</th>\n",
              "      <td>45</td>\n",
              "      <td>98</td>\n",
              "      <td>2012-10-05</td>\n",
              "      <td>628.10</td>\n",
              "      <td>False</td>\n",
              "      <td>2</td>\n",
              "      <td>118221</td>\n",
              "      <td>64.89</td>\n",
              "      <td>3.985</td>\n",
              "      <td>192.170412</td>\n",
              "      <td>8.667</td>\n",
              "      <td>40</td>\n",
              "      <td>2012</td>\n",
              "    </tr>\n",
              "    <tr>\n",
              "      <th>421567</th>\n",
              "      <td>45</td>\n",
              "      <td>98</td>\n",
              "      <td>2012-10-12</td>\n",
              "      <td>1061.02</td>\n",
              "      <td>False</td>\n",
              "      <td>2</td>\n",
              "      <td>118221</td>\n",
              "      <td>54.47</td>\n",
              "      <td>4.000</td>\n",
              "      <td>192.327265</td>\n",
              "      <td>8.667</td>\n",
              "      <td>41</td>\n",
              "      <td>2012</td>\n",
              "    </tr>\n",
              "    <tr>\n",
              "      <th>421568</th>\n",
              "      <td>45</td>\n",
              "      <td>98</td>\n",
              "      <td>2012-10-19</td>\n",
              "      <td>760.01</td>\n",
              "      <td>False</td>\n",
              "      <td>2</td>\n",
              "      <td>118221</td>\n",
              "      <td>56.47</td>\n",
              "      <td>3.969</td>\n",
              "      <td>192.330854</td>\n",
              "      <td>8.667</td>\n",
              "      <td>42</td>\n",
              "      <td>2012</td>\n",
              "    </tr>\n",
              "    <tr>\n",
              "      <th>421569</th>\n",
              "      <td>45</td>\n",
              "      <td>98</td>\n",
              "      <td>2012-10-26</td>\n",
              "      <td>1076.80</td>\n",
              "      <td>False</td>\n",
              "      <td>2</td>\n",
              "      <td>118221</td>\n",
              "      <td>58.85</td>\n",
              "      <td>3.882</td>\n",
              "      <td>192.308899</td>\n",
              "      <td>8.667</td>\n",
              "      <td>43</td>\n",
              "      <td>2012</td>\n",
              "    </tr>\n",
              "  </tbody>\n",
              "</table>\n",
              "<p>421570 rows × 13 columns</p>\n",
              "</div>"
            ],
            "text/plain": [
              "        Store  Dept       Date  ...  Unemployment  week  year\n",
              "0           1     1 2010-02-05  ...         8.106     5  2010\n",
              "1           1     1 2010-02-12  ...         8.106     6  2010\n",
              "2           1     1 2010-02-19  ...         8.106     7  2010\n",
              "3           1     1 2010-02-26  ...         8.106     8  2010\n",
              "4           1     1 2010-03-05  ...         8.106     9  2010\n",
              "...       ...   ...        ...  ...           ...   ...   ...\n",
              "421565     45    98 2012-09-28  ...         8.684    39  2012\n",
              "421566     45    98 2012-10-05  ...         8.667    40  2012\n",
              "421567     45    98 2012-10-12  ...         8.667    41  2012\n",
              "421568     45    98 2012-10-19  ...         8.667    42  2012\n",
              "421569     45    98 2012-10-26  ...         8.667    43  2012\n",
              "\n",
              "[421570 rows x 13 columns]"
            ]
          },
          "metadata": {
            "tags": []
          },
          "execution_count": 44
        }
      ]
    },
    {
      "cell_type": "code",
      "metadata": {
        "id": "2OhbWtLg_nLf"
      },
      "source": [
        "df_train.loc[(df_train['IsHoliday']== 1) & (df_train['week']==6) , 'IsHoliday']= '1'\n",
        "df_train.loc[(df_train['IsHoliday']== 1) & (df_train['week']==36) , 'IsHoliday']= '2'\n",
        "df_train.loc[(df_train['IsHoliday']== 1) & (df_train['week']==47) , 'IsHoliday']= '3'\n",
        "df_train.loc[(df_train['IsHoliday']== 1) & (df_train['week']==52) , 'IsHoliday']= '4'\n",
        "df_train.loc[(df_train['IsHoliday']== 0) , 'IsHoliday']= '0'"
      ],
      "execution_count": 45,
      "outputs": []
    },
    {
      "cell_type": "code",
      "metadata": {
        "colab": {
          "base_uri": "https://localhost:8080/"
        },
        "id": "WKhEzOkxA4KF",
        "outputId": "ebe383b1-3915-458b-c531-09fe4f46e33d"
      },
      "source": [
        "df_train['IsHoliday'].value_counts()"
      ],
      "execution_count": 46,
      "outputs": [
        {
          "output_type": "execute_result",
          "data": {
            "text/plain": [
              "0    391909\n",
              "1      8895\n",
              "2      8861\n",
              "3      5959\n",
              "4      5946\n",
              "Name: IsHoliday, dtype: int64"
            ]
          },
          "metadata": {
            "tags": []
          },
          "execution_count": 46
        }
      ]
    },
    {
      "cell_type": "code",
      "metadata": {
        "id": "3ZdNacXPA8_b"
      },
      "source": [
        "df_test.loc[(df_test['IsHoliday']== 1) & (df_test['week']==6) , 'IsHoliday']= '1'\n",
        "df_test.loc[(df_test['IsHoliday']== 1) & (df_test['week']==36) , 'IsHoliday']= '2'\n",
        "df_test.loc[(df_test['IsHoliday']== 1) & (df_test['week']==47) , 'IsHoliday']= '3'\n",
        "df_test.loc[(df_test['IsHoliday']== 1) & (df_test['week']==52) , 'IsHoliday']= '4'\n",
        "df_test.loc[(df_test['IsHoliday']== 0) , 'IsHoliday']= '0'"
      ],
      "execution_count": 47,
      "outputs": []
    },
    {
      "cell_type": "code",
      "metadata": {
        "colab": {
          "base_uri": "https://localhost:8080/"
        },
        "id": "coejLbTABwuB",
        "outputId": "8e0c1a8f-c863-4408-e5e0-0817cbcb5d6d"
      },
      "source": [
        "df_test['IsHoliday'].value_counts()"
      ],
      "execution_count": 48,
      "outputs": [
        {
          "output_type": "execute_result",
          "data": {
            "text/plain": [
              "0    106136\n",
              "4      2988\n",
              "3      2976\n",
              "1      2964\n",
              "Name: IsHoliday, dtype: int64"
            ]
          },
          "metadata": {
            "tags": []
          },
          "execution_count": 48
        }
      ]
    },
    {
      "cell_type": "code",
      "metadata": {
        "id": "PHdVAooes3tl"
      },
      "source": [
        "df_train_year = df_train.groupby(by=['year']).mean('Weekly_Sales').copy()\n",
        "df_test_year = df_test.groupby(by=['year']).mean('Weekly_Sales').copy()"
      ],
      "execution_count": 56,
      "outputs": []
    },
    {
      "cell_type": "code",
      "metadata": {
        "colab": {
          "base_uri": "https://localhost:8080/",
          "height": 173
        },
        "id": "mT1N3S1YtHQK",
        "outputId": "b32175ee-7903-487e-df10-a8fe54b77343"
      },
      "source": [
        "df_train_year"
      ],
      "execution_count": 52,
      "outputs": [
        {
          "output_type": "execute_result",
          "data": {
            "text/html": [
              "<div>\n",
              "<style scoped>\n",
              "    .dataframe tbody tr th:only-of-type {\n",
              "        vertical-align: middle;\n",
              "    }\n",
              "\n",
              "    .dataframe tbody tr th {\n",
              "        vertical-align: top;\n",
              "    }\n",
              "\n",
              "    .dataframe thead th {\n",
              "        text-align: right;\n",
              "    }\n",
              "</style>\n",
              "<table border=\"1\" class=\"dataframe\">\n",
              "  <thead>\n",
              "    <tr style=\"text-align: right;\">\n",
              "      <th></th>\n",
              "      <th>Store</th>\n",
              "      <th>Dept</th>\n",
              "      <th>Weekly_Sales</th>\n",
              "      <th>Type</th>\n",
              "      <th>Size</th>\n",
              "      <th>Temperature</th>\n",
              "      <th>Fuel_Price</th>\n",
              "      <th>CPI</th>\n",
              "      <th>Unemployment</th>\n",
              "      <th>week</th>\n",
              "    </tr>\n",
              "    <tr>\n",
              "      <th>year</th>\n",
              "      <th></th>\n",
              "      <th></th>\n",
              "      <th></th>\n",
              "      <th></th>\n",
              "      <th></th>\n",
              "      <th></th>\n",
              "      <th></th>\n",
              "      <th></th>\n",
              "      <th></th>\n",
              "      <th></th>\n",
              "    </tr>\n",
              "  </thead>\n",
              "  <tbody>\n",
              "    <tr>\n",
              "      <th>2010</th>\n",
              "      <td>22.151629</td>\n",
              "      <td>44.147428</td>\n",
              "      <td>16270.275737</td>\n",
              "      <td>2.413331</td>\n",
              "      <td>137114.339176</td>\n",
              "      <td>59.659916</td>\n",
              "      <td>2.823858</td>\n",
              "      <td>167.727885</td>\n",
              "      <td>8.446427</td>\n",
              "      <td>28.486512</td>\n",
              "    </tr>\n",
              "    <tr>\n",
              "      <th>2011</th>\n",
              "      <td>22.206350</td>\n",
              "      <td>44.217787</td>\n",
              "      <td>15954.070675</td>\n",
              "      <td>2.410282</td>\n",
              "      <td>136683.560510</td>\n",
              "      <td>58.220745</td>\n",
              "      <td>3.563353</td>\n",
              "      <td>171.181195</td>\n",
              "      <td>8.036353</td>\n",
              "      <td>26.582354</td>\n",
              "    </tr>\n",
              "    <tr>\n",
              "      <th>2012</th>\n",
              "      <td>22.247556</td>\n",
              "      <td>44.436149</td>\n",
              "      <td>15694.948597</td>\n",
              "      <td>2.406276</td>\n",
              "      <td>136354.752162</td>\n",
              "      <td>62.815807</td>\n",
              "      <td>3.710378</td>\n",
              "      <td>175.061958</td>\n",
              "      <td>7.332047</td>\n",
              "      <td>21.980822</td>\n",
              "    </tr>\n",
              "  </tbody>\n",
              "</table>\n",
              "</div>"
            ],
            "text/plain": [
              "          Store       Dept  Weekly_Sales  ...         CPI  Unemployment       week\n",
              "year                                      ...                                     \n",
              "2010  22.151629  44.147428  16270.275737  ...  167.727885      8.446427  28.486512\n",
              "2011  22.206350  44.217787  15954.070675  ...  171.181195      8.036353  26.582354\n",
              "2012  22.247556  44.436149  15694.948597  ...  175.061958      7.332047  21.980822\n",
              "\n",
              "[3 rows x 10 columns]"
            ]
          },
          "metadata": {
            "tags": []
          },
          "execution_count": 52
        }
      ]
    },
    {
      "cell_type": "code",
      "metadata": {
        "colab": {
          "base_uri": "https://localhost:8080/",
          "height": 142
        },
        "id": "BtzaGSMBtSjP",
        "outputId": "89c04613-650d-4af8-ada9-6e791fcf5f71"
      },
      "source": [
        "df_test_year"
      ],
      "execution_count": 57,
      "outputs": [
        {
          "output_type": "execute_result",
          "data": {
            "text/html": [
              "<div>\n",
              "<style scoped>\n",
              "    .dataframe tbody tr th:only-of-type {\n",
              "        vertical-align: middle;\n",
              "    }\n",
              "\n",
              "    .dataframe tbody tr th {\n",
              "        vertical-align: top;\n",
              "    }\n",
              "\n",
              "    .dataframe thead th {\n",
              "        text-align: right;\n",
              "    }\n",
              "</style>\n",
              "<table border=\"1\" class=\"dataframe\">\n",
              "  <thead>\n",
              "    <tr style=\"text-align: right;\">\n",
              "      <th></th>\n",
              "      <th>Store</th>\n",
              "      <th>Dept</th>\n",
              "      <th>Size</th>\n",
              "      <th>Temperature</th>\n",
              "      <th>Fuel_Price</th>\n",
              "      <th>CPI</th>\n",
              "      <th>Unemployment</th>\n",
              "      <th>week</th>\n",
              "    </tr>\n",
              "    <tr>\n",
              "      <th>year</th>\n",
              "      <th></th>\n",
              "      <th></th>\n",
              "      <th></th>\n",
              "      <th></th>\n",
              "      <th></th>\n",
              "      <th></th>\n",
              "      <th></th>\n",
              "      <th></th>\n",
              "    </tr>\n",
              "  </thead>\n",
              "  <tbody>\n",
              "    <tr>\n",
              "      <th>2012</th>\n",
              "      <td>22.205681</td>\n",
              "      <td>44.470006</td>\n",
              "      <td>136446.342267</td>\n",
              "      <td>46.592112</td>\n",
              "      <td>3.496374</td>\n",
              "      <td>176.420286</td>\n",
              "      <td>6.944982</td>\n",
              "      <td>48.010527</td>\n",
              "    </tr>\n",
              "    <tr>\n",
              "      <th>2013</th>\n",
              "      <td>22.248077</td>\n",
              "      <td>44.299926</td>\n",
              "      <td>136513.271198</td>\n",
              "      <td>56.172230</td>\n",
              "      <td>3.607394</td>\n",
              "      <td>100.623715</td>\n",
              "      <td>3.876184</td>\n",
              "      <td>15.476432</td>\n",
              "    </tr>\n",
              "  </tbody>\n",
              "</table>\n",
              "</div>"
            ],
            "text/plain": [
              "          Store       Dept           Size  ...         CPI  Unemployment       week\n",
              "year                                       ...                                     \n",
              "2012  22.205681  44.470006  136446.342267  ...  176.420286      6.944982  48.010527\n",
              "2013  22.248077  44.299926  136513.271198  ...  100.623715      3.876184  15.476432\n",
              "\n",
              "[2 rows x 8 columns]"
            ]
          },
          "metadata": {
            "tags": []
          },
          "execution_count": 57
        }
      ]
    },
    {
      "cell_type": "code",
      "metadata": {
        "colab": {
          "base_uri": "https://localhost:8080/",
          "height": 408
        },
        "id": "4z8aMl6WBzCF",
        "outputId": "c5e4a861-9709-4a0f-f30c-901aa39e3e9c"
      },
      "source": [
        "plt.figure(figsize=(16, 6))\n",
        "plt.title(\"Correlation - Train\")\n",
        "sns.heatmap(df_train.corr(), annot=True)"
      ],
      "execution_count": 59,
      "outputs": [
        {
          "output_type": "execute_result",
          "data": {
            "text/plain": [
              "<matplotlib.axes._subplots.AxesSubplot at 0x7f15898d9d50>"
            ]
          },
          "metadata": {
            "tags": []
          },
          "execution_count": 59
        },
        {
          "output_type": "display_data",
          "data": {
            "image/png": "[encoded data removed]",
            "text/plain": [
              "<Figure size 1152x432 with 2 Axes>"
            ]
          },
          "metadata": {
            "tags": [],
            "needs_background": "light"
          }
        }
      ]
    },
    {
      "cell_type": "code",
      "metadata": {
        "colab": {
          "base_uri": "https://localhost:8080/",
          "height": 408
        },
        "id": "Jsuv9qyNCi7Z",
        "outputId": "9313d652-8ed4-4f24-9ee9-b3b572f8d3b9"
      },
      "source": [
        "plt.figure(figsize=(16, 6))\n",
        "plt.title(\"Correlation - Test\")\n",
        "sns.heatmap(df_test.corr(), annot=True)"
      ],
      "execution_count": 60,
      "outputs": [
        {
          "output_type": "execute_result",
          "data": {
            "text/plain": [
              "<matplotlib.axes._subplots.AxesSubplot at 0x7f1589591490>"
            ]
          },
          "metadata": {
            "tags": []
          },
          "execution_count": 60
        },
        {
          "output_type": "display_data",
          "data": {
            "image/png": "[encoded data removed]",
            "text/plain": [
              "<Figure size 1152x432 with 2 Axes>"
            ]
          },
          "metadata": {
            "tags": [],
            "needs_background": "light"
          }
        }
      ]
    },
    {
      "cell_type": "code",
      "metadata": {
        "colab": {
          "base_uri": "https://localhost:8080/"
        },
        "id": "tIj58k9KO7cN",
        "outputId": "6372a4ac-c88a-4358-bd4b-e747a3d84599"
      },
      "source": [
        "df_test.columns"
      ],
      "execution_count": 61,
      "outputs": [
        {
          "output_type": "execute_result",
          "data": {
            "text/plain": [
              "Index(['Store', 'Dept', 'Date', 'IsHoliday', 'Type', 'Size', 'Temperature',\n",
              "       'Fuel_Price', 'CPI', 'Unemployment', 'week', 'year'],\n",
              "      dtype='object')"
            ]
          },
          "metadata": {
            "tags": []
          },
          "execution_count": 61
        }
      ]
    },
    {
      "cell_type": "code",
      "metadata": {
        "colab": {
          "base_uri": "https://localhost:8080/",
          "height": 514
        },
        "id": "ACYIyofkS4Es",
        "outputId": "d4bbfd1c-5f14-4567-acc6-57b33a79c74f"
      },
      "source": [
        "plt.figure(figsize=(30,8))\n",
        "sns.barplot(x='Size', y='Weekly_Sales', data=df_train)"
      ],
      "execution_count": 62,
      "outputs": [
        {
          "output_type": "execute_result",
          "data": {
            "text/plain": [
              "<matplotlib.axes._subplots.AxesSubplot at 0x7f15897d9b50>"
            ]
          },
          "metadata": {
            "tags": []
          },
          "execution_count": 62
        },
        {
          "output_type": "display_data",
          "data": {
            "image/png": "[encoded data removed]",
            "text/plain": [
              "<Figure size 2160x576 with 1 Axes>"
            ]
          },
          "metadata": {
            "tags": [],
            "needs_background": "light"
          }
        }
      ]
    },
    {
      "cell_type": "code",
      "metadata": {
        "colab": {
          "base_uri": "https://localhost:8080/",
          "height": 427
        },
        "id": "fIb6N_zjNxi7",
        "outputId": "71cc5174-db94-4f3d-c73f-e05a43849ffc"
      },
      "source": [
        "ax = sns.distplot(df_train['Weekly_Sales'])\n",
        "ax.figure.set_size_inches(12,6)\n",
        "ax.set_title('frequency distribution', fontsize=20)\n",
        "ax.set_ylabel('value ', fontsize=16)"
      ],
      "execution_count": 63,
      "outputs": [
        {
          "output_type": "execute_result",
          "data": {
            "text/plain": [
              "Text(0, 0.5, 'value ')"
            ]
          },
          "metadata": {
            "tags": []
          },
          "execution_count": 63
        },
        {
          "output_type": "display_data",
          "data": {
            "image/png": "[encoded data removed]",
            "text/plain": [
              "<Figure size 864x432 with 1 Axes>"
            ]
          },
          "metadata": {
            "tags": [],
            "needs_background": "light"
          }
        }
      ]
    },
    {
      "cell_type": "code",
      "metadata": {
        "colab": {
          "base_uri": "https://localhost:8080/",
          "height": 391
        },
        "id": "AEYZe14euXby",
        "outputId": "e3a90352-44a3-4927-ac27-970547852ba7"
      },
      "source": [
        "ax = sns.boxplot(data = df_train['Weekly_Sales'], orient='v', width=0.2)\n",
        "ax.figure.set_size_inches(12,6)\n",
        "ax\n",
        "\n",
        "# the data have outliers"
      ],
      "execution_count": 64,
      "outputs": [
        {
          "output_type": "execute_result",
          "data": {
            "text/plain": [
              "<matplotlib.axes._subplots.AxesSubplot at 0x7f15859a14d0>"
            ]
          },
          "metadata": {
            "tags": []
          },
          "execution_count": 64
        },
        {
          "output_type": "display_data",
          "data": {
            "image/png": "[encoded data removed]",
            "text/plain": [
              "<Figure size 864x432 with 1 Axes>"
            ]
          },
          "metadata": {
            "tags": [],
            "needs_background": "light"
          }
        }
      ]
    },
    {
      "cell_type": "code",
      "metadata": {
        "colab": {
          "base_uri": "https://localhost:8080/",
          "height": 405
        },
        "id": "Gn5NqKdVSnjg",
        "outputId": "3e8e69ca-7fb9-4b90-8e12-10b10ba9f5b7"
      },
      "source": [
        "plt.figure(figsize=(16,6))\n",
        "sns.barplot(x='Type', y='Weekly_Sales', data=df_train)\n"
      ],
      "execution_count": 65,
      "outputs": [
        {
          "output_type": "execute_result",
          "data": {
            "text/plain": [
              "<matplotlib.axes._subplots.AxesSubplot at 0x7f15859697d0>"
            ]
          },
          "metadata": {
            "tags": []
          },
          "execution_count": 65
        },
        {
          "output_type": "display_data",
          "data": {
            "image/png": "[encoded data removed]",
            "text/plain": [
              "<Figure size 1152x432 with 1 Axes>"
            ]
          },
          "metadata": {
            "tags": [],
            "needs_background": "light"
          }
        }
      ]
    },
    {
      "cell_type": "code",
      "metadata": {
        "colab": {
          "base_uri": "https://localhost:8080/",
          "height": 400
        },
        "id": "ZU8O4pjVO_2l",
        "outputId": "eda08920-e0c3-4a0e-a076-2c5c2a7753e1"
      },
      "source": [
        "sns.relplot(x='Date', y='Weekly_Sales', data=df_train,kind=\"line\")"
      ],
      "execution_count": 77,
      "outputs": [
        {
          "output_type": "execute_result",
          "data": {
            "text/plain": [
              "<seaborn.axisgrid.FacetGrid at 0x7f1582231790>"
            ]
          },
          "metadata": {
            "tags": []
          },
          "execution_count": 77
        },
        {
          "output_type": "display_data",
          "data": {
            "image/png": "[encoded data removed]",
            "text/plain": [
              "<Figure size 360x360 with 1 Axes>"
            ]
          },
          "metadata": {
            "tags": [],
            "needs_background": "light"
          }
        }
      ]
    },
    {
      "cell_type": "markdown",
      "metadata": {
        "id": "DKDXVgMxQ0Sa"
      },
      "source": [
        "### Supervised learning"
      ]
    },
    {
      "cell_type": "code",
      "metadata": {
        "id": "ePCHuJOBQFYG"
      },
      "source": [
        "from sklearn.model_selection import train_test_split"
      ],
      "execution_count": 78,
      "outputs": []
    },
    {
      "cell_type": "code",
      "metadata": {
        "id": "vBaTeTDpQzw8"
      },
      "source": [
        "y = df_train['Weekly_Sales']\n",
        "\n",
        "X = df_train.drop(['Weekly_Sales', 'Date'], axis=1)"
      ],
      "execution_count": 79,
      "outputs": []
    },
    {
      "cell_type": "code",
      "metadata": {
        "id": "_pNsUvjdQ89h"
      },
      "source": [
        "X_train, X_test, y_train, y_test = train_test_split( X, y, test_size=0.2, random_state=0)"
      ],
      "execution_count": 80,
      "outputs": []
    },
    {
      "cell_type": "code",
      "metadata": {
        "colab": {
          "base_uri": "https://localhost:8080/"
        },
        "id": "o1lW1a1lRMgB",
        "outputId": "16f06734-ca57-4939-b5cf-fe6b7863ac9a"
      },
      "source": [
        "X_train.shape, X_test.shape, y_train.shape, y_test.shape"
      ],
      "execution_count": 81,
      "outputs": [
        {
          "output_type": "execute_result",
          "data": {
            "text/plain": [
              "((337256, 11), (84314, 11), (337256,), (84314,))"
            ]
          },
          "metadata": {
            "tags": []
          },
          "execution_count": 81
        }
      ]
    },
    {
      "cell_type": "code",
      "metadata": {
        "colab": {
          "base_uri": "https://localhost:8080/"
        },
        "id": "qNzUnZ14Rbvj",
        "outputId": "f12e4189-b649-4149-c721-54f69f85577b"
      },
      "source": [
        "print(\"X_train: {} rows and {} columns\".format(X_train.shape[0],X_train.shape[1]))\n",
        "print(\"X_test: {} rows and {} columns\".format(X_test.shape[0],X_test.shape[1]))\n",
        "print(\"y_train: {} rows and 1 column\".format(y_train.shape[0]))\n",
        "print(\"y_test: {} rows and 1 column\".format(y_test.shape[0]))\n"
      ],
      "execution_count": 82,
      "outputs": [
        {
          "output_type": "stream",
          "text": [
            "X_train: 337256 rows and 11 columns\n",
            "X_test: 84314 rows and 11 columns\n",
            "y_train: 337256 rows and 1 column\n",
            "y_test: 84314 rows and 1 column\n"
          ],
          "name": "stdout"
        }
      ]
    },
    {
      "cell_type": "markdown",
      "metadata": {
        "id": "Md2ja3enSHxf"
      },
      "source": [
        "### Starting Model Estimation process"
      ]
    },
    {
      "cell_type": "code",
      "metadata": {
        "id": "vaFrWDEnRoh_"
      },
      "source": [
        "#from sklearn.linear_model import LinearRegression\n",
        "from sklearn import metrics\n",
        "\n",
        "from sklearn.ensemble import RandomForestRegressor\n",
        "from sklearn.metrics import mean_absolute_error, mean_squared_error, r2_score"
      ],
      "execution_count": 83,
      "outputs": []
    },
    {
      "cell_type": "code",
      "metadata": {
        "id": "9qcWRYZWRvIV"
      },
      "source": [
        "model = RandomForestRegressor(n_estimators=100)"
      ],
      "execution_count": 89,
      "outputs": []
    },
    {
      "cell_type": "code",
      "metadata": {
        "colab": {
          "base_uri": "https://localhost:8080/"
        },
        "id": "sagw6cY7R00h",
        "outputId": "bde37dcd-23b5-4f08-f522-7ce8645e9dec"
      },
      "source": [
        "model.fit(X_train, y_train)\n",
        "\n",
        "# ERROR: float() argument must be a string or a number, not 'Timestamp'  - Fixed\n",
        "# ERROR: could not convert string to float: 'B' - Fixed\n",
        "# Test 1 with LinearRegression failed R²=0,08\n",
        "# Long time (6 // 10 min) for process this model"
      ],
      "execution_count": 90,
      "outputs": [
        {
          "output_type": "execute_result",
          "data": {
            "text/plain": [
              "RandomForestRegressor(bootstrap=True, ccp_alpha=0.0, criterion='mse',\n",
              "                      max_depth=None, max_features='auto', max_leaf_nodes=None,\n",
              "                      max_samples=None, min_impurity_decrease=0.0,\n",
              "                      min_impurity_split=None, min_samples_leaf=1,\n",
              "                      min_samples_split=2, min_weight_fraction_leaf=0.0,\n",
              "                      n_estimators=100, n_jobs=None, oob_score=False,\n",
              "                      random_state=None, verbose=0, warm_start=False)"
            ]
          },
          "metadata": {
            "tags": []
          },
          "execution_count": 90
        }
      ]
    },
    {
      "cell_type": "markdown",
      "metadata": {
        "id": "oSXoEWY_u9kv"
      },
      "source": [
        "### Generating predictions for TEST data (X_test) using the predict() method"
      ]
    },
    {
      "cell_type": "code",
      "metadata": {
        "id": "ygq_-bSkSVFl"
      },
      "source": [
        "y_pred = model.predict(X_test)"
      ],
      "execution_count": 91,
      "outputs": []
    },
    {
      "cell_type": "markdown",
      "metadata": {
        "id": "axIbM3gQaPMb"
      },
      "source": [
        "### Analyzing results"
      ]
    },
    {
      "cell_type": "markdown",
      "metadata": {
        "id": "jvTuOVAlaUwP"
      },
      "source": [
        "Regression model evaluation metrics\n",
        "\n",
        "The MSE, MAE, RMSE, and R-Squared metrics are mainly used to evaluate the prediction error rates and model performance in regression analysis.\n",
        "\n",
        "**MAE (Mean absolute error)** represents the difference between the original and predicted values extracted by averaged the absolute difference over the data set.\n",
        "\n",
        "**MSE (Mean Squared Error)** represents the difference between the original and predicted values extracted by squared the average difference over the data set.\n",
        "\n",
        "**RMSE (Root Mean Squared Error)** is the error rate by the square root of MSE.\n",
        "\n",
        "**R-squared (Coefficient of determination)** represents the coefficient of how well the values fit compared to the original values. The value from 0 to 1 interpreted as percentages. The higher the value is, the better the model is.\n",
        "\n",
        "Font info: https://www.datatechnotes.com/2019/02/regression-model-accuracy-mae-mse-rmse.html"
      ]
    },
    {
      "cell_type": "code",
      "metadata": {
        "colab": {
          "base_uri": "https://localhost:8080/"
        },
        "id": "5TZmN15UUZFb",
        "outputId": "a712080b-487e-41eb-d5bf-dbdbd831bb0c"
      },
      "source": [
        "print(\"Random Forest Regressor\")\n",
        "print(\"MAE:\",mean_absolute_error(y_test,y_pred))\n",
        "print(\"MSE:\",mean_squared_error(y_test,y_pred))\n",
        "print(\"RMSE:\",np.sqrt(mean_squared_error(y_test,y_pred)))\n",
        "print(\"r2_Score:\",r2_score(y_test,y_pred))"
      ],
      "execution_count": 92,
      "outputs": [
        {
          "output_type": "stream",
          "text": [
            "Random Forest Regressor\n",
            "MAE: 1413.3237585110421\n",
            "MSE: 12098384.514711166\n",
            "RMSE: 3478.273208750452\n",
            "r2_Score: 0.9764988093301564\n"
          ],
          "name": "stdout"
        }
      ]
    },
    {
      "cell_type": "markdown",
      "metadata": {
        "id": "eE6cxpc4n9c_"
      },
      "source": [
        "Reading the literature, this values are good"
      ]
    },
    {
      "cell_type": "markdown",
      "metadata": {
        "id": "VS3VE588rNCs"
      },
      "source": [
        "# Save Model"
      ]
    },
    {
      "cell_type": "code",
      "metadata": {
        "id": "OPfuQgrvrOa8"
      },
      "source": [
        "# Save model using picle\n",
        "import pickle\n",
        "\n",
        "output = open('Walmart_Sales_Prediction', 'wb')\n",
        "pickle.dump(model, output)\n",
        "output.close()"
      ],
      "execution_count": 93,
      "outputs": []
    },
    {
      "cell_type": "markdown",
      "metadata": {
        "id": "8DkW8_nWrXJH"
      },
      "source": [
        "# Load model in other jupyter notebook"
      ]
    },
    {
      "cell_type": "code",
      "metadata": {
        "id": "AQKx0cT2rTSM"
      },
      "source": [
        "import pickle\n",
        "\n",
        "model = open('Walmart_Sales_Prediction','rb')\n",
        "model_import = pickle.load(model)\n",
        "model.close()"
      ],
      "execution_count": 96,
      "outputs": []
    },
    {
      "cell_type": "code",
      "metadata": {
        "id": "Ykw5uAw-rpMx"
      },
      "source": [
        "# Predict\n",
        "\n",
        "#       model_import.predict(´´´input data here´´´)"
      ],
      "execution_count": 97,
      "outputs": []
    },
    {
      "cell_type": "code",
      "metadata": {
        "id": "ccq88tBfwqvt"
      },
      "source": [
        ""
      ],
      "execution_count": null,
      "outputs": []
    }
  ]
}