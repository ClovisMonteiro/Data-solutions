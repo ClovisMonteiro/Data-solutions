{
  "nbformat": 4,
  "nbformat_minor": 0,
  "metadata": {
    "colab": {
      "name": "Task 1 - Happy Marriage.ipynb",
      "provenance": [],
      "collapsed_sections": [],
      "mount_file_id": "1GUkp7itoXSxEHDTo0l5KGjtrHaK5l6bt",
      "authorship_tag": "ABX9TyOXBfmLO2m95D+rrU8gI/Gs",
      "include_colab_link": true
    },
    "kernelspec": {
      "name": "python3",
      "display_name": "Python 3"
    },
    "language_info": {
      "name": "python"
    },
    "widgets": {
      "application/vnd.jupyter.widget-state+json": {
        "803583b3b65144ee8c3e693da9c33b24": {
          "model_module": "@jupyter-widgets/controls",
          "model_name": "HBoxModel",
          "state": {
            "_view_name": "HBoxView",
            "_dom_classes": [],
            "_model_name": "HBoxModel",
            "_view_module": "@jupyter-widgets/controls",
            "_model_module_version": "1.5.0",
            "_view_count": null,
            "_view_module_version": "1.5.0",
            "box_style": "",
            "layout": "IPY_MODEL_5911c052b51b4d2dac089e37da851b61",
            "_model_module": "@jupyter-widgets/controls",
            "children": [
              "IPY_MODEL_acd3d655fb6244b5a423e94d6617ef1f",
              "IPY_MODEL_3a747529bd9b43c5b9fc324887fc67b1"
            ]
          }
        },
        "5911c052b51b4d2dac089e37da851b61": {
          "model_module": "@jupyter-widgets/base",
          "model_name": "LayoutModel",
          "state": {
            "_view_name": "LayoutView",
            "grid_template_rows": null,
            "right": null,
            "justify_content": null,
            "_view_module": "@jupyter-widgets/base",
            "overflow": null,
            "_model_module_version": "1.2.0",
            "_view_count": null,
            "flex_flow": null,
            "width": null,
            "min_width": null,
            "border": null,
            "align_items": null,
            "bottom": null,
            "_model_module": "@jupyter-widgets/base",
            "top": null,
            "grid_column": null,
            "overflow_y": null,
            "overflow_x": null,
            "grid_auto_flow": null,
            "grid_area": null,
            "grid_template_columns": null,
            "flex": null,
            "_model_name": "LayoutModel",
            "justify_items": null,
            "grid_row": null,
            "max_height": null,
            "align_content": null,
            "visibility": null,
            "align_self": null,
            "height": null,
            "min_height": null,
            "padding": null,
            "grid_auto_rows": null,
            "grid_gap": null,
            "max_width": null,
            "order": null,
            "_view_module_version": "1.2.0",
            "grid_template_areas": null,
            "object_position": null,
            "object_fit": null,
            "grid_auto_columns": null,
            "margin": null,
            "display": null,
            "left": null
          }
        },
        "acd3d655fb6244b5a423e94d6617ef1f": {
          "model_module": "@jupyter-widgets/controls",
          "model_name": "VBoxModel",
          "state": {
            "_view_name": "VBoxView",
            "_dom_classes": [],
            "_model_name": "VBoxModel",
            "_view_module": "@jupyter-widgets/controls",
            "_model_module_version": "1.5.0",
            "_view_count": null,
            "_view_module_version": "1.5.0",
            "box_style": "",
            "layout": "IPY_MODEL_f737dc5e196d479184dfcae70404aeed",
            "_model_module": "@jupyter-widgets/controls",
            "children": [
              "IPY_MODEL_0812ce47c512497c8b7cdc1668c7d0e5",
              "IPY_MODEL_dd87cb08baa24bfdaad1791d2f43cb4b",
              "IPY_MODEL_721997ee3f894e2d91f1006871f43464"
            ]
          }
        },
        "3a747529bd9b43c5b9fc324887fc67b1": {
          "model_module": "@jupyter-widgets/controls",
          "model_name": "VBoxModel",
          "state": {
            "_view_name": "VBoxView",
            "_dom_classes": [],
            "_model_name": "VBoxModel",
            "_view_module": "@jupyter-widgets/controls",
            "_model_module_version": "1.5.0",
            "_view_count": null,
            "_view_module_version": "1.5.0",
            "box_style": "",
            "layout": "IPY_MODEL_90c7bd9f8c00406199db0824af629ae3",
            "_model_module": "@jupyter-widgets/controls",
            "children": [
              "IPY_MODEL_de22433e7d6247fbaeeef34b3fee1eef",
              "IPY_MODEL_43f1991eaab34d0cbaeac373413fc186"
            ]
          }
        },
        "f737dc5e196d479184dfcae70404aeed": {
          "model_module": "@jupyter-widgets/base",
          "model_name": "LayoutModel",
          "state": {
            "_view_name": "LayoutView",
            "grid_template_rows": null,
            "right": null,
            "justify_content": null,
            "_view_module": "@jupyter-widgets/base",
            "overflow": null,
            "_model_module_version": "1.2.0",
            "_view_count": null,
            "flex_flow": null,
            "width": null,
            "min_width": null,
            "border": null,
            "align_items": null,
            "bottom": null,
            "_model_module": "@jupyter-widgets/base",
            "top": null,
            "grid_column": null,
            "overflow_y": null,
            "overflow_x": null,
            "grid_auto_flow": null,
            "grid_area": null,
            "grid_template_columns": null,
            "flex": null,
            "_model_name": "LayoutModel",
            "justify_items": null,
            "grid_row": null,
            "max_height": null,
            "align_content": null,
            "visibility": null,
            "align_self": null,
            "height": null,
            "min_height": null,
            "padding": null,
            "grid_auto_rows": null,
            "grid_gap": null,
            "max_width": null,
            "order": null,
            "_view_module_version": "1.2.0",
            "grid_template_areas": null,
            "object_position": null,
            "object_fit": null,
            "grid_auto_columns": null,
            "margin": null,
            "display": null,
            "left": null
          }
        },
        "0812ce47c512497c8b7cdc1668c7d0e5": {
          "model_module": "@jupyter-widgets/controls",
          "model_name": "TextModel",
          "state": {
            "_view_name": "TextView",
            "style": "IPY_MODEL_6e9c65c86aa442679773130553620552",
            "_dom_classes": [],
            "description": "Marital",
            "_model_name": "TextModel",
            "placeholder": "​",
            "_view_module": "@jupyter-widgets/controls",
            "_model_module_version": "1.5.0",
            "value": "",
            "_view_count": null,
            "disabled": false,
            "_view_module_version": "1.5.0",
            "continuous_update": true,
            "description_tooltip": null,
            "_model_module": "@jupyter-widgets/controls",
            "layout": "IPY_MODEL_381fc72f4eca40f8be2307f73549d6cc"
          }
        },
        "dd87cb08baa24bfdaad1791d2f43cb4b": {
          "model_module": "@jupyter-widgets/controls",
          "model_name": "TextModel",
          "state": {
            "_view_name": "TextView",
            "style": "IPY_MODEL_d7425f8311a246d983f2d01781d23468",
            "_dom_classes": [],
            "description": "Happy",
            "_model_name": "TextModel",
            "placeholder": "​",
            "_view_module": "@jupyter-widgets/controls",
            "_model_module_version": "1.5.0",
            "value": "",
            "_view_count": null,
            "disabled": false,
            "_view_module_version": "1.5.0",
            "continuous_update": true,
            "description_tooltip": null,
            "_model_module": "@jupyter-widgets/controls",
            "layout": "IPY_MODEL_c42f8d4aee7b49e59e53d122a59acec1"
          }
        },
        "721997ee3f894e2d91f1006871f43464": {
          "model_module": "@jupyter-widgets/controls",
          "model_name": "TextModel",
          "state": {
            "_view_name": "TextView",
            "style": "IPY_MODEL_c45dd474e59a494e9ece3ed19e5b31c6",
            "_dom_classes": [],
            "description": "Year of birth",
            "_model_name": "TextModel",
            "placeholder": "​",
            "_view_module": "@jupyter-widgets/controls",
            "_model_module_version": "1.5.0",
            "value": "",
            "_view_count": null,
            "disabled": false,
            "_view_module_version": "1.5.0",
            "continuous_update": true,
            "description_tooltip": null,
            "_model_module": "@jupyter-widgets/controls",
            "layout": "IPY_MODEL_10342e8ab60c41b8af4415e8e298864d"
          }
        },
        "90c7bd9f8c00406199db0824af629ae3": {
          "model_module": "@jupyter-widgets/base",
          "model_name": "LayoutModel",
          "state": {
            "_view_name": "LayoutView",
            "grid_template_rows": null,
            "right": null,
            "justify_content": null,
            "_view_module": "@jupyter-widgets/base",
            "overflow": null,
            "_model_module_version": "1.2.0",
            "_view_count": null,
            "flex_flow": null,
            "width": null,
            "min_width": null,
            "border": null,
            "align_items": null,
            "bottom": null,
            "_model_module": "@jupyter-widgets/base",
            "top": null,
            "grid_column": null,
            "overflow_y": null,
            "overflow_x": null,
            "grid_auto_flow": null,
            "grid_area": null,
            "grid_template_columns": null,
            "flex": null,
            "_model_name": "LayoutModel",
            "justify_items": null,
            "grid_row": null,
            "max_height": null,
            "align_content": null,
            "visibility": null,
            "align_self": null,
            "height": null,
            "min_height": null,
            "padding": null,
            "grid_auto_rows": null,
            "grid_gap": null,
            "max_width": null,
            "order": null,
            "_view_module_version": "1.2.0",
            "grid_template_areas": null,
            "object_position": null,
            "object_fit": null,
            "grid_auto_columns": null,
            "margin": null,
            "display": null,
            "left": null
          }
        },
        "de22433e7d6247fbaeeef34b3fee1eef": {
          "model_module": "@jupyter-widgets/controls",
          "model_name": "TextModel",
          "state": {
            "_view_name": "TextView",
            "style": "IPY_MODEL_706c0a2c021643cebebec774114cf497",
            "_dom_classes": [],
            "description": "satfin",
            "_model_name": "TextModel",
            "placeholder": "​",
            "_view_module": "@jupyter-widgets/controls",
            "_model_module_version": "1.5.0",
            "value": "",
            "_view_count": null,
            "disabled": false,
            "_view_module_version": "1.5.0",
            "continuous_update": true,
            "description_tooltip": null,
            "_model_module": "@jupyter-widgets/controls",
            "layout": "IPY_MODEL_77c9b1ad699241b491f92f624d80317f"
          }
        },
        "43f1991eaab34d0cbaeac373413fc186": {
          "model_module": "@jupyter-widgets/controls",
          "model_name": "TextModel",
          "state": {
            "_view_name": "TextView",
            "style": "IPY_MODEL_242bc7507c854d2489099147b412483d",
            "_dom_classes": [],
            "description": "Race",
            "_model_name": "TextModel",
            "placeholder": "​",
            "_view_module": "@jupyter-widgets/controls",
            "_model_module_version": "1.5.0",
            "value": "",
            "_view_count": null,
            "disabled": false,
            "_view_module_version": "1.5.0",
            "continuous_update": true,
            "description_tooltip": null,
            "_model_module": "@jupyter-widgets/controls",
            "layout": "IPY_MODEL_f6b22419ff76470cacedb56a5aad939a"
          }
        },
        "6e9c65c86aa442679773130553620552": {
          "model_module": "@jupyter-widgets/controls",
          "model_name": "DescriptionStyleModel",
          "state": {
            "_view_name": "StyleView",
            "_model_name": "DescriptionStyleModel",
            "description_width": "",
            "_view_module": "@jupyter-widgets/base",
            "_model_module_version": "1.5.0",
            "_view_count": null,
            "_view_module_version": "1.2.0",
            "_model_module": "@jupyter-widgets/controls"
          }
        },
        "381fc72f4eca40f8be2307f73549d6cc": {
          "model_module": "@jupyter-widgets/base",
          "model_name": "LayoutModel",
          "state": {
            "_view_name": "LayoutView",
            "grid_template_rows": null,
            "right": null,
            "justify_content": null,
            "_view_module": "@jupyter-widgets/base",
            "overflow": null,
            "_model_module_version": "1.2.0",
            "_view_count": null,
            "flex_flow": null,
            "width": null,
            "min_width": null,
            "border": null,
            "align_items": null,
            "bottom": null,
            "_model_module": "@jupyter-widgets/base",
            "top": null,
            "grid_column": null,
            "overflow_y": null,
            "overflow_x": null,
            "grid_auto_flow": null,
            "grid_area": null,
            "grid_template_columns": null,
            "flex": null,
            "_model_name": "LayoutModel",
            "justify_items": null,
            "grid_row": null,
            "max_height": null,
            "align_content": null,
            "visibility": null,
            "align_self": null,
            "height": null,
            "min_height": null,
            "padding": null,
            "grid_auto_rows": null,
            "grid_gap": null,
            "max_width": null,
            "order": null,
            "_view_module_version": "1.2.0",
            "grid_template_areas": null,
            "object_position": null,
            "object_fit": null,
            "grid_auto_columns": null,
            "margin": null,
            "display": null,
            "left": null
          }
        },
        "d7425f8311a246d983f2d01781d23468": {
          "model_module": "@jupyter-widgets/controls",
          "model_name": "DescriptionStyleModel",
          "state": {
            "_view_name": "StyleView",
            "_model_name": "DescriptionStyleModel",
            "description_width": "",
            "_view_module": "@jupyter-widgets/base",
            "_model_module_version": "1.5.0",
            "_view_count": null,
            "_view_module_version": "1.2.0",
            "_model_module": "@jupyter-widgets/controls"
          }
        },
        "c42f8d4aee7b49e59e53d122a59acec1": {
          "model_module": "@jupyter-widgets/base",
          "model_name": "LayoutModel",
          "state": {
            "_view_name": "LayoutView",
            "grid_template_rows": null,
            "right": null,
            "justify_content": null,
            "_view_module": "@jupyter-widgets/base",
            "overflow": null,
            "_model_module_version": "1.2.0",
            "_view_count": null,
            "flex_flow": null,
            "width": null,
            "min_width": null,
            "border": null,
            "align_items": null,
            "bottom": null,
            "_model_module": "@jupyter-widgets/base",
            "top": null,
            "grid_column": null,
            "overflow_y": null,
            "overflow_x": null,
            "grid_auto_flow": null,
            "grid_area": null,
            "grid_template_columns": null,
            "flex": null,
            "_model_name": "LayoutModel",
            "justify_items": null,
            "grid_row": null,
            "max_height": null,
            "align_content": null,
            "visibility": null,
            "align_self": null,
            "height": null,
            "min_height": null,
            "padding": null,
            "grid_auto_rows": null,
            "grid_gap": null,
            "max_width": null,
            "order": null,
            "_view_module_version": "1.2.0",
            "grid_template_areas": null,
            "object_position": null,
            "object_fit": null,
            "grid_auto_columns": null,
            "margin": null,
            "display": null,
            "left": null
          }
        },
        "c45dd474e59a494e9ece3ed19e5b31c6": {
          "model_module": "@jupyter-widgets/controls",
          "model_name": "DescriptionStyleModel",
          "state": {
            "_view_name": "StyleView",
            "_model_name": "DescriptionStyleModel",
            "description_width": "",
            "_view_module": "@jupyter-widgets/base",
            "_model_module_version": "1.5.0",
            "_view_count": null,
            "_view_module_version": "1.2.0",
            "_model_module": "@jupyter-widgets/controls"
          }
        },
        "10342e8ab60c41b8af4415e8e298864d": {
          "model_module": "@jupyter-widgets/base",
          "model_name": "LayoutModel",
          "state": {
            "_view_name": "LayoutView",
            "grid_template_rows": null,
            "right": null,
            "justify_content": null,
            "_view_module": "@jupyter-widgets/base",
            "overflow": null,
            "_model_module_version": "1.2.0",
            "_view_count": null,
            "flex_flow": null,
            "width": null,
            "min_width": null,
            "border": null,
            "align_items": null,
            "bottom": null,
            "_model_module": "@jupyter-widgets/base",
            "top": null,
            "grid_column": null,
            "overflow_y": null,
            "overflow_x": null,
            "grid_auto_flow": null,
            "grid_area": null,
            "grid_template_columns": null,
            "flex": null,
            "_model_name": "LayoutModel",
            "justify_items": null,
            "grid_row": null,
            "max_height": null,
            "align_content": null,
            "visibility": null,
            "align_self": null,
            "height": null,
            "min_height": null,
            "padding": null,
            "grid_auto_rows": null,
            "grid_gap": null,
            "max_width": null,
            "order": null,
            "_view_module_version": "1.2.0",
            "grid_template_areas": null,
            "object_position": null,
            "object_fit": null,
            "grid_auto_columns": null,
            "margin": null,
            "display": null,
            "left": null
          }
        },
        "706c0a2c021643cebebec774114cf497": {
          "model_module": "@jupyter-widgets/controls",
          "model_name": "DescriptionStyleModel",
          "state": {
            "_view_name": "StyleView",
            "_model_name": "DescriptionStyleModel",
            "description_width": "",
            "_view_module": "@jupyter-widgets/base",
            "_model_module_version": "1.5.0",
            "_view_count": null,
            "_view_module_version": "1.2.0",
            "_model_module": "@jupyter-widgets/controls"
          }
        },
        "77c9b1ad699241b491f92f624d80317f": {
          "model_module": "@jupyter-widgets/base",
          "model_name": "LayoutModel",
          "state": {
            "_view_name": "LayoutView",
            "grid_template_rows": null,
            "right": null,
            "justify_content": null,
            "_view_module": "@jupyter-widgets/base",
            "overflow": null,
            "_model_module_version": "1.2.0",
            "_view_count": null,
            "flex_flow": null,
            "width": null,
            "min_width": null,
            "border": null,
            "align_items": null,
            "bottom": null,
            "_model_module": "@jupyter-widgets/base",
            "top": null,
            "grid_column": null,
            "overflow_y": null,
            "overflow_x": null,
            "grid_auto_flow": null,
            "grid_area": null,
            "grid_template_columns": null,
            "flex": null,
            "_model_name": "LayoutModel",
            "justify_items": null,
            "grid_row": null,
            "max_height": null,
            "align_content": null,
            "visibility": null,
            "align_self": null,
            "height": null,
            "min_height": null,
            "padding": null,
            "grid_auto_rows": null,
            "grid_gap": null,
            "max_width": null,
            "order": null,
            "_view_module_version": "1.2.0",
            "grid_template_areas": null,
            "object_position": null,
            "object_fit": null,
            "grid_auto_columns": null,
            "margin": null,
            "display": null,
            "left": null
          }
        },
        "242bc7507c854d2489099147b412483d": {
          "model_module": "@jupyter-widgets/controls",
          "model_name": "DescriptionStyleModel",
          "state": {
            "_view_name": "StyleView",
            "_model_name": "DescriptionStyleModel",
            "description_width": "",
            "_view_module": "@jupyter-widgets/base",
            "_model_module_version": "1.5.0",
            "_view_count": null,
            "_view_module_version": "1.2.0",
            "_model_module": "@jupyter-widgets/controls"
          }
        },
        "f6b22419ff76470cacedb56a5aad939a": {
          "model_module": "@jupyter-widgets/base",
          "model_name": "LayoutModel",
          "state": {
            "_view_name": "LayoutView",
            "grid_template_rows": null,
            "right": null,
            "justify_content": null,
            "_view_module": "@jupyter-widgets/base",
            "overflow": null,
            "_model_module_version": "1.2.0",
            "_view_count": null,
            "flex_flow": null,
            "width": null,
            "min_width": null,
            "border": null,
            "align_items": null,
            "bottom": null,
            "_model_module": "@jupyter-widgets/base",
            "top": null,
            "grid_column": null,
            "overflow_y": null,
            "overflow_x": null,
            "grid_auto_flow": null,
            "grid_area": null,
            "grid_template_columns": null,
            "flex": null,
            "_model_name": "LayoutModel",
            "justify_items": null,
            "grid_row": null,
            "max_height": null,
            "align_content": null,
            "visibility": null,
            "align_self": null,
            "height": null,
            "min_height": null,
            "padding": null,
            "grid_auto_rows": null,
            "grid_gap": null,
            "max_width": null,
            "order": null,
            "_view_module_version": "1.2.0",
            "grid_template_areas": null,
            "object_position": null,
            "object_fit": null,
            "grid_auto_columns": null,
            "margin": null,
            "display": null,
            "left": null
          }
        },
        "4a114aafc0a24c45904bac9939a4aa27": {
          "model_module": "@jupyter-widgets/controls",
          "model_name": "ButtonModel",
          "state": {
            "_view_name": "ButtonView",
            "style": "IPY_MODEL_f47246b447f5489a8663aae0344eec83",
            "_dom_classes": [],
            "description": "Start simulator",
            "_model_name": "ButtonModel",
            "button_style": "",
            "_view_module": "@jupyter-widgets/controls",
            "_model_module_version": "1.5.0",
            "tooltip": "",
            "_view_count": null,
            "disabled": false,
            "_view_module_version": "1.5.0",
            "layout": "IPY_MODEL_2cab87ed434c4108bfd64968675cdab8",
            "_model_module": "@jupyter-widgets/controls",
            "icon": ""
          }
        },
        "f47246b447f5489a8663aae0344eec83": {
          "model_module": "@jupyter-widgets/controls",
          "model_name": "ButtonStyleModel",
          "state": {
            "_view_name": "StyleView",
            "_model_name": "ButtonStyleModel",
            "_view_module": "@jupyter-widgets/base",
            "_model_module_version": "1.5.0",
            "_view_count": null,
            "button_color": null,
            "font_weight": "",
            "_view_module_version": "1.2.0",
            "_model_module": "@jupyter-widgets/controls"
          }
        },
        "2cab87ed434c4108bfd64968675cdab8": {
          "model_module": "@jupyter-widgets/base",
          "model_name": "LayoutModel",
          "state": {
            "_view_name": "LayoutView",
            "grid_template_rows": null,
            "right": null,
            "justify_content": null,
            "_view_module": "@jupyter-widgets/base",
            "overflow": null,
            "_model_module_version": "1.2.0",
            "_view_count": null,
            "flex_flow": null,
            "width": null,
            "min_width": null,
            "border": null,
            "align_items": null,
            "bottom": null,
            "_model_module": "@jupyter-widgets/base",
            "top": null,
            "grid_column": null,
            "overflow_y": null,
            "overflow_x": null,
            "grid_auto_flow": null,
            "grid_area": null,
            "grid_template_columns": null,
            "flex": null,
            "_model_name": "LayoutModel",
            "justify_items": null,
            "grid_row": null,
            "max_height": null,
            "align_content": null,
            "visibility": null,
            "align_self": null,
            "height": null,
            "min_height": null,
            "padding": null,
            "grid_auto_rows": null,
            "grid_gap": null,
            "max_width": null,
            "order": null,
            "_view_module_version": "1.2.0",
            "grid_template_areas": null,
            "object_position": null,
            "object_fit": null,
            "grid_auto_columns": null,
            "margin": null,
            "display": null,
            "left": null
          }
        }
      }
    }
  },
  "cells": [
    {
      "cell_type": "markdown",
      "metadata": {
        "id": "view-in-github",
        "colab_type": "text"
      },
      "source": [
        "<a href=\"https://colab.research.google.com/github/ClovisMonteiro/Data-solutions/blob/main/Task_1_Happy_Marriage.ipynb\" target=\"_parent\"><img src=\"https://colab.research.google.com/assets/colab-badge.svg\" alt=\"Open In Colab\"/></a>"
      ]
    },
    {
      "cell_type": "markdown",
      "metadata": {
        "id": "2kSdegZbDqnv"
      },
      "source": [
        "# Task 1 - Happy Marriage.ipynb"
      ]
    },
    {
      "cell_type": "markdown",
      "metadata": {
        "id": "QPiCFx-I0tiE"
      },
      "source": [
        "This work objective is to find what are the ingredients to a happy marriage and what correlates with a happy marriage. To answer these questions we are going to use a dataset from the General Social Survey of 2006 \n",
        "\n",
        "(http://www.thearda.com/Archive/Files/Codebooks/GSS2006_CB.asp).\n",
        "\n",
        "*This is a typical data analysis problem but you are free to create simple models to predict happy marriage"
      ]
    },
    {
      "cell_type": "markdown",
      "metadata": {
        "id": "ivSW8SXNDtjt"
      },
      "source": [
        "### Import all required libraries"
      ]
    },
    {
      "cell_type": "code",
      "metadata": {
        "id": "8aKp3wOD0iSk"
      },
      "source": [
        "import pandas as pd\n",
        "import os\n",
        "import matplotlib.pyplot as plt\n",
        "import os\n",
        "\n",
        "%matplotlib inline\n",
        "import warnings\n",
        "warnings.filterwarnings('ignore')\n",
        "import numpy as np\n",
        "import seaborn as sns"
      ],
      "execution_count": 1,
      "outputs": []
    },
    {
      "cell_type": "markdown",
      "metadata": {
        "id": "VLIVvJLXD3n7"
      },
      "source": [
        "### Load Data"
      ]
    },
    {
      "cell_type": "code",
      "metadata": {
        "colab": {
          "base_uri": "https://localhost:8080/"
        },
        "id": "ztYuFs-Z3vqJ",
        "outputId": "f0b0753b-18ef-4cd6-8fbf-9f12fb212c05"
      },
      "source": [
        "os.listdir(\"./drive/MyDrive/Data_Solutions/Happy_Marriage/\")"
      ],
      "execution_count": 2,
      "outputs": [
        {
          "output_type": "execute_result",
          "data": {
            "text/plain": [
              "['General_Social_Survey_2006.XLSX']"
            ]
          },
          "metadata": {
            "tags": []
          },
          "execution_count": 2
        }
      ]
    },
    {
      "cell_type": "code",
      "metadata": {
        "id": "UwUlZA3E2Ot6"
      },
      "source": [
        "data = \"./drive/MyDrive/Data_Solutions/Happy_Marriage/General_Social_Survey_2006.XLSX\""
      ],
      "execution_count": 3,
      "outputs": []
    },
    {
      "cell_type": "code",
      "metadata": {
        "id": "O2enjyX_2fr3"
      },
      "source": [
        "#list_columns = [ 'MARITAL','WIDOWED','SPHRS2','SPEVWORK','SPWRKSLF','PRAY','HAPMAR'] \n",
        "\n",
        "df = pd.read_excel(data) "
      ],
      "execution_count": 4,
      "outputs": []
    },
    {
      "cell_type": "markdown",
      "metadata": {
        "id": "QFpg-UkZD50H"
      },
      "source": [
        "### Analyzing data"
      ]
    },
    {
      "cell_type": "code",
      "metadata": {
        "colab": {
          "base_uri": "https://localhost:8080/"
        },
        "id": "dToUvV8q5KmY",
        "outputId": "0939f1e0-89dd-4ca0-c674-d5098c05999c"
      },
      "source": [
        "df.shape\n",
        "\n",
        "# number of rows X columns"
      ],
      "execution_count": 5,
      "outputs": [
        {
          "output_type": "execute_result",
          "data": {
            "text/plain": [
              "(4510, 1239)"
            ]
          },
          "metadata": {
            "tags": []
          },
          "execution_count": 5
        }
      ]
    },
    {
      "cell_type": "code",
      "metadata": {
        "colab": {
          "base_uri": "https://localhost:8080/",
          "height": 349
        },
        "id": "EdY5yiRT5PcM",
        "outputId": "992f8370-e066-4bd2-f515-ae91cd8c2626"
      },
      "source": [
        "df.describe()\n",
        "\n",
        "# statistical values of dataset"
      ],
      "execution_count": 6,
      "outputs": [
        {
          "output_type": "execute_result",
          "data": {
            "text/html": [
              "<div>\n",
              "<style scoped>\n",
              "    .dataframe tbody tr th:only-of-type {\n",
              "        vertical-align: middle;\n",
              "    }\n",
              "\n",
              "    .dataframe tbody tr th {\n",
              "        vertical-align: top;\n",
              "    }\n",
              "\n",
              "    .dataframe thead th {\n",
              "        text-align: right;\n",
              "    }\n",
              "</style>\n",
              "<table border=\"1\" class=\"dataframe\">\n",
              "  <thead>\n",
              "    <tr style=\"text-align: right;\">\n",
              "      <th></th>\n",
              "      <th>YEAR</th>\n",
              "      <th>ID</th>\n",
              "      <th>WRKSTAT</th>\n",
              "      <th>HRS1</th>\n",
              "      <th>HRS2</th>\n",
              "      <th>EVWORK</th>\n",
              "      <th>WRKSLF</th>\n",
              "      <th>WRKGOVT</th>\n",
              "      <th>OCC80</th>\n",
              "      <th>PREST80</th>\n",
              "      <th>INDUS80</th>\n",
              "      <th>MARITAL</th>\n",
              "      <th>AGEWED</th>\n",
              "      <th>DIVORCE</th>\n",
              "      <th>WIDOWED</th>\n",
              "      <th>SPWRKSTA</th>\n",
              "      <th>SPHRS1</th>\n",
              "      <th>SPHRS2</th>\n",
              "      <th>SPEVWORK</th>\n",
              "      <th>SPWRKSLF</th>\n",
              "      <th>SPOCC80</th>\n",
              "      <th>SPPRES80</th>\n",
              "      <th>SPIND80</th>\n",
              "      <th>PAWRKSLF</th>\n",
              "      <th>PAOCC80</th>\n",
              "      <th>PAPRES80</th>\n",
              "      <th>PAIND80</th>\n",
              "      <th>MAOCC80</th>\n",
              "      <th>MAPRES80</th>\n",
              "      <th>MAWRKSLF</th>\n",
              "      <th>MAIND80</th>\n",
              "      <th>SIBS</th>\n",
              "      <th>CHILDS</th>\n",
              "      <th>AGE</th>\n",
              "      <th>AGEKDBRN</th>\n",
              "      <th>EDUC</th>\n",
              "      <th>PAEDUC</th>\n",
              "      <th>MAEDUC</th>\n",
              "      <th>SPEDUC</th>\n",
              "      <th>DEGREE</th>\n",
              "      <th>...</th>\n",
              "      <th>DATEINTV</th>\n",
              "      <th>ISCO681</th>\n",
              "      <th>PAISC681</th>\n",
              "      <th>MAISC681</th>\n",
              "      <th>SPISC681</th>\n",
              "      <th>ISCO88</th>\n",
              "      <th>PAISCO88</th>\n",
              "      <th>MAISCO88</th>\n",
              "      <th>SPISCO88</th>\n",
              "      <th>SEI</th>\n",
              "      <th>PASEI</th>\n",
              "      <th>MASEI</th>\n",
              "      <th>SPSEI</th>\n",
              "      <th>COHORT</th>\n",
              "      <th>ZODIAC</th>\n",
              "      <th>INTHISP</th>\n",
              "      <th>INTRACE1</th>\n",
              "      <th>INTRACE2</th>\n",
              "      <th>INTRACE3</th>\n",
              "      <th>BALLOT</th>\n",
              "      <th>VERSION</th>\n",
              "      <th>ISSP</th>\n",
              "      <th>FORMWT</th>\n",
              "      <th>SAMPCODE</th>\n",
              "      <th>SAMPLE</th>\n",
              "      <th>OVERSAMP</th>\n",
              "      <th>PHASE</th>\n",
              "      <th>SPANSELF</th>\n",
              "      <th>SPANINT</th>\n",
              "      <th>SPANENG</th>\n",
              "      <th>WTSS</th>\n",
              "      <th>WTSSNR</th>\n",
              "      <th>WTSSALL</th>\n",
              "      <th>I_AGE</th>\n",
              "      <th>I_ATTEND</th>\n",
              "      <th>I_EDUC</th>\n",
              "      <th>I_GENDER</th>\n",
              "      <th>I_RELIGION</th>\n",
              "      <th>I_REGION</th>\n",
              "      <th>I_RACE</th>\n",
              "    </tr>\n",
              "  </thead>\n",
              "  <tbody>\n",
              "    <tr>\n",
              "      <th>count</th>\n",
              "      <td>4510.0</td>\n",
              "      <td>4510.000000</td>\n",
              "      <td>4510.000000</td>\n",
              "      <td>2765.000000</td>\n",
              "      <td>88.000000</td>\n",
              "      <td>1522.000000</td>\n",
              "      <td>4323.000000</td>\n",
              "      <td>4323.000000</td>\n",
              "      <td>4323.000000</td>\n",
              "      <td>4510.000000</td>\n",
              "      <td>4323.000000</td>\n",
              "      <td>4510.000000</td>\n",
              "      <td>1168.000000</td>\n",
              "      <td>2542.000000</td>\n",
              "      <td>3064.000000</td>\n",
              "      <td>2176.000000</td>\n",
              "      <td>1434.000000</td>\n",
              "      <td>35.000000</td>\n",
              "      <td>699.000000</td>\n",
              "      <td>2045.000000</td>\n",
              "      <td>2045.000000</td>\n",
              "      <td>1998.000000</td>\n",
              "      <td>2045.000000</td>\n",
              "      <td>2461.000000</td>\n",
              "      <td>4510.000000</td>\n",
              "      <td>2369.000000</td>\n",
              "      <td>4510.000000</td>\n",
              "      <td>4510.000000</td>\n",
              "      <td>1795.000000</td>\n",
              "      <td>1873.000000</td>\n",
              "      <td>4510.000000</td>\n",
              "      <td>2992.000000</td>\n",
              "      <td>4510.000000</td>\n",
              "      <td>4510.000000</td>\n",
              "      <td>2162.000000</td>\n",
              "      <td>4510.000000</td>\n",
              "      <td>4510.000000</td>\n",
              "      <td>4510.000000</td>\n",
              "      <td>4510.000000</td>\n",
              "      <td>4510.000000</td>\n",
              "      <td>...</td>\n",
              "      <td>4510.000000</td>\n",
              "      <td>4270.000000</td>\n",
              "      <td>2369.000000</td>\n",
              "      <td>1795.000000</td>\n",
              "      <td>1997.000000</td>\n",
              "      <td>4270.000000</td>\n",
              "      <td>2369.000000</td>\n",
              "      <td>1795.000000</td>\n",
              "      <td>1997.000000</td>\n",
              "      <td>4242.000000</td>\n",
              "      <td>2311.000000</td>\n",
              "      <td>1787.000000</td>\n",
              "      <td>1977.000000</td>\n",
              "      <td>4510.000000</td>\n",
              "      <td>4510.000000</td>\n",
              "      <td>4510.000000</td>\n",
              "      <td>4510.000000</td>\n",
              "      <td>234.000000</td>\n",
              "      <td>25.000000</td>\n",
              "      <td>4510.000000</td>\n",
              "      <td>4510.000000</td>\n",
              "      <td>1518.0</td>\n",
              "      <td>4510.0</td>\n",
              "      <td>4510.000000</td>\n",
              "      <td>4510.0</td>\n",
              "      <td>4510.0</td>\n",
              "      <td>4510.000000</td>\n",
              "      <td>4510.000000</td>\n",
              "      <td>277.000000</td>\n",
              "      <td>4510.000000</td>\n",
              "      <td>4510.000000</td>\n",
              "      <td>4510.000000</td>\n",
              "      <td>4510.000000</td>\n",
              "      <td>4492.000000</td>\n",
              "      <td>4491.000000</td>\n",
              "      <td>4507.000000</td>\n",
              "      <td>4510.000000</td>\n",
              "      <td>4484.000000</td>\n",
              "      <td>4510.000000</td>\n",
              "      <td>4510.000000</td>\n",
              "    </tr>\n",
              "    <tr>\n",
              "      <th>mean</th>\n",
              "      <td>2006.0</td>\n",
              "      <td>2255.500000</td>\n",
              "      <td>2.949224</td>\n",
              "      <td>42.608318</td>\n",
              "      <td>42.443182</td>\n",
              "      <td>1.149146</td>\n",
              "      <td>1.907703</td>\n",
              "      <td>1.910248</td>\n",
              "      <td>365.560722</td>\n",
              "      <td>41.817073</td>\n",
              "      <td>614.019431</td>\n",
              "      <td>2.478049</td>\n",
              "      <td>23.782534</td>\n",
              "      <td>1.757278</td>\n",
              "      <td>1.994125</td>\n",
              "      <td>2.814338</td>\n",
              "      <td>43.313110</td>\n",
              "      <td>60.085714</td>\n",
              "      <td>1.333333</td>\n",
              "      <td>1.954034</td>\n",
              "      <td>374.005379</td>\n",
              "      <td>45.493493</td>\n",
              "      <td>596.880685</td>\n",
              "      <td>1.823243</td>\n",
              "      <td>256.539246</td>\n",
              "      <td>43.414943</td>\n",
              "      <td>237.991574</td>\n",
              "      <td>165.747450</td>\n",
              "      <td>41.623398</td>\n",
              "      <td>2.008542</td>\n",
              "      <td>270.246341</td>\n",
              "      <td>3.886698</td>\n",
              "      <td>1.918625</td>\n",
              "      <td>47.348559</td>\n",
              "      <td>24.360777</td>\n",
              "      <td>13.501996</td>\n",
              "      <td>54.129933</td>\n",
              "      <td>47.150998</td>\n",
              "      <td>71.076718</td>\n",
              "      <td>1.542129</td>\n",
              "      <td>...</td>\n",
              "      <td>467.352772</td>\n",
              "      <td>4503.076347</td>\n",
              "      <td>5901.628957</td>\n",
              "      <td>4375.019499</td>\n",
              "      <td>4563.168252</td>\n",
              "      <td>4641.130679</td>\n",
              "      <td>5546.142676</td>\n",
              "      <td>4948.193315</td>\n",
              "      <td>4672.682023</td>\n",
              "      <td>49.409595</td>\n",
              "      <td>46.927131</td>\n",
              "      <td>44.135478</td>\n",
              "      <td>50.987709</td>\n",
              "      <td>1990.947672</td>\n",
              "      <td>9.666075</td>\n",
              "      <td>2.433703</td>\n",
              "      <td>2.043459</td>\n",
              "      <td>12.170940</td>\n",
              "      <td>73.560000</td>\n",
              "      <td>2.672506</td>\n",
              "      <td>4.659424</td>\n",
              "      <td>1.0</td>\n",
              "      <td>1.0</td>\n",
              "      <td>534.900443</td>\n",
              "      <td>9.0</td>\n",
              "      <td>1.0</td>\n",
              "      <td>1.193792</td>\n",
              "      <td>0.159202</td>\n",
              "      <td>1.851986</td>\n",
              "      <td>1.061419</td>\n",
              "      <td>1.000490</td>\n",
              "      <td>1.000029</td>\n",
              "      <td>1.000003</td>\n",
              "      <td>2.666963</td>\n",
              "      <td>3.791138</td>\n",
              "      <td>1.537164</td>\n",
              "      <td>1.555876</td>\n",
              "      <td>1.978368</td>\n",
              "      <td>2.679823</td>\n",
              "      <td>1.403104</td>\n",
              "    </tr>\n",
              "    <tr>\n",
              "      <th>std</th>\n",
              "      <td>0.0</td>\n",
              "      <td>1302.069187</td>\n",
              "      <td>2.418023</td>\n",
              "      <td>15.181068</td>\n",
              "      <td>17.878169</td>\n",
              "      <td>0.557740</td>\n",
              "      <td>0.530463</td>\n",
              "      <td>0.898502</td>\n",
              "      <td>252.646683</td>\n",
              "      <td>16.848167</td>\n",
              "      <td>279.116748</td>\n",
              "      <td>1.665624</td>\n",
              "      <td>8.445032</td>\n",
              "      <td>0.576750</td>\n",
              "      <td>0.407205</td>\n",
              "      <td>2.454645</td>\n",
              "      <td>15.268118</td>\n",
              "      <td>28.772302</td>\n",
              "      <td>1.116003</td>\n",
              "      <td>0.764833</td>\n",
              "      <td>271.349931</td>\n",
              "      <td>14.240537</td>\n",
              "      <td>292.134220</td>\n",
              "      <td>0.888067</td>\n",
              "      <td>314.198540</td>\n",
              "      <td>12.978984</td>\n",
              "      <td>326.380854</td>\n",
              "      <td>257.910422</td>\n",
              "      <td>14.622820</td>\n",
              "      <td>0.966275</td>\n",
              "      <td>363.645474</td>\n",
              "      <td>4.705311</td>\n",
              "      <td>1.722429</td>\n",
              "      <td>17.174680</td>\n",
              "      <td>8.229994</td>\n",
              "      <td>5.310736</td>\n",
              "      <td>43.036085</td>\n",
              "      <td>42.461025</td>\n",
              "      <td>38.715783</td>\n",
              "      <td>1.211087</td>\n",
              "      <td>...</td>\n",
              "      <td>132.046577</td>\n",
              "      <td>2934.758982</td>\n",
              "      <td>3089.061150</td>\n",
              "      <td>2628.459389</td>\n",
              "      <td>3093.260561</td>\n",
              "      <td>2576.349925</td>\n",
              "      <td>2809.203614</td>\n",
              "      <td>2564.314725</td>\n",
              "      <td>2676.326202</td>\n",
              "      <td>19.599476</td>\n",
              "      <td>18.972330</td>\n",
              "      <td>19.749892</td>\n",
              "      <td>19.965797</td>\n",
              "      <td>507.260994</td>\n",
              "      <td>17.298503</td>\n",
              "      <td>7.997694</td>\n",
              "      <td>6.643297</td>\n",
              "      <td>25.684213</td>\n",
              "      <td>41.799203</td>\n",
              "      <td>1.156935</td>\n",
              "      <td>2.174413</td>\n",
              "      <td>0.0</td>\n",
              "      <td>0.0</td>\n",
              "      <td>24.406580</td>\n",
              "      <td>0.0</td>\n",
              "      <td>0.0</td>\n",
              "      <td>0.395311</td>\n",
              "      <td>0.643939</td>\n",
              "      <td>0.355757</td>\n",
              "      <td>0.240124</td>\n",
              "      <td>0.602808</td>\n",
              "      <td>0.629053</td>\n",
              "      <td>0.603240</td>\n",
              "      <td>1.159298</td>\n",
              "      <td>2.436183</td>\n",
              "      <td>1.196099</td>\n",
              "      <td>0.496923</td>\n",
              "      <td>1.283477</td>\n",
              "      <td>0.991834</td>\n",
              "      <td>0.709402</td>\n",
              "    </tr>\n",
              "    <tr>\n",
              "      <th>min</th>\n",
              "      <td>2006.0</td>\n",
              "      <td>1.000000</td>\n",
              "      <td>1.000000</td>\n",
              "      <td>1.000000</td>\n",
              "      <td>5.000000</td>\n",
              "      <td>1.000000</td>\n",
              "      <td>1.000000</td>\n",
              "      <td>1.000000</td>\n",
              "      <td>3.000000</td>\n",
              "      <td>0.000000</td>\n",
              "      <td>10.000000</td>\n",
              "      <td>1.000000</td>\n",
              "      <td>13.000000</td>\n",
              "      <td>1.000000</td>\n",
              "      <td>1.000000</td>\n",
              "      <td>1.000000</td>\n",
              "      <td>1.000000</td>\n",
              "      <td>20.000000</td>\n",
              "      <td>1.000000</td>\n",
              "      <td>1.000000</td>\n",
              "      <td>3.000000</td>\n",
              "      <td>17.000000</td>\n",
              "      <td>10.000000</td>\n",
              "      <td>1.000000</td>\n",
              "      <td>0.000000</td>\n",
              "      <td>17.000000</td>\n",
              "      <td>0.000000</td>\n",
              "      <td>0.000000</td>\n",
              "      <td>17.000000</td>\n",
              "      <td>1.000000</td>\n",
              "      <td>0.000000</td>\n",
              "      <td>0.000000</td>\n",
              "      <td>0.000000</td>\n",
              "      <td>18.000000</td>\n",
              "      <td>13.000000</td>\n",
              "      <td>0.000000</td>\n",
              "      <td>0.000000</td>\n",
              "      <td>0.000000</td>\n",
              "      <td>0.000000</td>\n",
              "      <td>0.000000</td>\n",
              "      <td>...</td>\n",
              "      <td>307.000000</td>\n",
              "      <td>110.000000</td>\n",
              "      <td>110.000000</td>\n",
              "      <td>110.000000</td>\n",
              "      <td>110.000000</td>\n",
              "      <td>110.000000</td>\n",
              "      <td>110.000000</td>\n",
              "      <td>110.000000</td>\n",
              "      <td>110.000000</td>\n",
              "      <td>17.100000</td>\n",
              "      <td>17.100000</td>\n",
              "      <td>17.100000</td>\n",
              "      <td>17.100000</td>\n",
              "      <td>1917.000000</td>\n",
              "      <td>1.000000</td>\n",
              "      <td>1.000000</td>\n",
              "      <td>1.000000</td>\n",
              "      <td>1.000000</td>\n",
              "      <td>1.000000</td>\n",
              "      <td>1.000000</td>\n",
              "      <td>1.000000</td>\n",
              "      <td>1.0</td>\n",
              "      <td>1.0</td>\n",
              "      <td>501.000000</td>\n",
              "      <td>9.0</td>\n",
              "      <td>1.0</td>\n",
              "      <td>1.000000</td>\n",
              "      <td>0.000000</td>\n",
              "      <td>1.000000</td>\n",
              "      <td>1.000000</td>\n",
              "      <td>0.430000</td>\n",
              "      <td>0.360000</td>\n",
              "      <td>0.429700</td>\n",
              "      <td>1.000000</td>\n",
              "      <td>1.000000</td>\n",
              "      <td>0.000000</td>\n",
              "      <td>1.000000</td>\n",
              "      <td>1.000000</td>\n",
              "      <td>1.000000</td>\n",
              "      <td>1.000000</td>\n",
              "    </tr>\n",
              "    <tr>\n",
              "      <th>25%</th>\n",
              "      <td>2006.0</td>\n",
              "      <td>1128.250000</td>\n",
              "      <td>1.000000</td>\n",
              "      <td>38.000000</td>\n",
              "      <td>37.250000</td>\n",
              "      <td>1.000000</td>\n",
              "      <td>2.000000</td>\n",
              "      <td>2.000000</td>\n",
              "      <td>163.000000</td>\n",
              "      <td>31.000000</td>\n",
              "      <td>410.000000</td>\n",
              "      <td>1.000000</td>\n",
              "      <td>19.000000</td>\n",
              "      <td>1.000000</td>\n",
              "      <td>2.000000</td>\n",
              "      <td>1.000000</td>\n",
              "      <td>40.000000</td>\n",
              "      <td>40.000000</td>\n",
              "      <td>1.000000</td>\n",
              "      <td>2.000000</td>\n",
              "      <td>156.000000</td>\n",
              "      <td>34.000000</td>\n",
              "      <td>362.000000</td>\n",
              "      <td>1.000000</td>\n",
              "      <td>0.000000</td>\n",
              "      <td>34.000000</td>\n",
              "      <td>0.000000</td>\n",
              "      <td>0.000000</td>\n",
              "      <td>30.000000</td>\n",
              "      <td>2.000000</td>\n",
              "      <td>0.000000</td>\n",
              "      <td>2.000000</td>\n",
              "      <td>0.000000</td>\n",
              "      <td>34.000000</td>\n",
              "      <td>20.000000</td>\n",
              "      <td>12.000000</td>\n",
              "      <td>12.000000</td>\n",
              "      <td>12.000000</td>\n",
              "      <td>16.000000</td>\n",
              "      <td>1.000000</td>\n",
              "      <td>...</td>\n",
              "      <td>330.000000</td>\n",
              "      <td>2010.000000</td>\n",
              "      <td>3609.000000</td>\n",
              "      <td>2190.000000</td>\n",
              "      <td>1939.000000</td>\n",
              "      <td>2331.250000</td>\n",
              "      <td>2431.000000</td>\n",
              "      <td>2432.000000</td>\n",
              "      <td>2321.000000</td>\n",
              "      <td>32.800000</td>\n",
              "      <td>31.500000</td>\n",
              "      <td>29.000000</td>\n",
              "      <td>33.100000</td>\n",
              "      <td>1947.000000</td>\n",
              "      <td>4.000000</td>\n",
              "      <td>1.000000</td>\n",
              "      <td>1.000000</td>\n",
              "      <td>1.000000</td>\n",
              "      <td>16.000000</td>\n",
              "      <td>2.000000</td>\n",
              "      <td>3.000000</td>\n",
              "      <td>1.0</td>\n",
              "      <td>1.0</td>\n",
              "      <td>511.000000</td>\n",
              "      <td>9.0</td>\n",
              "      <td>1.0</td>\n",
              "      <td>1.000000</td>\n",
              "      <td>0.000000</td>\n",
              "      <td>2.000000</td>\n",
              "      <td>1.000000</td>\n",
              "      <td>0.450000</td>\n",
              "      <td>0.500000</td>\n",
              "      <td>0.448800</td>\n",
              "      <td>2.000000</td>\n",
              "      <td>1.000000</td>\n",
              "      <td>1.000000</td>\n",
              "      <td>1.000000</td>\n",
              "      <td>1.000000</td>\n",
              "      <td>2.000000</td>\n",
              "      <td>1.000000</td>\n",
              "    </tr>\n",
              "    <tr>\n",
              "      <th>50%</th>\n",
              "      <td>2006.0</td>\n",
              "      <td>2255.500000</td>\n",
              "      <td>1.000000</td>\n",
              "      <td>40.000000</td>\n",
              "      <td>40.000000</td>\n",
              "      <td>1.000000</td>\n",
              "      <td>2.000000</td>\n",
              "      <td>2.000000</td>\n",
              "      <td>348.000000</td>\n",
              "      <td>42.000000</td>\n",
              "      <td>711.000000</td>\n",
              "      <td>2.000000</td>\n",
              "      <td>22.000000</td>\n",
              "      <td>2.000000</td>\n",
              "      <td>2.000000</td>\n",
              "      <td>1.000000</td>\n",
              "      <td>40.000000</td>\n",
              "      <td>40.000000</td>\n",
              "      <td>1.000000</td>\n",
              "      <td>2.000000</td>\n",
              "      <td>345.000000</td>\n",
              "      <td>45.000000</td>\n",
              "      <td>702.000000</td>\n",
              "      <td>2.000000</td>\n",
              "      <td>23.000000</td>\n",
              "      <td>40.000000</td>\n",
              "      <td>11.000000</td>\n",
              "      <td>0.000000</td>\n",
              "      <td>40.000000</td>\n",
              "      <td>2.000000</td>\n",
              "      <td>0.000000</td>\n",
              "      <td>3.000000</td>\n",
              "      <td>2.000000</td>\n",
              "      <td>46.000000</td>\n",
              "      <td>23.000000</td>\n",
              "      <td>13.000000</td>\n",
              "      <td>20.000000</td>\n",
              "      <td>16.000000</td>\n",
              "      <td>97.000000</td>\n",
              "      <td>1.000000</td>\n",
              "      <td>...</td>\n",
              "      <td>422.000000</td>\n",
              "      <td>4210.000000</td>\n",
              "      <td>6110.000000</td>\n",
              "      <td>4410.000000</td>\n",
              "      <td>4210.000000</td>\n",
              "      <td>4131.000000</td>\n",
              "      <td>6133.000000</td>\n",
              "      <td>4211.000000</td>\n",
              "      <td>4131.000000</td>\n",
              "      <td>42.200000</td>\n",
              "      <td>38.200000</td>\n",
              "      <td>37.900000</td>\n",
              "      <td>48.500000</td>\n",
              "      <td>1960.000000</td>\n",
              "      <td>7.000000</td>\n",
              "      <td>1.000000</td>\n",
              "      <td>1.000000</td>\n",
              "      <td>3.000000</td>\n",
              "      <td>99.000000</td>\n",
              "      <td>3.000000</td>\n",
              "      <td>5.000000</td>\n",
              "      <td>1.0</td>\n",
              "      <td>1.0</td>\n",
              "      <td>534.000000</td>\n",
              "      <td>9.0</td>\n",
              "      <td>1.0</td>\n",
              "      <td>1.000000</td>\n",
              "      <td>0.000000</td>\n",
              "      <td>2.000000</td>\n",
              "      <td>1.000000</td>\n",
              "      <td>0.860000</td>\n",
              "      <td>0.860000</td>\n",
              "      <td>0.859300</td>\n",
              "      <td>3.000000</td>\n",
              "      <td>3.000000</td>\n",
              "      <td>1.000000</td>\n",
              "      <td>2.000000</td>\n",
              "      <td>1.000000</td>\n",
              "      <td>3.000000</td>\n",
              "      <td>1.000000</td>\n",
              "    </tr>\n",
              "    <tr>\n",
              "      <th>75%</th>\n",
              "      <td>2006.0</td>\n",
              "      <td>3382.750000</td>\n",
              "      <td>5.000000</td>\n",
              "      <td>50.000000</td>\n",
              "      <td>45.000000</td>\n",
              "      <td>1.000000</td>\n",
              "      <td>2.000000</td>\n",
              "      <td>2.000000</td>\n",
              "      <td>486.000000</td>\n",
              "      <td>51.000000</td>\n",
              "      <td>841.500000</td>\n",
              "      <td>4.000000</td>\n",
              "      <td>26.000000</td>\n",
              "      <td>2.000000</td>\n",
              "      <td>2.000000</td>\n",
              "      <td>5.000000</td>\n",
              "      <td>50.000000</td>\n",
              "      <td>99.000000</td>\n",
              "      <td>1.000000</td>\n",
              "      <td>2.000000</td>\n",
              "      <td>549.000000</td>\n",
              "      <td>54.000000</td>\n",
              "      <td>842.000000</td>\n",
              "      <td>2.000000</td>\n",
              "      <td>503.000000</td>\n",
              "      <td>51.000000</td>\n",
              "      <td>412.000000</td>\n",
              "      <td>313.000000</td>\n",
              "      <td>51.000000</td>\n",
              "      <td>2.000000</td>\n",
              "      <td>652.000000</td>\n",
              "      <td>5.000000</td>\n",
              "      <td>3.000000</td>\n",
              "      <td>59.000000</td>\n",
              "      <td>27.000000</td>\n",
              "      <td>16.000000</td>\n",
              "      <td>97.000000</td>\n",
              "      <td>97.000000</td>\n",
              "      <td>97.000000</td>\n",
              "      <td>3.000000</td>\n",
              "      <td>...</td>\n",
              "      <td>523.000000</td>\n",
              "      <td>6001.000000</td>\n",
              "      <td>8559.000000</td>\n",
              "      <td>5600.000000</td>\n",
              "      <td>7000.000000</td>\n",
              "      <td>7212.000000</td>\n",
              "      <td>8111.000000</td>\n",
              "      <td>7439.000000</td>\n",
              "      <td>7231.000000</td>\n",
              "      <td>64.100000</td>\n",
              "      <td>63.200000</td>\n",
              "      <td>63.500000</td>\n",
              "      <td>64.800000</td>\n",
              "      <td>1972.000000</td>\n",
              "      <td>10.000000</td>\n",
              "      <td>1.000000</td>\n",
              "      <td>1.000000</td>\n",
              "      <td>15.750000</td>\n",
              "      <td>99.000000</td>\n",
              "      <td>4.000000</td>\n",
              "      <td>7.000000</td>\n",
              "      <td>1.0</td>\n",
              "      <td>1.0</td>\n",
              "      <td>555.000000</td>\n",
              "      <td>9.0</td>\n",
              "      <td>1.0</td>\n",
              "      <td>1.000000</td>\n",
              "      <td>0.000000</td>\n",
              "      <td>2.000000</td>\n",
              "      <td>1.000000</td>\n",
              "      <td>1.000000</td>\n",
              "      <td>1.100000</td>\n",
              "      <td>0.997400</td>\n",
              "      <td>3.000000</td>\n",
              "      <td>7.000000</td>\n",
              "      <td>3.000000</td>\n",
              "      <td>2.000000</td>\n",
              "      <td>2.000000</td>\n",
              "      <td>3.000000</td>\n",
              "      <td>2.000000</td>\n",
              "    </tr>\n",
              "    <tr>\n",
              "      <th>max</th>\n",
              "      <td>2006.0</td>\n",
              "      <td>4510.000000</td>\n",
              "      <td>9.000000</td>\n",
              "      <td>99.000000</td>\n",
              "      <td>99.000000</td>\n",
              "      <td>9.000000</td>\n",
              "      <td>9.000000</td>\n",
              "      <td>9.000000</td>\n",
              "      <td>999.000000</td>\n",
              "      <td>86.000000</td>\n",
              "      <td>999.000000</td>\n",
              "      <td>9.000000</td>\n",
              "      <td>99.000000</td>\n",
              "      <td>9.000000</td>\n",
              "      <td>9.000000</td>\n",
              "      <td>9.000000</td>\n",
              "      <td>99.000000</td>\n",
              "      <td>99.000000</td>\n",
              "      <td>9.000000</td>\n",
              "      <td>9.000000</td>\n",
              "      <td>999.000000</td>\n",
              "      <td>86.000000</td>\n",
              "      <td>999.000000</td>\n",
              "      <td>9.000000</td>\n",
              "      <td>999.000000</td>\n",
              "      <td>86.000000</td>\n",
              "      <td>999.000000</td>\n",
              "      <td>999.000000</td>\n",
              "      <td>86.000000</td>\n",
              "      <td>9.000000</td>\n",
              "      <td>999.000000</td>\n",
              "      <td>99.000000</td>\n",
              "      <td>9.000000</td>\n",
              "      <td>99.000000</td>\n",
              "      <td>99.000000</td>\n",
              "      <td>99.000000</td>\n",
              "      <td>99.000000</td>\n",
              "      <td>99.000000</td>\n",
              "      <td>99.000000</td>\n",
              "      <td>9.000000</td>\n",
              "      <td>...</td>\n",
              "      <td>807.000000</td>\n",
              "      <td>9996.000000</td>\n",
              "      <td>9996.000000</td>\n",
              "      <td>9990.000000</td>\n",
              "      <td>9990.000000</td>\n",
              "      <td>9333.000000</td>\n",
              "      <td>9333.000000</td>\n",
              "      <td>9333.000000</td>\n",
              "      <td>9333.000000</td>\n",
              "      <td>97.200000</td>\n",
              "      <td>97.200000</td>\n",
              "      <td>97.200000</td>\n",
              "      <td>97.200000</td>\n",
              "      <td>9999.000000</td>\n",
              "      <td>99.000000</td>\n",
              "      <td>99.000000</td>\n",
              "      <td>99.000000</td>\n",
              "      <td>99.000000</td>\n",
              "      <td>99.000000</td>\n",
              "      <td>4.000000</td>\n",
              "      <td>7.000000</td>\n",
              "      <td>1.0</td>\n",
              "      <td>1.0</td>\n",
              "      <td>579.000000</td>\n",
              "      <td>9.0</td>\n",
              "      <td>1.0</td>\n",
              "      <td>2.000000</td>\n",
              "      <td>3.000000</td>\n",
              "      <td>2.000000</td>\n",
              "      <td>2.000000</td>\n",
              "      <td>5.730000</td>\n",
              "      <td>6.590000</td>\n",
              "      <td>5.728800</td>\n",
              "      <td>5.000000</td>\n",
              "      <td>7.000000</td>\n",
              "      <td>4.000000</td>\n",
              "      <td>2.000000</td>\n",
              "      <td>5.000000</td>\n",
              "      <td>4.000000</td>\n",
              "      <td>3.000000</td>\n",
              "    </tr>\n",
              "  </tbody>\n",
              "</table>\n",
              "<p>8 rows × 1239 columns</p>\n",
              "</div>"
            ],
            "text/plain": [
              "         YEAR           ID      WRKSTAT  ...   I_RELIGION     I_REGION       I_RACE\n",
              "count  4510.0  4510.000000  4510.000000  ...  4484.000000  4510.000000  4510.000000\n",
              "mean   2006.0  2255.500000     2.949224  ...     1.978368     2.679823     1.403104\n",
              "std       0.0  1302.069187     2.418023  ...     1.283477     0.991834     0.709402\n",
              "min    2006.0     1.000000     1.000000  ...     1.000000     1.000000     1.000000\n",
              "25%    2006.0  1128.250000     1.000000  ...     1.000000     2.000000     1.000000\n",
              "50%    2006.0  2255.500000     1.000000  ...     1.000000     3.000000     1.000000\n",
              "75%    2006.0  3382.750000     5.000000  ...     2.000000     3.000000     2.000000\n",
              "max    2006.0  4510.000000     9.000000  ...     5.000000     4.000000     3.000000\n",
              "\n",
              "[8 rows x 1239 columns]"
            ]
          },
          "metadata": {
            "tags": []
          },
          "execution_count": 6
        }
      ]
    },
    {
      "cell_type": "code",
      "metadata": {
        "colab": {
          "base_uri": "https://localhost:8080/"
        },
        "id": "zjCl35xY5VZz",
        "outputId": "3050bf8d-e804-4244-90bd-b5016ff71a70"
      },
      "source": [
        "df.info()\n",
        "\n",
        "# dataset information"
      ],
      "execution_count": 7,
      "outputs": [
        {
          "output_type": "stream",
          "text": [
            "<class 'pandas.core.frame.DataFrame'>\n",
            "RangeIndex: 4510 entries, 0 to 4509\n",
            "Columns: 1239 entries, YEAR to I_RACE\n",
            "dtypes: float64(1157), int64(82)\n",
            "memory usage: 42.6 MB\n"
          ],
          "name": "stdout"
        }
      ]
    },
    {
      "cell_type": "code",
      "metadata": {
        "colab": {
          "base_uri": "https://localhost:8080/"
        },
        "id": "WRNqMfgOIsyW",
        "outputId": "4f036920-502e-4db6-e8fb-f3c5a7299057"
      },
      "source": [
        "df.isnull().any().describe()"
      ],
      "execution_count": 8,
      "outputs": [
        {
          "output_type": "execute_result",
          "data": {
            "text/plain": [
              "count     1239\n",
              "unique       2\n",
              "top       True\n",
              "freq      1154\n",
              "dtype: object"
            ]
          },
          "metadata": {
            "tags": []
          },
          "execution_count": 8
        }
      ]
    },
    {
      "cell_type": "code",
      "metadata": {
        "colab": {
          "base_uri": "https://localhost:8080/",
          "height": 130
        },
        "id": "ZdVnmuNgHuUF",
        "outputId": "387dc8fe-d452-41c8-87f0-dee457fe0004"
      },
      "source": [
        "df.dtypes.to_frame().T"
      ],
      "execution_count": 72,
      "outputs": [
        {
          "output_type": "execute_result",
          "data": {
            "text/html": [
              "<div>\n",
              "<style scoped>\n",
              "    .dataframe tbody tr th:only-of-type {\n",
              "        vertical-align: middle;\n",
              "    }\n",
              "\n",
              "    .dataframe tbody tr th {\n",
              "        vertical-align: top;\n",
              "    }\n",
              "\n",
              "    .dataframe thead th {\n",
              "        text-align: right;\n",
              "    }\n",
              "</style>\n",
              "<table border=\"1\" class=\"dataframe\">\n",
              "  <thead>\n",
              "    <tr style=\"text-align: right;\">\n",
              "      <th></th>\n",
              "      <th>YEAR</th>\n",
              "      <th>ID</th>\n",
              "      <th>WRKSTAT</th>\n",
              "      <th>HRS1</th>\n",
              "      <th>HRS2</th>\n",
              "      <th>EVWORK</th>\n",
              "      <th>WRKSLF</th>\n",
              "      <th>WRKGOVT</th>\n",
              "      <th>OCC80</th>\n",
              "      <th>PREST80</th>\n",
              "      <th>INDUS80</th>\n",
              "      <th>MARITAL</th>\n",
              "      <th>AGEWED</th>\n",
              "      <th>DIVORCE</th>\n",
              "      <th>WIDOWED</th>\n",
              "      <th>SPWRKSTA</th>\n",
              "      <th>SPHRS1</th>\n",
              "      <th>SPHRS2</th>\n",
              "      <th>SPEVWORK</th>\n",
              "      <th>SPWRKSLF</th>\n",
              "      <th>SPOCC80</th>\n",
              "      <th>SPPRES80</th>\n",
              "      <th>SPIND80</th>\n",
              "      <th>PAWRKSLF</th>\n",
              "      <th>PAOCC80</th>\n",
              "      <th>PAPRES80</th>\n",
              "      <th>PAIND80</th>\n",
              "      <th>MAOCC80</th>\n",
              "      <th>MAPRES80</th>\n",
              "      <th>MAWRKSLF</th>\n",
              "      <th>MAIND80</th>\n",
              "      <th>SIBS</th>\n",
              "      <th>CHILDS</th>\n",
              "      <th>AGE</th>\n",
              "      <th>AGEKDBRN</th>\n",
              "      <th>EDUC</th>\n",
              "      <th>PAEDUC</th>\n",
              "      <th>MAEDUC</th>\n",
              "      <th>SPEDUC</th>\n",
              "      <th>DEGREE</th>\n",
              "      <th>...</th>\n",
              "      <th>PAISC681</th>\n",
              "      <th>MAISC681</th>\n",
              "      <th>SPISC681</th>\n",
              "      <th>ISCO88</th>\n",
              "      <th>PAISCO88</th>\n",
              "      <th>MAISCO88</th>\n",
              "      <th>SPISCO88</th>\n",
              "      <th>SEI</th>\n",
              "      <th>PASEI</th>\n",
              "      <th>MASEI</th>\n",
              "      <th>SPSEI</th>\n",
              "      <th>COHORT</th>\n",
              "      <th>ZODIAC</th>\n",
              "      <th>INTHISP</th>\n",
              "      <th>INTRACE1</th>\n",
              "      <th>INTRACE2</th>\n",
              "      <th>INTRACE3</th>\n",
              "      <th>BALLOT</th>\n",
              "      <th>VERSION</th>\n",
              "      <th>ISSP</th>\n",
              "      <th>FORMWT</th>\n",
              "      <th>SAMPCODE</th>\n",
              "      <th>SAMPLE</th>\n",
              "      <th>OVERSAMP</th>\n",
              "      <th>PHASE</th>\n",
              "      <th>SPANSELF</th>\n",
              "      <th>SPANINT</th>\n",
              "      <th>SPANENG</th>\n",
              "      <th>WTSS</th>\n",
              "      <th>WTSSNR</th>\n",
              "      <th>WTSSALL</th>\n",
              "      <th>I_AGE</th>\n",
              "      <th>I_ATTEND</th>\n",
              "      <th>I_EDUC</th>\n",
              "      <th>I_GENDER</th>\n",
              "      <th>I_RELIGION</th>\n",
              "      <th>I_REGION</th>\n",
              "      <th>I_RACE</th>\n",
              "      <th>HAPMAR2</th>\n",
              "      <th>HAPPY2</th>\n",
              "    </tr>\n",
              "  </thead>\n",
              "  <tbody>\n",
              "    <tr>\n",
              "      <th>0</th>\n",
              "      <td>int64</td>\n",
              "      <td>int64</td>\n",
              "      <td>int64</td>\n",
              "      <td>float64</td>\n",
              "      <td>float64</td>\n",
              "      <td>float64</td>\n",
              "      <td>float64</td>\n",
              "      <td>float64</td>\n",
              "      <td>float64</td>\n",
              "      <td>int64</td>\n",
              "      <td>float64</td>\n",
              "      <td>int64</td>\n",
              "      <td>float64</td>\n",
              "      <td>float64</td>\n",
              "      <td>float64</td>\n",
              "      <td>float64</td>\n",
              "      <td>float64</td>\n",
              "      <td>float64</td>\n",
              "      <td>float64</td>\n",
              "      <td>float64</td>\n",
              "      <td>float64</td>\n",
              "      <td>float64</td>\n",
              "      <td>float64</td>\n",
              "      <td>float64</td>\n",
              "      <td>int64</td>\n",
              "      <td>float64</td>\n",
              "      <td>int64</td>\n",
              "      <td>int64</td>\n",
              "      <td>float64</td>\n",
              "      <td>float64</td>\n",
              "      <td>int64</td>\n",
              "      <td>float64</td>\n",
              "      <td>int64</td>\n",
              "      <td>int64</td>\n",
              "      <td>float64</td>\n",
              "      <td>int64</td>\n",
              "      <td>int64</td>\n",
              "      <td>int64</td>\n",
              "      <td>int64</td>\n",
              "      <td>int64</td>\n",
              "      <td>...</td>\n",
              "      <td>float64</td>\n",
              "      <td>float64</td>\n",
              "      <td>float64</td>\n",
              "      <td>float64</td>\n",
              "      <td>float64</td>\n",
              "      <td>float64</td>\n",
              "      <td>float64</td>\n",
              "      <td>float64</td>\n",
              "      <td>float64</td>\n",
              "      <td>float64</td>\n",
              "      <td>float64</td>\n",
              "      <td>int64</td>\n",
              "      <td>int64</td>\n",
              "      <td>int64</td>\n",
              "      <td>int64</td>\n",
              "      <td>float64</td>\n",
              "      <td>float64</td>\n",
              "      <td>int64</td>\n",
              "      <td>int64</td>\n",
              "      <td>float64</td>\n",
              "      <td>int64</td>\n",
              "      <td>int64</td>\n",
              "      <td>int64</td>\n",
              "      <td>int64</td>\n",
              "      <td>int64</td>\n",
              "      <td>int64</td>\n",
              "      <td>float64</td>\n",
              "      <td>int64</td>\n",
              "      <td>float64</td>\n",
              "      <td>float64</td>\n",
              "      <td>float64</td>\n",
              "      <td>float64</td>\n",
              "      <td>float64</td>\n",
              "      <td>float64</td>\n",
              "      <td>int64</td>\n",
              "      <td>float64</td>\n",
              "      <td>int64</td>\n",
              "      <td>int64</td>\n",
              "      <td>object</td>\n",
              "      <td>object</td>\n",
              "    </tr>\n",
              "  </tbody>\n",
              "</table>\n",
              "<p>1 rows × 1241 columns</p>\n",
              "</div>"
            ],
            "text/plain": [
              "    YEAR     ID WRKSTAT     HRS1  ... I_REGION I_RACE HAPMAR2  HAPPY2\n",
              "0  int64  int64   int64  float64  ...    int64  int64  object  object\n",
              "\n",
              "[1 rows x 1241 columns]"
            ]
          },
          "metadata": {
            "tags": []
          },
          "execution_count": 72
        }
      ]
    },
    {
      "cell_type": "code",
      "metadata": {
        "colab": {
          "base_uri": "https://localhost:8080/"
        },
        "id": "-L6BjiJu9QCv",
        "outputId": "dde92b0b-592f-427c-8bba-557813379921"
      },
      "source": [
        "df['ID'].sort_values().value_counts()\n",
        "\n",
        "#  no duplicate id"
      ],
      "execution_count": 10,
      "outputs": [
        {
          "output_type": "execute_result",
          "data": {
            "text/plain": [
              "2047    1\n",
              "549     1\n",
              "537     1\n",
              "2588    1\n",
              "541     1\n",
              "       ..\n",
              "1286    1\n",
              "3331    1\n",
              "1282    1\n",
              "3327    1\n",
              "2049    1\n",
              "Name: ID, Length: 4510, dtype: int64"
            ]
          },
          "metadata": {
            "tags": []
          },
          "execution_count": 10
        }
      ]
    },
    {
      "cell_type": "markdown",
      "metadata": {
        "id": "Pl97uYcQ57M7"
      },
      "source": [
        "The analysis consists of looking for the **ingredients for a happy marriage** in the dataset. \n",
        "\n",
        "Getting the variable information that corresponds to a happy marriage in the **article informed**.\n",
        "\n",
        "\n",
        "![HAPMAR.jpg](data:image/jpeg;base64,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)\n",
        "\n",
        "Link: https://www.thearda.com/Archive/Files/Codebooks/GSS2006_CB.asp\n",
        "Question: 160\n",
        "\n"
      ]
    },
    {
      "cell_type": "code",
      "metadata": {
        "colab": {
          "base_uri": "https://localhost:8080/"
        },
        "id": "cZbWUX-NMhwQ",
        "outputId": "1e44d5a9-f3a9-42e4-f373-ff2131897718"
      },
      "source": [
        "df['HAPMAR'].value_counts()\n",
        "\n",
        "# Value counts of HAPMAR"
      ],
      "execution_count": 13,
      "outputs": [
        {
          "output_type": "execute_result",
          "data": {
            "text/plain": [
              "Missing    3094\n",
              "1.0         861\n",
              "2.0         512\n",
              "3.0          37\n",
              "9.0           5\n",
              "8.0           1\n",
              "Name: HAPMAR, dtype: int64"
            ]
          },
          "metadata": {
            "tags": []
          },
          "execution_count": 13
        }
      ]
    },
    {
      "cell_type": "code",
      "metadata": {
        "id": "d2pHHiryEarq"
      },
      "source": [
        "# Removing missing values for analisys\n",
        "df['HAPMAR'].fillna(\"Missing\", inplace=True)"
      ],
      "execution_count": 11,
      "outputs": []
    },
    {
      "cell_type": "code",
      "metadata": {
        "id": "C3vsyvswNQXA"
      },
      "source": [
        "conditions = {1:'Very happy',2:'Pretty happy', 3:'Not too happy',8:\"Don't know\",9:'No answer','Missing': 'Missing' }\n",
        "\n",
        "df['HAPMAR2'] = df['HAPMAR'].map(conditions)"
      ],
      "execution_count": 12,
      "outputs": []
    },
    {
      "cell_type": "code",
      "metadata": {
        "colab": {
          "base_uri": "https://localhost:8080/",
          "height": 206
        },
        "id": "SCSiO0QyQMBw",
        "outputId": "1a295222-d874-45c7-c246-9f5ed2aaa99c"
      },
      "source": [
        "an_values = df['HAPMAR2'].value_counts().to_frame().reset_index()\n",
        "an_values.columns = ['HAPMAR2', 'Value_counts']\n",
        "an_values.head()\n",
        "\n",
        "# Identifying the data with options"
      ],
      "execution_count": 14,
      "outputs": [
        {
          "output_type": "execute_result",
          "data": {
            "text/html": [
              "<div>\n",
              "<style scoped>\n",
              "    .dataframe tbody tr th:only-of-type {\n",
              "        vertical-align: middle;\n",
              "    }\n",
              "\n",
              "    .dataframe tbody tr th {\n",
              "        vertical-align: top;\n",
              "    }\n",
              "\n",
              "    .dataframe thead th {\n",
              "        text-align: right;\n",
              "    }\n",
              "</style>\n",
              "<table border=\"1\" class=\"dataframe\">\n",
              "  <thead>\n",
              "    <tr style=\"text-align: right;\">\n",
              "      <th></th>\n",
              "      <th>HAPMAR2</th>\n",
              "      <th>Value_counts</th>\n",
              "    </tr>\n",
              "  </thead>\n",
              "  <tbody>\n",
              "    <tr>\n",
              "      <th>0</th>\n",
              "      <td>Missing</td>\n",
              "      <td>3094</td>\n",
              "    </tr>\n",
              "    <tr>\n",
              "      <th>1</th>\n",
              "      <td>Very happy</td>\n",
              "      <td>861</td>\n",
              "    </tr>\n",
              "    <tr>\n",
              "      <th>2</th>\n",
              "      <td>Pretty happy</td>\n",
              "      <td>512</td>\n",
              "    </tr>\n",
              "    <tr>\n",
              "      <th>3</th>\n",
              "      <td>Not too happy</td>\n",
              "      <td>37</td>\n",
              "    </tr>\n",
              "    <tr>\n",
              "      <th>4</th>\n",
              "      <td>No answer</td>\n",
              "      <td>5</td>\n",
              "    </tr>\n",
              "  </tbody>\n",
              "</table>\n",
              "</div>"
            ],
            "text/plain": [
              "         HAPMAR2  Value_counts\n",
              "0        Missing          3094\n",
              "1     Very happy           861\n",
              "2   Pretty happy           512\n",
              "3  Not too happy            37\n",
              "4      No answer             5"
            ]
          },
          "metadata": {
            "tags": []
          },
          "execution_count": 14
        }
      ]
    },
    {
      "cell_type": "code",
      "metadata": {
        "colab": {
          "base_uri": "https://localhost:8080/",
          "height": 421
        },
        "id": "PxMDYzYAQlmd",
        "outputId": "67be7c5e-3558-4b72-8bd4-ac5089c88f82"
      },
      "source": [
        "plt.figure(figsize=(16, 6))\n",
        "sns.barplot(x =\"HAPMAR2\", y=\"Value_counts\", data = an_values)\n",
        "plt.title('Graph with answered values')\n"
      ],
      "execution_count": 15,
      "outputs": [
        {
          "output_type": "execute_result",
          "data": {
            "text/plain": [
              "Text(0.5, 1.0, 'Graph with answered values')"
            ]
          },
          "metadata": {
            "tags": []
          },
          "execution_count": 15
        },
        {
          "output_type": "display_data",
          "data": {
            "image/png": "[encoded data removed]",
            "text/plain": [
              "<Figure size 1152x432 with 1 Axes>"
            ]
          },
          "metadata": {
            "tags": [],
            "needs_background": "light"
          }
        }
      ]
    },
    {
      "cell_type": "code",
      "metadata": {
        "id": "76XhgPBATcZP"
      },
      "source": [
        "an_values2 = an_values[1:]"
      ],
      "execution_count": 16,
      "outputs": []
    },
    {
      "cell_type": "code",
      "metadata": {
        "colab": {
          "base_uri": "https://localhost:8080/",
          "height": 421
        },
        "id": "jhcYXjTYQA9s",
        "outputId": "2a47e9c2-420c-4b54-aed8-6f08345374d6"
      },
      "source": [
        "plt.figure(figsize=(16, 6))\n",
        "sns.barplot(x =\"HAPMAR2\", y=\"Value_counts\", data = an_values2)\n",
        "plt.title('Chart without missing data')"
      ],
      "execution_count": 17,
      "outputs": [
        {
          "output_type": "execute_result",
          "data": {
            "text/plain": [
              "Text(0.5, 1.0, 'Chart without missing data')"
            ]
          },
          "metadata": {
            "tags": []
          },
          "execution_count": 17
        },
        {
          "output_type": "display_data",
          "data": {
            "image/png": "[encoded data removed]",
            "text/plain": [
              "<Figure size 1152x432 with 1 Axes>"
            ]
          },
          "metadata": {
            "tags": [],
            "needs_background": "light"
          }
        }
      ]
    },
    {
      "cell_type": "code",
      "metadata": {
        "id": "WMJyvlSPEUW_"
      },
      "source": [
        "conditions = {1:'Very happy',2:'Pretty happy', 3:'Not too happy',8:\"Don't know\", \"\":\"Missing\"}\n",
        "\n",
        "df['HAPPY2'] = df['HAPPY'].map(conditions)"
      ],
      "execution_count": 18,
      "outputs": []
    },
    {
      "cell_type": "code",
      "metadata": {
        "colab": {
          "base_uri": "https://localhost:8080/",
          "height": 175
        },
        "id": "BySfaY-lDFuh",
        "outputId": "89cf9553-d12f-426b-b4b0-254f285380d0"
      },
      "source": [
        "happy_values = df['HAPPY2'].value_counts().to_frame().reset_index()\n",
        "happy_values.columns = ['HAPPY2', 'Value_counts']\n",
        "happy_values.head()"
      ],
      "execution_count": 19,
      "outputs": [
        {
          "output_type": "execute_result",
          "data": {
            "text/html": [
              "<div>\n",
              "<style scoped>\n",
              "    .dataframe tbody tr th:only-of-type {\n",
              "        vertical-align: middle;\n",
              "    }\n",
              "\n",
              "    .dataframe tbody tr th {\n",
              "        vertical-align: top;\n",
              "    }\n",
              "\n",
              "    .dataframe thead th {\n",
              "        text-align: right;\n",
              "    }\n",
              "</style>\n",
              "<table border=\"1\" class=\"dataframe\">\n",
              "  <thead>\n",
              "    <tr style=\"text-align: right;\">\n",
              "      <th></th>\n",
              "      <th>HAPPY2</th>\n",
              "      <th>Value_counts</th>\n",
              "    </tr>\n",
              "  </thead>\n",
              "  <tbody>\n",
              "    <tr>\n",
              "      <th>0</th>\n",
              "      <td>Pretty happy</td>\n",
              "      <td>1676</td>\n",
              "    </tr>\n",
              "    <tr>\n",
              "      <th>1</th>\n",
              "      <td>Very happy</td>\n",
              "      <td>920</td>\n",
              "    </tr>\n",
              "    <tr>\n",
              "      <th>2</th>\n",
              "      <td>Not too happy</td>\n",
              "      <td>390</td>\n",
              "    </tr>\n",
              "    <tr>\n",
              "      <th>3</th>\n",
              "      <td>Don't know</td>\n",
              "      <td>6</td>\n",
              "    </tr>\n",
              "  </tbody>\n",
              "</table>\n",
              "</div>"
            ],
            "text/plain": [
              "          HAPPY2  Value_counts\n",
              "0   Pretty happy          1676\n",
              "1     Very happy           920\n",
              "2  Not too happy           390\n",
              "3     Don't know             6"
            ]
          },
          "metadata": {
            "tags": []
          },
          "execution_count": 19
        }
      ]
    },
    {
      "cell_type": "code",
      "metadata": {
        "colab": {
          "base_uri": "https://localhost:8080/",
          "height": 421
        },
        "id": "x_00qnG6DWgf",
        "outputId": "b76c0064-bcbe-466c-cca2-5266b7b24123"
      },
      "source": [
        "plt.figure(figsize=(16, 6))\n",
        "sns.barplot(x =\"HAPPY2\", y=\"Value_counts\", \n",
        "            data = happy_values)\n",
        "\n",
        "plt.title(\"Chart with all data of happiness peoples\")"
      ],
      "execution_count": 20,
      "outputs": [
        {
          "output_type": "execute_result",
          "data": {
            "text/plain": [
              "Text(0.5, 1.0, 'Chart with all data of happiness peoples')"
            ]
          },
          "metadata": {
            "tags": []
          },
          "execution_count": 20
        },
        {
          "output_type": "display_data",
          "data": {
            "image/png": "[encoded data removed]",
            "text/plain": [
              "<Figure size 1152x432 with 1 Axes>"
            ]
          },
          "metadata": {
            "tags": [],
            "needs_background": "light"
          }
        }
      ]
    },
    {
      "cell_type": "code",
      "metadata": {
        "id": "DWgDUEw4D0fK"
      },
      "source": [
        "marriage = df.query(\"'Missing' not in HAPMAR\")"
      ],
      "execution_count": 21,
      "outputs": []
    },
    {
      "cell_type": "code",
      "metadata": {
        "colab": {
          "base_uri": "https://localhost:8080/"
        },
        "id": "0Cie-N7CD0hA",
        "outputId": "fdd8c0c2-288c-45f9-d6aa-d0b1e2400d4e"
      },
      "source": [
        "marriage.shape"
      ],
      "execution_count": 22,
      "outputs": [
        {
          "output_type": "execute_result",
          "data": {
            "text/plain": [
              "(1416, 1241)"
            ]
          },
          "metadata": {
            "tags": []
          },
          "execution_count": 22
        }
      ]
    },
    {
      "cell_type": "code",
      "metadata": {
        "id": "EXO2jC25D0i8"
      },
      "source": [
        "marriage = marriage.dropna(axis=1).copy()"
      ],
      "execution_count": 23,
      "outputs": []
    },
    {
      "cell_type": "code",
      "metadata": {
        "colab": {
          "base_uri": "https://localhost:8080/"
        },
        "id": "NGOah-VQEVWS",
        "outputId": "ed4a9160-8b80-451f-8018-a08d8b92eb23"
      },
      "source": [
        "marriage.shape"
      ],
      "execution_count": 24,
      "outputs": [
        {
          "output_type": "execute_result",
          "data": {
            "text/plain": [
              "(1416, 132)"
            ]
          },
          "metadata": {
            "tags": []
          },
          "execution_count": 24
        }
      ]
    },
    {
      "cell_type": "code",
      "metadata": {
        "colab": {
          "base_uri": "https://localhost:8080/",
          "height": 175
        },
        "id": "h9kJVhkhEajy",
        "outputId": "cf19f7be-d493-4d09-c561-1df7d0d38e24"
      },
      "source": [
        "happy_marriage = marriage['HAPPY2'].value_counts().to_frame().reset_index()\n",
        "happy_marriage.columns = ['HAPPY2', 'Value_counts']\n",
        "happy_marriage.head()"
      ],
      "execution_count": 25,
      "outputs": [
        {
          "output_type": "execute_result",
          "data": {
            "text/html": [
              "<div>\n",
              "<style scoped>\n",
              "    .dataframe tbody tr th:only-of-type {\n",
              "        vertical-align: middle;\n",
              "    }\n",
              "\n",
              "    .dataframe tbody tr th {\n",
              "        vertical-align: top;\n",
              "    }\n",
              "\n",
              "    .dataframe thead th {\n",
              "        text-align: right;\n",
              "    }\n",
              "</style>\n",
              "<table border=\"1\" class=\"dataframe\">\n",
              "  <thead>\n",
              "    <tr style=\"text-align: right;\">\n",
              "      <th></th>\n",
              "      <th>HAPPY2</th>\n",
              "      <th>Value_counts</th>\n",
              "    </tr>\n",
              "  </thead>\n",
              "  <tbody>\n",
              "    <tr>\n",
              "      <th>0</th>\n",
              "      <td>Pretty happy</td>\n",
              "      <td>720</td>\n",
              "    </tr>\n",
              "    <tr>\n",
              "      <th>1</th>\n",
              "      <td>Very happy</td>\n",
              "      <td>601</td>\n",
              "    </tr>\n",
              "    <tr>\n",
              "      <th>2</th>\n",
              "      <td>Not too happy</td>\n",
              "      <td>94</td>\n",
              "    </tr>\n",
              "    <tr>\n",
              "      <th>3</th>\n",
              "      <td>Don't know</td>\n",
              "      <td>1</td>\n",
              "    </tr>\n",
              "  </tbody>\n",
              "</table>\n",
              "</div>"
            ],
            "text/plain": [
              "          HAPPY2  Value_counts\n",
              "0   Pretty happy           720\n",
              "1     Very happy           601\n",
              "2  Not too happy            94\n",
              "3     Don't know             1"
            ]
          },
          "metadata": {
            "tags": []
          },
          "execution_count": 25
        }
      ]
    },
    {
      "cell_type": "code",
      "metadata": {
        "colab": {
          "base_uri": "https://localhost:8080/",
          "height": 405
        },
        "id": "GDdvPEs2EiOz",
        "outputId": "2ea3ffa5-b241-4ee3-f9e2-c9563300d7df"
      },
      "source": [
        "plt.figure(figsize=(16, 6))\n",
        "sns.barplot(x =\"HAPPY2\", y=\"Value_counts\", data = happy_marriage)\n",
        "\n",
        "# Chart with data from married people  "
      ],
      "execution_count": 26,
      "outputs": [
        {
          "output_type": "execute_result",
          "data": {
            "text/plain": [
              "<matplotlib.axes._subplots.AxesSubplot at 0x7f843729de10>"
            ]
          },
          "metadata": {
            "tags": []
          },
          "execution_count": 26
        },
        {
          "output_type": "display_data",
          "data": {
            "image/png": "[encoded data removed]",
            "text/plain": [
              "<Figure size 1152x432 with 1 Axes>"
            ]
          },
          "metadata": {
            "tags": [],
            "needs_background": "light"
          }
        }
      ]
    },
    {
      "cell_type": "code",
      "metadata": {
        "colab": {
          "base_uri": "https://localhost:8080/"
        },
        "id": "VvBat6L-FjQ4",
        "outputId": "d1dc6c22-e21a-490b-8b0d-b98a38f2af42"
      },
      "source": [
        "df.shape, marriage.shape"
      ],
      "execution_count": 27,
      "outputs": [
        {
          "output_type": "execute_result",
          "data": {
            "text/plain": [
              "((4510, 1241), (1416, 132))"
            ]
          },
          "metadata": {
            "tags": []
          },
          "execution_count": 27
        }
      ]
    },
    {
      "cell_type": "code",
      "metadata": {
        "colab": {
          "base_uri": "https://localhost:8080/",
          "height": 391
        },
        "id": "PDbpCIF9FjYw",
        "outputId": "1122a7a3-2d3e-4137-df08-5b1f0af957d3"
      },
      "source": [
        "pie_plot_cf = pd.DataFrame({'rows': [4510, 1241],\n",
        "                   'columns': [1416, 132]},\n",
        "                  index=['DataFrame Completed', 'Dataframe Married'])\n",
        "\n",
        "plot = pie_plot_cf.plot.pie(y='rows', figsize=(16, 6))\n",
        "\n",
        "plt.title(\"DataFrame Completed X People who responded about marriage \")"
      ],
      "execution_count": 67,
      "outputs": [
        {
          "output_type": "execute_result",
          "data": {
            "text/plain": [
              "Text(0.5, 1.0, 'DataFrame Completed X People who responded about marriage ')"
            ]
          },
          "metadata": {
            "tags": []
          },
          "execution_count": 67
        },
        {
          "output_type": "display_data",
          "data": {
            "image/png": "[encoded data removed]",
            "text/plain": [
              "<Figure size 1152x432 with 1 Axes>"
            ]
          },
          "metadata": {
            "tags": []
          }
        }
      ]
    },
    {
      "cell_type": "code",
      "metadata": {
        "colab": {
          "base_uri": "https://localhost:8080/",
          "height": 391
        },
        "id": "0YuisHJaGpVo",
        "outputId": "a13b70ad-c68e-4178-8bd2-00899b528358"
      },
      "source": [
        "pie_plot_cf = pd.DataFrame({'rows': [4510, 1241],\n",
        "                            'columns': [1416, 132]},\n",
        "                            index=['DataFrame Completed', 'Dataframe Married'])\n",
        "\n",
        "plot = pie_plot_cf.plot.pie(y='columns', figsize=(16, 6))\n",
        "plt.title(\"DataFrame Completed X People married \")"
      ],
      "execution_count": 68,
      "outputs": [
        {
          "output_type": "execute_result",
          "data": {
            "text/plain": [
              "Text(0.5, 1.0, 'DataFrame Completed X People married ')"
            ]
          },
          "metadata": {
            "tags": []
          },
          "execution_count": 68
        },
        {
          "output_type": "display_data",
          "data": {
            "image/png": "[encoded data removed]",
            "text/plain": [
              "<Figure size 1152x432 with 1 Axes>"
            ]
          },
          "metadata": {
            "tags": []
          }
        }
      ]
    },
    {
      "cell_type": "markdown",
      "metadata": {
        "id": "j56-fmSt5Blj"
      },
      "source": [
        " - Quantas pessoas casadas já se divorciaram?\n",
        " - Quantas pessoas felizes ou muito felizes são divorciadas?\n",
        " - quantas pessoas divorciadas existem no contexto geral?"
      ]
    },
    {
      "cell_type": "markdown",
      "metadata": {
        "id": "0UshpR_BEGWu"
      },
      "source": [
        "### Feature 1"
      ]
    },
    {
      "cell_type": "code",
      "metadata": {
        "id": "FNJzVe1YM57A"
      },
      "source": [
        "df2 = df.query(\"'Missing' not in HAPMAR\")"
      ],
      "execution_count": 30,
      "outputs": []
    },
    {
      "cell_type": "code",
      "metadata": {
        "colab": {
          "base_uri": "https://localhost:8080/",
          "height": 617
        },
        "id": "RRJIOoHCJ7ov",
        "outputId": "c2548b32-805e-4a8c-ec5d-74e43c995c72"
      },
      "source": [
        "df2"
      ],
      "execution_count": 31,
      "outputs": [
        {
          "output_type": "execute_result",
          "data": {
            "text/html": [
              "<div>\n",
              "<style scoped>\n",
              "    .dataframe tbody tr th:only-of-type {\n",
              "        vertical-align: middle;\n",
              "    }\n",
              "\n",
              "    .dataframe tbody tr th {\n",
              "        vertical-align: top;\n",
              "    }\n",
              "\n",
              "    .dataframe thead th {\n",
              "        text-align: right;\n",
              "    }\n",
              "</style>\n",
              "<table border=\"1\" class=\"dataframe\">\n",
              "  <thead>\n",
              "    <tr style=\"text-align: right;\">\n",
              "      <th></th>\n",
              "      <th>YEAR</th>\n",
              "      <th>ID</th>\n",
              "      <th>WRKSTAT</th>\n",
              "      <th>HRS1</th>\n",
              "      <th>HRS2</th>\n",
              "      <th>EVWORK</th>\n",
              "      <th>WRKSLF</th>\n",
              "      <th>WRKGOVT</th>\n",
              "      <th>OCC80</th>\n",
              "      <th>PREST80</th>\n",
              "      <th>INDUS80</th>\n",
              "      <th>MARITAL</th>\n",
              "      <th>AGEWED</th>\n",
              "      <th>DIVORCE</th>\n",
              "      <th>WIDOWED</th>\n",
              "      <th>SPWRKSTA</th>\n",
              "      <th>SPHRS1</th>\n",
              "      <th>SPHRS2</th>\n",
              "      <th>SPEVWORK</th>\n",
              "      <th>SPWRKSLF</th>\n",
              "      <th>SPOCC80</th>\n",
              "      <th>SPPRES80</th>\n",
              "      <th>SPIND80</th>\n",
              "      <th>PAWRKSLF</th>\n",
              "      <th>PAOCC80</th>\n",
              "      <th>PAPRES80</th>\n",
              "      <th>PAIND80</th>\n",
              "      <th>MAOCC80</th>\n",
              "      <th>MAPRES80</th>\n",
              "      <th>MAWRKSLF</th>\n",
              "      <th>MAIND80</th>\n",
              "      <th>SIBS</th>\n",
              "      <th>CHILDS</th>\n",
              "      <th>AGE</th>\n",
              "      <th>AGEKDBRN</th>\n",
              "      <th>EDUC</th>\n",
              "      <th>PAEDUC</th>\n",
              "      <th>MAEDUC</th>\n",
              "      <th>SPEDUC</th>\n",
              "      <th>DEGREE</th>\n",
              "      <th>...</th>\n",
              "      <th>PAISC681</th>\n",
              "      <th>MAISC681</th>\n",
              "      <th>SPISC681</th>\n",
              "      <th>ISCO88</th>\n",
              "      <th>PAISCO88</th>\n",
              "      <th>MAISCO88</th>\n",
              "      <th>SPISCO88</th>\n",
              "      <th>SEI</th>\n",
              "      <th>PASEI</th>\n",
              "      <th>MASEI</th>\n",
              "      <th>SPSEI</th>\n",
              "      <th>COHORT</th>\n",
              "      <th>ZODIAC</th>\n",
              "      <th>INTHISP</th>\n",
              "      <th>INTRACE1</th>\n",
              "      <th>INTRACE2</th>\n",
              "      <th>INTRACE3</th>\n",
              "      <th>BALLOT</th>\n",
              "      <th>VERSION</th>\n",
              "      <th>ISSP</th>\n",
              "      <th>FORMWT</th>\n",
              "      <th>SAMPCODE</th>\n",
              "      <th>SAMPLE</th>\n",
              "      <th>OVERSAMP</th>\n",
              "      <th>PHASE</th>\n",
              "      <th>SPANSELF</th>\n",
              "      <th>SPANINT</th>\n",
              "      <th>SPANENG</th>\n",
              "      <th>WTSS</th>\n",
              "      <th>WTSSNR</th>\n",
              "      <th>WTSSALL</th>\n",
              "      <th>I_AGE</th>\n",
              "      <th>I_ATTEND</th>\n",
              "      <th>I_EDUC</th>\n",
              "      <th>I_GENDER</th>\n",
              "      <th>I_RELIGION</th>\n",
              "      <th>I_REGION</th>\n",
              "      <th>I_RACE</th>\n",
              "      <th>HAPMAR2</th>\n",
              "      <th>HAPPY2</th>\n",
              "    </tr>\n",
              "  </thead>\n",
              "  <tbody>\n",
              "    <tr>\n",
              "      <th>5</th>\n",
              "      <td>2006</td>\n",
              "      <td>6</td>\n",
              "      <td>1</td>\n",
              "      <td>37.0</td>\n",
              "      <td>NaN</td>\n",
              "      <td>NaN</td>\n",
              "      <td>2.0</td>\n",
              "      <td>2.0</td>\n",
              "      <td>375.0</td>\n",
              "      <td>47</td>\n",
              "      <td>711.0</td>\n",
              "      <td>1</td>\n",
              "      <td>NaN</td>\n",
              "      <td>2.0</td>\n",
              "      <td>2.0</td>\n",
              "      <td>1.0</td>\n",
              "      <td>40.0</td>\n",
              "      <td>NaN</td>\n",
              "      <td>NaN</td>\n",
              "      <td>2.0</td>\n",
              "      <td>426.0</td>\n",
              "      <td>42.0</td>\n",
              "      <td>350.0</td>\n",
              "      <td>NaN</td>\n",
              "      <td>0</td>\n",
              "      <td>NaN</td>\n",
              "      <td>0</td>\n",
              "      <td>808</td>\n",
              "      <td>32.0</td>\n",
              "      <td>2.0</td>\n",
              "      <td>931</td>\n",
              "      <td>0.0</td>\n",
              "      <td>2</td>\n",
              "      <td>35</td>\n",
              "      <td>28.0</td>\n",
              "      <td>16</td>\n",
              "      <td>97</td>\n",
              "      <td>12</td>\n",
              "      <td>10</td>\n",
              "      <td>3</td>\n",
              "      <td>...</td>\n",
              "      <td>NaN</td>\n",
              "      <td>9851.0</td>\n",
              "      <td>5890.0</td>\n",
              "      <td>3417.0</td>\n",
              "      <td>NaN</td>\n",
              "      <td>8323.0</td>\n",
              "      <td>5169.0</td>\n",
              "      <td>54.7</td>\n",
              "      <td>NaN</td>\n",
              "      <td>29.8</td>\n",
              "      <td>39.4</td>\n",
              "      <td>1971</td>\n",
              "      <td>12</td>\n",
              "      <td>1</td>\n",
              "      <td>1</td>\n",
              "      <td>NaN</td>\n",
              "      <td>NaN</td>\n",
              "      <td>2</td>\n",
              "      <td>2</td>\n",
              "      <td>NaN</td>\n",
              "      <td>1</td>\n",
              "      <td>501</td>\n",
              "      <td>9</td>\n",
              "      <td>1</td>\n",
              "      <td>2</td>\n",
              "      <td>0</td>\n",
              "      <td>NaN</td>\n",
              "      <td>1</td>\n",
              "      <td>1.91</td>\n",
              "      <td>2.16</td>\n",
              "      <td>1.9096</td>\n",
              "      <td>2.0</td>\n",
              "      <td>2.0</td>\n",
              "      <td>3.0</td>\n",
              "      <td>2</td>\n",
              "      <td>1.0</td>\n",
              "      <td>1</td>\n",
              "      <td>3</td>\n",
              "      <td>Pretty happy</td>\n",
              "      <td>Pretty happy</td>\n",
              "    </tr>\n",
              "    <tr>\n",
              "      <th>14</th>\n",
              "      <td>2006</td>\n",
              "      <td>15</td>\n",
              "      <td>7</td>\n",
              "      <td>NaN</td>\n",
              "      <td>NaN</td>\n",
              "      <td>1.0</td>\n",
              "      <td>2.0</td>\n",
              "      <td>2.0</td>\n",
              "      <td>796.0</td>\n",
              "      <td>36</td>\n",
              "      <td>660.0</td>\n",
              "      <td>1</td>\n",
              "      <td>NaN</td>\n",
              "      <td>2.0</td>\n",
              "      <td>2.0</td>\n",
              "      <td>1.0</td>\n",
              "      <td>40.0</td>\n",
              "      <td>NaN</td>\n",
              "      <td>NaN</td>\n",
              "      <td>2.0</td>\n",
              "      <td>808.0</td>\n",
              "      <td>32.0</td>\n",
              "      <td>842.0</td>\n",
              "      <td>2.0</td>\n",
              "      <td>176</td>\n",
              "      <td>69.0</td>\n",
              "      <td>880</td>\n",
              "      <td>274</td>\n",
              "      <td>32.0</td>\n",
              "      <td>2.0</td>\n",
              "      <td>691</td>\n",
              "      <td>8.0</td>\n",
              "      <td>7</td>\n",
              "      <td>34</td>\n",
              "      <td>20.0</td>\n",
              "      <td>13</td>\n",
              "      <td>15</td>\n",
              "      <td>12</td>\n",
              "      <td>15</td>\n",
              "      <td>1</td>\n",
              "      <td>...</td>\n",
              "      <td>1410.0</td>\n",
              "      <td>4519.0</td>\n",
              "      <td>9851.0</td>\n",
              "      <td>8290.0</td>\n",
              "      <td>2460.0</td>\n",
              "      <td>5220.0</td>\n",
              "      <td>8323.0</td>\n",
              "      <td>32.0</td>\n",
              "      <td>73.9</td>\n",
              "      <td>38.9</td>\n",
              "      <td>29.8</td>\n",
              "      <td>1972</td>\n",
              "      <td>7</td>\n",
              "      <td>1</td>\n",
              "      <td>1</td>\n",
              "      <td>NaN</td>\n",
              "      <td>NaN</td>\n",
              "      <td>2</td>\n",
              "      <td>2</td>\n",
              "      <td>NaN</td>\n",
              "      <td>1</td>\n",
              "      <td>501</td>\n",
              "      <td>9</td>\n",
              "      <td>1</td>\n",
              "      <td>2</td>\n",
              "      <td>0</td>\n",
              "      <td>NaN</td>\n",
              "      <td>1</td>\n",
              "      <td>1.91</td>\n",
              "      <td>2.16</td>\n",
              "      <td>1.9096</td>\n",
              "      <td>2.0</td>\n",
              "      <td>7.0</td>\n",
              "      <td>1.0</td>\n",
              "      <td>2</td>\n",
              "      <td>3.0</td>\n",
              "      <td>1</td>\n",
              "      <td>1</td>\n",
              "      <td>Very happy</td>\n",
              "      <td>Very happy</td>\n",
              "    </tr>\n",
              "    <tr>\n",
              "      <th>26</th>\n",
              "      <td>2006</td>\n",
              "      <td>27</td>\n",
              "      <td>7</td>\n",
              "      <td>NaN</td>\n",
              "      <td>NaN</td>\n",
              "      <td>1.0</td>\n",
              "      <td>1.0</td>\n",
              "      <td>2.0</td>\n",
              "      <td>406.0</td>\n",
              "      <td>29</td>\n",
              "      <td>761.0</td>\n",
              "      <td>1</td>\n",
              "      <td>NaN</td>\n",
              "      <td>2.0</td>\n",
              "      <td>2.0</td>\n",
              "      <td>1.0</td>\n",
              "      <td>40.0</td>\n",
              "      <td>NaN</td>\n",
              "      <td>NaN</td>\n",
              "      <td>2.0</td>\n",
              "      <td>37.0</td>\n",
              "      <td>49.0</td>\n",
              "      <td>212.0</td>\n",
              "      <td>2.0</td>\n",
              "      <td>73</td>\n",
              "      <td>73.0</td>\n",
              "      <td>112</td>\n",
              "      <td>0</td>\n",
              "      <td>NaN</td>\n",
              "      <td>NaN</td>\n",
              "      <td>0</td>\n",
              "      <td>10.0</td>\n",
              "      <td>3</td>\n",
              "      <td>52</td>\n",
              "      <td>16.0</td>\n",
              "      <td>5</td>\n",
              "      <td>12</td>\n",
              "      <td>12</td>\n",
              "      <td>14</td>\n",
              "      <td>0</td>\n",
              "      <td>...</td>\n",
              "      <td>110.0</td>\n",
              "      <td>NaN</td>\n",
              "      <td>2190.0</td>\n",
              "      <td>5131.0</td>\n",
              "      <td>2113.0</td>\n",
              "      <td>NaN</td>\n",
              "      <td>1229.0</td>\n",
              "      <td>30.8</td>\n",
              "      <td>86.8</td>\n",
              "      <td>NaN</td>\n",
              "      <td>68.1</td>\n",
              "      <td>1954</td>\n",
              "      <td>8</td>\n",
              "      <td>1</td>\n",
              "      <td>2</td>\n",
              "      <td>NaN</td>\n",
              "      <td>NaN</td>\n",
              "      <td>3</td>\n",
              "      <td>6</td>\n",
              "      <td>NaN</td>\n",
              "      <td>1</td>\n",
              "      <td>501</td>\n",
              "      <td>9</td>\n",
              "      <td>1</td>\n",
              "      <td>1</td>\n",
              "      <td>0</td>\n",
              "      <td>NaN</td>\n",
              "      <td>1</td>\n",
              "      <td>0.86</td>\n",
              "      <td>0.97</td>\n",
              "      <td>0.8593</td>\n",
              "      <td>3.0</td>\n",
              "      <td>5.0</td>\n",
              "      <td>0.0</td>\n",
              "      <td>2</td>\n",
              "      <td>1.0</td>\n",
              "      <td>1</td>\n",
              "      <td>3</td>\n",
              "      <td>Pretty happy</td>\n",
              "      <td>Pretty happy</td>\n",
              "    </tr>\n",
              "    <tr>\n",
              "      <th>28</th>\n",
              "      <td>2006</td>\n",
              "      <td>29</td>\n",
              "      <td>5</td>\n",
              "      <td>NaN</td>\n",
              "      <td>NaN</td>\n",
              "      <td>1.0</td>\n",
              "      <td>2.0</td>\n",
              "      <td>2.0</td>\n",
              "      <td>379.0</td>\n",
              "      <td>34</td>\n",
              "      <td>700.0</td>\n",
              "      <td>1</td>\n",
              "      <td>NaN</td>\n",
              "      <td>2.0</td>\n",
              "      <td>2.0</td>\n",
              "      <td>1.0</td>\n",
              "      <td>40.0</td>\n",
              "      <td>NaN</td>\n",
              "      <td>NaN</td>\n",
              "      <td>2.0</td>\n",
              "      <td>465.0</td>\n",
              "      <td>42.0</td>\n",
              "      <td>401.0</td>\n",
              "      <td>NaN</td>\n",
              "      <td>0</td>\n",
              "      <td>NaN</td>\n",
              "      <td>0</td>\n",
              "      <td>469</td>\n",
              "      <td>25.0</td>\n",
              "      <td>2.0</td>\n",
              "      <td>771</td>\n",
              "      <td>11.0</td>\n",
              "      <td>1</td>\n",
              "      <td>62</td>\n",
              "      <td>24.0</td>\n",
              "      <td>12</td>\n",
              "      <td>97</td>\n",
              "      <td>8</td>\n",
              "      <td>12</td>\n",
              "      <td>0</td>\n",
              "      <td>...</td>\n",
              "      <td>NaN</td>\n",
              "      <td>5900.0</td>\n",
              "      <td>5990.0</td>\n",
              "      <td>4100.0</td>\n",
              "      <td>NaN</td>\n",
              "      <td>5100.0</td>\n",
              "      <td>9152.0</td>\n",
              "      <td>37.7</td>\n",
              "      <td>NaN</td>\n",
              "      <td>34.4</td>\n",
              "      <td>63.5</td>\n",
              "      <td>1944</td>\n",
              "      <td>1</td>\n",
              "      <td>1</td>\n",
              "      <td>1</td>\n",
              "      <td>NaN</td>\n",
              "      <td>NaN</td>\n",
              "      <td>1</td>\n",
              "      <td>4</td>\n",
              "      <td>NaN</td>\n",
              "      <td>1</td>\n",
              "      <td>501</td>\n",
              "      <td>9</td>\n",
              "      <td>1</td>\n",
              "      <td>1</td>\n",
              "      <td>0</td>\n",
              "      <td>NaN</td>\n",
              "      <td>1</td>\n",
              "      <td>0.86</td>\n",
              "      <td>0.97</td>\n",
              "      <td>0.8593</td>\n",
              "      <td>4.0</td>\n",
              "      <td>7.0</td>\n",
              "      <td>0.0</td>\n",
              "      <td>2</td>\n",
              "      <td>1.0</td>\n",
              "      <td>1</td>\n",
              "      <td>2</td>\n",
              "      <td>Very happy</td>\n",
              "      <td>Pretty happy</td>\n",
              "    </tr>\n",
              "    <tr>\n",
              "      <th>34</th>\n",
              "      <td>2006</td>\n",
              "      <td>35</td>\n",
              "      <td>1</td>\n",
              "      <td>40.0</td>\n",
              "      <td>NaN</td>\n",
              "      <td>NaN</td>\n",
              "      <td>2.0</td>\n",
              "      <td>2.0</td>\n",
              "      <td>319.0</td>\n",
              "      <td>39</td>\n",
              "      <td>812.0</td>\n",
              "      <td>1</td>\n",
              "      <td>NaN</td>\n",
              "      <td>2.0</td>\n",
              "      <td>2.0</td>\n",
              "      <td>1.0</td>\n",
              "      <td>40.0</td>\n",
              "      <td>NaN</td>\n",
              "      <td>NaN</td>\n",
              "      <td>2.0</td>\n",
              "      <td>869.0</td>\n",
              "      <td>36.0</td>\n",
              "      <td>60.0</td>\n",
              "      <td>2.0</td>\n",
              "      <td>999</td>\n",
              "      <td>NaN</td>\n",
              "      <td>502</td>\n",
              "      <td>0</td>\n",
              "      <td>NaN</td>\n",
              "      <td>NaN</td>\n",
              "      <td>0</td>\n",
              "      <td>2.0</td>\n",
              "      <td>3</td>\n",
              "      <td>31</td>\n",
              "      <td>23.0</td>\n",
              "      <td>12</td>\n",
              "      <td>12</td>\n",
              "      <td>12</td>\n",
              "      <td>12</td>\n",
              "      <td>1</td>\n",
              "      <td>...</td>\n",
              "      <td>NaN</td>\n",
              "      <td>NaN</td>\n",
              "      <td>9594.0</td>\n",
              "      <td>4222.0</td>\n",
              "      <td>NaN</td>\n",
              "      <td>NaN</td>\n",
              "      <td>9313.0</td>\n",
              "      <td>36.5</td>\n",
              "      <td>NaN</td>\n",
              "      <td>NaN</td>\n",
              "      <td>28.6</td>\n",
              "      <td>1975</td>\n",
              "      <td>1</td>\n",
              "      <td>1</td>\n",
              "      <td>1</td>\n",
              "      <td>NaN</td>\n",
              "      <td>NaN</td>\n",
              "      <td>2</td>\n",
              "      <td>2</td>\n",
              "      <td>NaN</td>\n",
              "      <td>1</td>\n",
              "      <td>501</td>\n",
              "      <td>9</td>\n",
              "      <td>1</td>\n",
              "      <td>1</td>\n",
              "      <td>0</td>\n",
              "      <td>NaN</td>\n",
              "      <td>1</td>\n",
              "      <td>0.86</td>\n",
              "      <td>0.97</td>\n",
              "      <td>0.8593</td>\n",
              "      <td>2.0</td>\n",
              "      <td>NaN</td>\n",
              "      <td>1.0</td>\n",
              "      <td>2</td>\n",
              "      <td>3.0</td>\n",
              "      <td>1</td>\n",
              "      <td>1</td>\n",
              "      <td>Very happy</td>\n",
              "      <td>Very happy</td>\n",
              "    </tr>\n",
              "    <tr>\n",
              "      <th>...</th>\n",
              "      <td>...</td>\n",
              "      <td>...</td>\n",
              "      <td>...</td>\n",
              "      <td>...</td>\n",
              "      <td>...</td>\n",
              "      <td>...</td>\n",
              "      <td>...</td>\n",
              "      <td>...</td>\n",
              "      <td>...</td>\n",
              "      <td>...</td>\n",
              "      <td>...</td>\n",
              "      <td>...</td>\n",
              "      <td>...</td>\n",
              "      <td>...</td>\n",
              "      <td>...</td>\n",
              "      <td>...</td>\n",
              "      <td>...</td>\n",
              "      <td>...</td>\n",
              "      <td>...</td>\n",
              "      <td>...</td>\n",
              "      <td>...</td>\n",
              "      <td>...</td>\n",
              "      <td>...</td>\n",
              "      <td>...</td>\n",
              "      <td>...</td>\n",
              "      <td>...</td>\n",
              "      <td>...</td>\n",
              "      <td>...</td>\n",
              "      <td>...</td>\n",
              "      <td>...</td>\n",
              "      <td>...</td>\n",
              "      <td>...</td>\n",
              "      <td>...</td>\n",
              "      <td>...</td>\n",
              "      <td>...</td>\n",
              "      <td>...</td>\n",
              "      <td>...</td>\n",
              "      <td>...</td>\n",
              "      <td>...</td>\n",
              "      <td>...</td>\n",
              "      <td>...</td>\n",
              "      <td>...</td>\n",
              "      <td>...</td>\n",
              "      <td>...</td>\n",
              "      <td>...</td>\n",
              "      <td>...</td>\n",
              "      <td>...</td>\n",
              "      <td>...</td>\n",
              "      <td>...</td>\n",
              "      <td>...</td>\n",
              "      <td>...</td>\n",
              "      <td>...</td>\n",
              "      <td>...</td>\n",
              "      <td>...</td>\n",
              "      <td>...</td>\n",
              "      <td>...</td>\n",
              "      <td>...</td>\n",
              "      <td>...</td>\n",
              "      <td>...</td>\n",
              "      <td>...</td>\n",
              "      <td>...</td>\n",
              "      <td>...</td>\n",
              "      <td>...</td>\n",
              "      <td>...</td>\n",
              "      <td>...</td>\n",
              "      <td>...</td>\n",
              "      <td>...</td>\n",
              "      <td>...</td>\n",
              "      <td>...</td>\n",
              "      <td>...</td>\n",
              "      <td>...</td>\n",
              "      <td>...</td>\n",
              "      <td>...</td>\n",
              "      <td>...</td>\n",
              "      <td>...</td>\n",
              "      <td>...</td>\n",
              "      <td>...</td>\n",
              "      <td>...</td>\n",
              "      <td>...</td>\n",
              "      <td>...</td>\n",
              "      <td>...</td>\n",
              "    </tr>\n",
              "    <tr>\n",
              "      <th>4497</th>\n",
              "      <td>2006</td>\n",
              "      <td>4498</td>\n",
              "      <td>5</td>\n",
              "      <td>NaN</td>\n",
              "      <td>NaN</td>\n",
              "      <td>1.0</td>\n",
              "      <td>2.0</td>\n",
              "      <td>2.0</td>\n",
              "      <td>585.0</td>\n",
              "      <td>45</td>\n",
              "      <td>460.0</td>\n",
              "      <td>1</td>\n",
              "      <td>NaN</td>\n",
              "      <td>1.0</td>\n",
              "      <td>2.0</td>\n",
              "      <td>5.0</td>\n",
              "      <td>NaN</td>\n",
              "      <td>NaN</td>\n",
              "      <td>1.0</td>\n",
              "      <td>2.0</td>\n",
              "      <td>313.0</td>\n",
              "      <td>46.0</td>\n",
              "      <td>930.0</td>\n",
              "      <td>2.0</td>\n",
              "      <td>585</td>\n",
              "      <td>45.0</td>\n",
              "      <td>60</td>\n",
              "      <td>0</td>\n",
              "      <td>NaN</td>\n",
              "      <td>NaN</td>\n",
              "      <td>0</td>\n",
              "      <td>4.0</td>\n",
              "      <td>3</td>\n",
              "      <td>81</td>\n",
              "      <td>18.0</td>\n",
              "      <td>11</td>\n",
              "      <td>7</td>\n",
              "      <td>12</td>\n",
              "      <td>12</td>\n",
              "      <td>0</td>\n",
              "      <td>...</td>\n",
              "      <td>8719.0</td>\n",
              "      <td>NaN</td>\n",
              "      <td>3211.0</td>\n",
              "      <td>7136.0</td>\n",
              "      <td>7136.0</td>\n",
              "      <td>NaN</td>\n",
              "      <td>4115.0</td>\n",
              "      <td>38.1</td>\n",
              "      <td>38.1</td>\n",
              "      <td>NaN</td>\n",
              "      <td>38.4</td>\n",
              "      <td>1925</td>\n",
              "      <td>12</td>\n",
              "      <td>1</td>\n",
              "      <td>1</td>\n",
              "      <td>NaN</td>\n",
              "      <td>NaN</td>\n",
              "      <td>1</td>\n",
              "      <td>1</td>\n",
              "      <td>NaN</td>\n",
              "      <td>1</td>\n",
              "      <td>549</td>\n",
              "      <td>9</td>\n",
              "      <td>1</td>\n",
              "      <td>1</td>\n",
              "      <td>0</td>\n",
              "      <td>NaN</td>\n",
              "      <td>1</td>\n",
              "      <td>0.86</td>\n",
              "      <td>0.79</td>\n",
              "      <td>0.8593</td>\n",
              "      <td>5.0</td>\n",
              "      <td>1.0</td>\n",
              "      <td>0.0</td>\n",
              "      <td>1</td>\n",
              "      <td>1.0</td>\n",
              "      <td>4</td>\n",
              "      <td>1</td>\n",
              "      <td>Pretty happy</td>\n",
              "      <td>Very happy</td>\n",
              "    </tr>\n",
              "    <tr>\n",
              "      <th>4498</th>\n",
              "      <td>2006</td>\n",
              "      <td>4499</td>\n",
              "      <td>5</td>\n",
              "      <td>NaN</td>\n",
              "      <td>NaN</td>\n",
              "      <td>1.0</td>\n",
              "      <td>2.0</td>\n",
              "      <td>2.0</td>\n",
              "      <td>203.0</td>\n",
              "      <td>68</td>\n",
              "      <td>999.0</td>\n",
              "      <td>1</td>\n",
              "      <td>NaN</td>\n",
              "      <td>1.0</td>\n",
              "      <td>2.0</td>\n",
              "      <td>5.0</td>\n",
              "      <td>NaN</td>\n",
              "      <td>NaN</td>\n",
              "      <td>1.0</td>\n",
              "      <td>1.0</td>\n",
              "      <td>275.0</td>\n",
              "      <td>34.0</td>\n",
              "      <td>771.0</td>\n",
              "      <td>1.0</td>\n",
              "      <td>526</td>\n",
              "      <td>38.0</td>\n",
              "      <td>752</td>\n",
              "      <td>444</td>\n",
              "      <td>17.0</td>\n",
              "      <td>2.0</td>\n",
              "      <td>842</td>\n",
              "      <td>1.0</td>\n",
              "      <td>1</td>\n",
              "      <td>64</td>\n",
              "      <td>22.0</td>\n",
              "      <td>12</td>\n",
              "      <td>12</td>\n",
              "      <td>12</td>\n",
              "      <td>14</td>\n",
              "      <td>1</td>\n",
              "      <td>...</td>\n",
              "      <td>8540.0</td>\n",
              "      <td>5300.0</td>\n",
              "      <td>4519.0</td>\n",
              "      <td>3211.0</td>\n",
              "      <td>7241.0</td>\n",
              "      <td>5120.0</td>\n",
              "      <td>5220.0</td>\n",
              "      <td>64.8</td>\n",
              "      <td>38.8</td>\n",
              "      <td>29.0</td>\n",
              "      <td>33.9</td>\n",
              "      <td>1942</td>\n",
              "      <td>6</td>\n",
              "      <td>1</td>\n",
              "      <td>1</td>\n",
              "      <td>NaN</td>\n",
              "      <td>NaN</td>\n",
              "      <td>2</td>\n",
              "      <td>2</td>\n",
              "      <td>NaN</td>\n",
              "      <td>1</td>\n",
              "      <td>549</td>\n",
              "      <td>9</td>\n",
              "      <td>1</td>\n",
              "      <td>1</td>\n",
              "      <td>0</td>\n",
              "      <td>NaN</td>\n",
              "      <td>1</td>\n",
              "      <td>0.86</td>\n",
              "      <td>0.79</td>\n",
              "      <td>0.8593</td>\n",
              "      <td>4.0</td>\n",
              "      <td>7.0</td>\n",
              "      <td>1.0</td>\n",
              "      <td>2</td>\n",
              "      <td>1.0</td>\n",
              "      <td>4</td>\n",
              "      <td>1</td>\n",
              "      <td>Pretty happy</td>\n",
              "      <td>Pretty happy</td>\n",
              "    </tr>\n",
              "    <tr>\n",
              "      <th>4499</th>\n",
              "      <td>2006</td>\n",
              "      <td>4500</td>\n",
              "      <td>7</td>\n",
              "      <td>NaN</td>\n",
              "      <td>NaN</td>\n",
              "      <td>1.0</td>\n",
              "      <td>2.0</td>\n",
              "      <td>1.0</td>\n",
              "      <td>453.0</td>\n",
              "      <td>22</td>\n",
              "      <td>842.0</td>\n",
              "      <td>1</td>\n",
              "      <td>NaN</td>\n",
              "      <td>2.0</td>\n",
              "      <td>2.0</td>\n",
              "      <td>1.0</td>\n",
              "      <td>50.0</td>\n",
              "      <td>NaN</td>\n",
              "      <td>NaN</td>\n",
              "      <td>2.0</td>\n",
              "      <td>274.0</td>\n",
              "      <td>32.0</td>\n",
              "      <td>580.0</td>\n",
              "      <td>2.0</td>\n",
              "      <td>253</td>\n",
              "      <td>45.0</td>\n",
              "      <td>711</td>\n",
              "      <td>406</td>\n",
              "      <td>29.0</td>\n",
              "      <td>1.0</td>\n",
              "      <td>761</td>\n",
              "      <td>6.0</td>\n",
              "      <td>8</td>\n",
              "      <td>47</td>\n",
              "      <td>20.0</td>\n",
              "      <td>14</td>\n",
              "      <td>18</td>\n",
              "      <td>18</td>\n",
              "      <td>16</td>\n",
              "      <td>1</td>\n",
              "      <td>...</td>\n",
              "      <td>4419.0</td>\n",
              "      <td>5401.0</td>\n",
              "      <td>4519.0</td>\n",
              "      <td>9140.0</td>\n",
              "      <td>3412.0</td>\n",
              "      <td>5131.0</td>\n",
              "      <td>5220.0</td>\n",
              "      <td>28.4</td>\n",
              "      <td>65.8</td>\n",
              "      <td>30.8</td>\n",
              "      <td>38.9</td>\n",
              "      <td>1959</td>\n",
              "      <td>2</td>\n",
              "      <td>1</td>\n",
              "      <td>1</td>\n",
              "      <td>NaN</td>\n",
              "      <td>NaN</td>\n",
              "      <td>1</td>\n",
              "      <td>4</td>\n",
              "      <td>NaN</td>\n",
              "      <td>1</td>\n",
              "      <td>549</td>\n",
              "      <td>9</td>\n",
              "      <td>1</td>\n",
              "      <td>1</td>\n",
              "      <td>0</td>\n",
              "      <td>NaN</td>\n",
              "      <td>1</td>\n",
              "      <td>0.86</td>\n",
              "      <td>0.79</td>\n",
              "      <td>0.8593</td>\n",
              "      <td>3.0</td>\n",
              "      <td>7.0</td>\n",
              "      <td>1.0</td>\n",
              "      <td>2</td>\n",
              "      <td>1.0</td>\n",
              "      <td>4</td>\n",
              "      <td>1</td>\n",
              "      <td>Very happy</td>\n",
              "      <td>Very happy</td>\n",
              "    </tr>\n",
              "    <tr>\n",
              "      <th>4501</th>\n",
              "      <td>2006</td>\n",
              "      <td>4502</td>\n",
              "      <td>1</td>\n",
              "      <td>48.0</td>\n",
              "      <td>NaN</td>\n",
              "      <td>NaN</td>\n",
              "      <td>2.0</td>\n",
              "      <td>2.0</td>\n",
              "      <td>406.0</td>\n",
              "      <td>29</td>\n",
              "      <td>761.0</td>\n",
              "      <td>1</td>\n",
              "      <td>NaN</td>\n",
              "      <td>2.0</td>\n",
              "      <td>2.0</td>\n",
              "      <td>8.0</td>\n",
              "      <td>NaN</td>\n",
              "      <td>NaN</td>\n",
              "      <td>2.0</td>\n",
              "      <td>NaN</td>\n",
              "      <td>NaN</td>\n",
              "      <td>NaN</td>\n",
              "      <td>NaN</td>\n",
              "      <td>1.0</td>\n",
              "      <td>473</td>\n",
              "      <td>40.0</td>\n",
              "      <td>11</td>\n",
              "      <td>0</td>\n",
              "      <td>NaN</td>\n",
              "      <td>NaN</td>\n",
              "      <td>0</td>\n",
              "      <td>4.0</td>\n",
              "      <td>8</td>\n",
              "      <td>61</td>\n",
              "      <td>16.0</td>\n",
              "      <td>1</td>\n",
              "      <td>99</td>\n",
              "      <td>2</td>\n",
              "      <td>0</td>\n",
              "      <td>0</td>\n",
              "      <td>...</td>\n",
              "      <td>6110.0</td>\n",
              "      <td>NaN</td>\n",
              "      <td>NaN</td>\n",
              "      <td>5131.0</td>\n",
              "      <td>6133.0</td>\n",
              "      <td>NaN</td>\n",
              "      <td>NaN</td>\n",
              "      <td>30.8</td>\n",
              "      <td>37.3</td>\n",
              "      <td>NaN</td>\n",
              "      <td>NaN</td>\n",
              "      <td>1945</td>\n",
              "      <td>12</td>\n",
              "      <td>2</td>\n",
              "      <td>1</td>\n",
              "      <td>NaN</td>\n",
              "      <td>NaN</td>\n",
              "      <td>2</td>\n",
              "      <td>2</td>\n",
              "      <td>NaN</td>\n",
              "      <td>1</td>\n",
              "      <td>550</td>\n",
              "      <td>9</td>\n",
              "      <td>1</td>\n",
              "      <td>1</td>\n",
              "      <td>3</td>\n",
              "      <td>2.0</td>\n",
              "      <td>2</td>\n",
              "      <td>0.86</td>\n",
              "      <td>0.76</td>\n",
              "      <td>0.8593</td>\n",
              "      <td>4.0</td>\n",
              "      <td>3.0</td>\n",
              "      <td>0.0</td>\n",
              "      <td>2</td>\n",
              "      <td>2.0</td>\n",
              "      <td>4</td>\n",
              "      <td>3</td>\n",
              "      <td>Pretty happy</td>\n",
              "      <td>Not too happy</td>\n",
              "    </tr>\n",
              "    <tr>\n",
              "      <th>4508</th>\n",
              "      <td>2006</td>\n",
              "      <td>4509</td>\n",
              "      <td>7</td>\n",
              "      <td>NaN</td>\n",
              "      <td>NaN</td>\n",
              "      <td>1.0</td>\n",
              "      <td>2.0</td>\n",
              "      <td>2.0</td>\n",
              "      <td>449.0</td>\n",
              "      <td>20</td>\n",
              "      <td>762.0</td>\n",
              "      <td>1</td>\n",
              "      <td>NaN</td>\n",
              "      <td>2.0</td>\n",
              "      <td>2.0</td>\n",
              "      <td>1.0</td>\n",
              "      <td>40.0</td>\n",
              "      <td>NaN</td>\n",
              "      <td>NaN</td>\n",
              "      <td>2.0</td>\n",
              "      <td>797.0</td>\n",
              "      <td>38.0</td>\n",
              "      <td>301.0</td>\n",
              "      <td>2.0</td>\n",
              "      <td>453</td>\n",
              "      <td>22.0</td>\n",
              "      <td>722</td>\n",
              "      <td>19</td>\n",
              "      <td>51.0</td>\n",
              "      <td>1.0</td>\n",
              "      <td>641</td>\n",
              "      <td>8.0</td>\n",
              "      <td>4</td>\n",
              "      <td>32</td>\n",
              "      <td>17.0</td>\n",
              "      <td>6</td>\n",
              "      <td>5</td>\n",
              "      <td>4</td>\n",
              "      <td>9</td>\n",
              "      <td>0</td>\n",
              "      <td>...</td>\n",
              "      <td>5500.0</td>\n",
              "      <td>2190.0</td>\n",
              "      <td>9499.0</td>\n",
              "      <td>9131.0</td>\n",
              "      <td>9140.0</td>\n",
              "      <td>1229.0</td>\n",
              "      <td>8290.0</td>\n",
              "      <td>21.2</td>\n",
              "      <td>28.4</td>\n",
              "      <td>63.5</td>\n",
              "      <td>39.0</td>\n",
              "      <td>1974</td>\n",
              "      <td>3</td>\n",
              "      <td>1</td>\n",
              "      <td>15</td>\n",
              "      <td>NaN</td>\n",
              "      <td>NaN</td>\n",
              "      <td>2</td>\n",
              "      <td>2</td>\n",
              "      <td>NaN</td>\n",
              "      <td>1</td>\n",
              "      <td>552</td>\n",
              "      <td>9</td>\n",
              "      <td>1</td>\n",
              "      <td>2</td>\n",
              "      <td>3</td>\n",
              "      <td>2.0</td>\n",
              "      <td>2</td>\n",
              "      <td>1.91</td>\n",
              "      <td>1.65</td>\n",
              "      <td>1.9096</td>\n",
              "      <td>2.0</td>\n",
              "      <td>7.0</td>\n",
              "      <td>0.0</td>\n",
              "      <td>2</td>\n",
              "      <td>1.0</td>\n",
              "      <td>4</td>\n",
              "      <td>3</td>\n",
              "      <td>Pretty happy</td>\n",
              "      <td>Not too happy</td>\n",
              "    </tr>\n",
              "  </tbody>\n",
              "</table>\n",
              "<p>1416 rows × 1241 columns</p>\n",
              "</div>"
            ],
            "text/plain": [
              "      YEAR    ID  WRKSTAT  HRS1  ...  I_REGION  I_RACE       HAPMAR2         HAPPY2\n",
              "5     2006     6        1  37.0  ...         1       3  Pretty happy   Pretty happy\n",
              "14    2006    15        7   NaN  ...         1       1    Very happy     Very happy\n",
              "26    2006    27        7   NaN  ...         1       3  Pretty happy   Pretty happy\n",
              "28    2006    29        5   NaN  ...         1       2    Very happy   Pretty happy\n",
              "34    2006    35        1  40.0  ...         1       1    Very happy     Very happy\n",
              "...    ...   ...      ...   ...  ...       ...     ...           ...            ...\n",
              "4497  2006  4498        5   NaN  ...         4       1  Pretty happy     Very happy\n",
              "4498  2006  4499        5   NaN  ...         4       1  Pretty happy   Pretty happy\n",
              "4499  2006  4500        7   NaN  ...         4       1    Very happy     Very happy\n",
              "4501  2006  4502        1  48.0  ...         4       3  Pretty happy  Not too happy\n",
              "4508  2006  4509        7   NaN  ...         4       3  Pretty happy  Not too happy\n",
              "\n",
              "[1416 rows x 1241 columns]"
            ]
          },
          "metadata": {
            "tags": []
          },
          "execution_count": 31
        }
      ]
    },
    {
      "cell_type": "code",
      "metadata": {
        "id": "pT2_kUzr4BqK"
      },
      "source": [
        "df2 = df2.dropna(axis=1).copy()"
      ],
      "execution_count": 32,
      "outputs": []
    },
    {
      "cell_type": "code",
      "metadata": {
        "id": "F8zI8IbTYPBK"
      },
      "source": [
        "df2['HAPMAR'] = pd.Series(df2['HAPMAR'], dtype=\"category\")          "
      ],
      "execution_count": 33,
      "outputs": []
    },
    {
      "cell_type": "code",
      "metadata": {
        "colab": {
          "base_uri": "https://localhost:8080/"
        },
        "id": "dhIHYmi_I84q",
        "outputId": "bb813d1e-54cb-41d5-d8c6-6f4f5e1c5511"
      },
      "source": [
        "df2['HAPMAR'].value_counts()"
      ],
      "execution_count": 34,
      "outputs": [
        {
          "output_type": "execute_result",
          "data": {
            "text/plain": [
              "1.0    861\n",
              "2.0    512\n",
              "3.0     37\n",
              "9.0      5\n",
              "8.0      1\n",
              "Name: HAPMAR, dtype: int64"
            ]
          },
          "metadata": {
            "tags": []
          },
          "execution_count": 34
        }
      ]
    },
    {
      "cell_type": "code",
      "metadata": {
        "id": "4c_ug3ob4GhD"
      },
      "source": [
        "series = df2['HAPMAR']\n",
        "\n",
        "data_corr = df2.corrwith(series)"
      ],
      "execution_count": 35,
      "outputs": []
    },
    {
      "cell_type": "code",
      "metadata": {
        "id": "dBVJNb3oRzPE"
      },
      "source": [
        "data_corr = pd.DataFrame(data_corr)"
      ],
      "execution_count": 36,
      "outputs": []
    },
    {
      "cell_type": "code",
      "metadata": {
        "id": "VvZ_t5zRYY9x"
      },
      "source": [
        "data_corr = data_corr.reset_index()"
      ],
      "execution_count": 37,
      "outputs": []
    },
    {
      "cell_type": "code",
      "metadata": {
        "id": "VotHvd9RYgbX"
      },
      "source": [
        "data_corr.columns = ['column', 'value_corr']"
      ],
      "execution_count": 38,
      "outputs": []
    },
    {
      "cell_type": "code",
      "metadata": {
        "id": "Ek7q1ro9YkoT"
      },
      "source": [
        "data_corr = data_corr.sort_values('value_corr', ascending=False)"
      ],
      "execution_count": 39,
      "outputs": []
    },
    {
      "cell_type": "code",
      "metadata": {
        "colab": {
          "base_uri": "https://localhost:8080/",
          "height": 676
        },
        "id": "SHJGtskHYy9n",
        "outputId": "92b1fc80-7ad8-4aec-d65b-55ac9067edde"
      },
      "source": [
        "data_corr.iloc[0:20]"
      ],
      "execution_count": 40,
      "outputs": [
        {
          "output_type": "execute_result",
          "data": {
            "text/html": [
              "<div>\n",
              "<style scoped>\n",
              "    .dataframe tbody tr th:only-of-type {\n",
              "        vertical-align: middle;\n",
              "    }\n",
              "\n",
              "    .dataframe tbody tr th {\n",
              "        vertical-align: top;\n",
              "    }\n",
              "\n",
              "    .dataframe thead th {\n",
              "        text-align: right;\n",
              "    }\n",
              "</style>\n",
              "<table border=\"1\" class=\"dataframe\">\n",
              "  <thead>\n",
              "    <tr style=\"text-align: right;\">\n",
              "      <th></th>\n",
              "      <th>column</th>\n",
              "      <th>value_corr</th>\n",
              "    </tr>\n",
              "  </thead>\n",
              "  <tbody>\n",
              "    <tr>\n",
              "      <th>4</th>\n",
              "      <td>MARITAL</td>\n",
              "      <td>0.371238</td>\n",
              "    </tr>\n",
              "    <tr>\n",
              "      <th>63</th>\n",
              "      <td>HAPPY</td>\n",
              "      <td>0.340677</td>\n",
              "    </tr>\n",
              "    <tr>\n",
              "      <th>109</th>\n",
              "      <td>COHORT</td>\n",
              "      <td>0.140301</td>\n",
              "    </tr>\n",
              "    <tr>\n",
              "      <th>66</th>\n",
              "      <td>SATFIN</td>\n",
              "      <td>0.132993</td>\n",
              "    </tr>\n",
              "    <tr>\n",
              "      <th>96</th>\n",
              "      <td>MAR1</td>\n",
              "      <td>0.128412</td>\n",
              "    </tr>\n",
              "    <tr>\n",
              "      <th>128</th>\n",
              "      <td>I_RACE</td>\n",
              "      <td>0.120431</td>\n",
              "    </tr>\n",
              "    <tr>\n",
              "      <th>21</th>\n",
              "      <td>RACE</td>\n",
              "      <td>0.120431</td>\n",
              "    </tr>\n",
              "    <tr>\n",
              "      <th>70</th>\n",
              "      <td>COOP</td>\n",
              "      <td>0.119099</td>\n",
              "    </tr>\n",
              "    <tr>\n",
              "      <th>91</th>\n",
              "      <td>RACECEN1</td>\n",
              "      <td>0.112065</td>\n",
              "    </tr>\n",
              "    <tr>\n",
              "      <th>15</th>\n",
              "      <td>SPEDUC</td>\n",
              "      <td>0.104804</td>\n",
              "    </tr>\n",
              "    <tr>\n",
              "      <th>120</th>\n",
              "      <td>SPANSELF</td>\n",
              "      <td>0.095162</td>\n",
              "    </tr>\n",
              "    <tr>\n",
              "      <th>83</th>\n",
              "      <td>RELEXP</td>\n",
              "      <td>0.093089</td>\n",
              "    </tr>\n",
              "    <tr>\n",
              "      <th>121</th>\n",
              "      <td>SPANENG</td>\n",
              "      <td>0.091409</td>\n",
              "    </tr>\n",
              "    <tr>\n",
              "      <th>85</th>\n",
              "      <td>WWWMIN</td>\n",
              "      <td>0.089606</td>\n",
              "    </tr>\n",
              "    <tr>\n",
              "      <th>84</th>\n",
              "      <td>WWWHR</td>\n",
              "      <td>0.087705</td>\n",
              "    </tr>\n",
              "    <tr>\n",
              "      <th>67</th>\n",
              "      <td>FINALTER</td>\n",
              "      <td>0.082033</td>\n",
              "    </tr>\n",
              "    <tr>\n",
              "      <th>110</th>\n",
              "      <td>ZODIAC</td>\n",
              "      <td>0.076727</td>\n",
              "    </tr>\n",
              "    <tr>\n",
              "      <th>71</th>\n",
              "      <td>COMPREND</td>\n",
              "      <td>0.074439</td>\n",
              "    </tr>\n",
              "    <tr>\n",
              "      <th>25</th>\n",
              "      <td>FAMILY16</td>\n",
              "      <td>0.070771</td>\n",
              "    </tr>\n",
              "    <tr>\n",
              "      <th>57</th>\n",
              "      <td>POSTLIFE</td>\n",
              "      <td>0.069251</td>\n",
              "    </tr>\n",
              "  </tbody>\n",
              "</table>\n",
              "</div>"
            ],
            "text/plain": [
              "       column  value_corr\n",
              "4     MARITAL    0.371238\n",
              "63      HAPPY    0.340677\n",
              "109    COHORT    0.140301\n",
              "66     SATFIN    0.132993\n",
              "96       MAR1    0.128412\n",
              "128    I_RACE    0.120431\n",
              "21       RACE    0.120431\n",
              "70       COOP    0.119099\n",
              "91   RACECEN1    0.112065\n",
              "15     SPEDUC    0.104804\n",
              "120  SPANSELF    0.095162\n",
              "83     RELEXP    0.093089\n",
              "121   SPANENG    0.091409\n",
              "85     WWWMIN    0.089606\n",
              "84      WWWHR    0.087705\n",
              "67   FINALTER    0.082033\n",
              "110    ZODIAC    0.076727\n",
              "71   COMPREND    0.074439\n",
              "25   FAMILY16    0.070771\n",
              "57   POSTLIFE    0.069251"
            ]
          },
          "metadata": {
            "tags": []
          },
          "execution_count": 40
        }
      ]
    },
    {
      "cell_type": "code",
      "metadata": {
        "id": "YSacFKYe6lQc"
      },
      "source": [
        "data_test = df2[['MARITAL', 'HAPPY', 'COHORT', 'HAPMAR']]"
      ],
      "execution_count": 41,
      "outputs": []
    },
    {
      "cell_type": "code",
      "metadata": {
        "colab": {
          "base_uri": "https://localhost:8080/",
          "height": 143
        },
        "id": "Zu6vcp7pSmPd",
        "outputId": "3a989ed9-49f9-46a1-e13e-5e100494ba19"
      },
      "source": [
        "data_test.corr()"
      ],
      "execution_count": 42,
      "outputs": [
        {
          "output_type": "execute_result",
          "data": {
            "text/html": [
              "<div>\n",
              "<style scoped>\n",
              "    .dataframe tbody tr th:only-of-type {\n",
              "        vertical-align: middle;\n",
              "    }\n",
              "\n",
              "    .dataframe tbody tr th {\n",
              "        vertical-align: top;\n",
              "    }\n",
              "\n",
              "    .dataframe thead th {\n",
              "        text-align: right;\n",
              "    }\n",
              "</style>\n",
              "<table border=\"1\" class=\"dataframe\">\n",
              "  <thead>\n",
              "    <tr style=\"text-align: right;\">\n",
              "      <th></th>\n",
              "      <th>MARITAL</th>\n",
              "      <th>HAPPY</th>\n",
              "      <th>COHORT</th>\n",
              "    </tr>\n",
              "  </thead>\n",
              "  <tbody>\n",
              "    <tr>\n",
              "      <th>MARITAL</th>\n",
              "      <td>1.000000</td>\n",
              "      <td>0.001168</td>\n",
              "      <td>0.514949</td>\n",
              "    </tr>\n",
              "    <tr>\n",
              "      <th>HAPPY</th>\n",
              "      <td>0.001168</td>\n",
              "      <td>1.000000</td>\n",
              "      <td>-0.046311</td>\n",
              "    </tr>\n",
              "    <tr>\n",
              "      <th>COHORT</th>\n",
              "      <td>0.514949</td>\n",
              "      <td>-0.046311</td>\n",
              "      <td>1.000000</td>\n",
              "    </tr>\n",
              "  </tbody>\n",
              "</table>\n",
              "</div>"
            ],
            "text/plain": [
              "          MARITAL     HAPPY    COHORT\n",
              "MARITAL  1.000000  0.001168  0.514949\n",
              "HAPPY    0.001168  1.000000 -0.046311\n",
              "COHORT   0.514949 -0.046311  1.000000"
            ]
          },
          "metadata": {
            "tags": []
          },
          "execution_count": 42
        }
      ]
    },
    {
      "cell_type": "code",
      "metadata": {
        "colab": {
          "base_uri": "https://localhost:8080/",
          "height": 550
        },
        "id": "-03q_7iX8v-a",
        "outputId": "650cd616-6d2c-46d4-f436-a45155277f6a"
      },
      "source": [
        "ax = sns.pairplot(data_test)"
      ],
      "execution_count": 43,
      "outputs": [
        {
          "output_type": "display_data",
          "data": {
            "image/png": "[encoded data removed]",
            "text/plain": [
              "<Figure size 540x540 with 12 Axes>"
            ]
          },
          "metadata": {
            "tags": [],
            "needs_background": "light"
          }
        }
      ]
    },
    {
      "cell_type": "code",
      "metadata": {
        "colab": {
          "base_uri": "https://localhost:8080/",
          "height": 197
        },
        "id": "ogl0Lgp8873K",
        "outputId": "bcb4dfa3-ee27-41a7-889a-fd49071e6159"
      },
      "source": [
        "ax = sns.pairplot(data_test, y_vars='HAPMAR', x_vars=['COHORT', 'HAPPY', 'MARITAL'])"
      ],
      "execution_count": 44,
      "outputs": [
        {
          "output_type": "display_data",
          "data": {
            "image/png": "[encoded data removed]",
            "text/plain": [
              "<Figure size 540x180 with 3 Axes>"
            ]
          },
          "metadata": {
            "tags": [],
            "needs_background": "light"
          }
        }
      ]
    },
    {
      "cell_type": "code",
      "metadata": {
        "colab": {
          "base_uri": "https://localhost:8080/"
        },
        "id": "C0NIKNwFKWNQ",
        "outputId": "9dee9bdf-61df-4d14-e1ea-508ce0840f29"
      },
      "source": [
        "data_corr.iloc[0:4].sum()"
      ],
      "execution_count": 45,
      "outputs": [
        {
          "output_type": "execute_result",
          "data": {
            "text/plain": [
              "column        MARITALHAPPYCOHORTSATFIN\n",
              "value_corr                    0.985209\n",
              "dtype: object"
            ]
          },
          "metadata": {
            "tags": []
          },
          "execution_count": 45
        }
      ]
    },
    {
      "cell_type": "code",
      "metadata": {
        "colab": {
          "base_uri": "https://localhost:8080/",
          "height": 300
        },
        "id": "ZQopgovHKXQa",
        "outputId": "796a4bf0-7328-4575-f789-e560a68cf049"
      },
      "source": [
        "data_corr.iloc[0:8]\n",
        "\n",
        "# ingredients of a happy marriage"
      ],
      "execution_count": 46,
      "outputs": [
        {
          "output_type": "execute_result",
          "data": {
            "text/html": [
              "<div>\n",
              "<style scoped>\n",
              "    .dataframe tbody tr th:only-of-type {\n",
              "        vertical-align: middle;\n",
              "    }\n",
              "\n",
              "    .dataframe tbody tr th {\n",
              "        vertical-align: top;\n",
              "    }\n",
              "\n",
              "    .dataframe thead th {\n",
              "        text-align: right;\n",
              "    }\n",
              "</style>\n",
              "<table border=\"1\" class=\"dataframe\">\n",
              "  <thead>\n",
              "    <tr style=\"text-align: right;\">\n",
              "      <th></th>\n",
              "      <th>column</th>\n",
              "      <th>value_corr</th>\n",
              "    </tr>\n",
              "  </thead>\n",
              "  <tbody>\n",
              "    <tr>\n",
              "      <th>4</th>\n",
              "      <td>MARITAL</td>\n",
              "      <td>0.371238</td>\n",
              "    </tr>\n",
              "    <tr>\n",
              "      <th>63</th>\n",
              "      <td>HAPPY</td>\n",
              "      <td>0.340677</td>\n",
              "    </tr>\n",
              "    <tr>\n",
              "      <th>109</th>\n",
              "      <td>COHORT</td>\n",
              "      <td>0.140301</td>\n",
              "    </tr>\n",
              "    <tr>\n",
              "      <th>66</th>\n",
              "      <td>SATFIN</td>\n",
              "      <td>0.132993</td>\n",
              "    </tr>\n",
              "    <tr>\n",
              "      <th>96</th>\n",
              "      <td>MAR1</td>\n",
              "      <td>0.128412</td>\n",
              "    </tr>\n",
              "    <tr>\n",
              "      <th>128</th>\n",
              "      <td>I_RACE</td>\n",
              "      <td>0.120431</td>\n",
              "    </tr>\n",
              "    <tr>\n",
              "      <th>21</th>\n",
              "      <td>RACE</td>\n",
              "      <td>0.120431</td>\n",
              "    </tr>\n",
              "    <tr>\n",
              "      <th>70</th>\n",
              "      <td>COOP</td>\n",
              "      <td>0.119099</td>\n",
              "    </tr>\n",
              "  </tbody>\n",
              "</table>\n",
              "</div>"
            ],
            "text/plain": [
              "      column  value_corr\n",
              "4    MARITAL    0.371238\n",
              "63     HAPPY    0.340677\n",
              "109   COHORT    0.140301\n",
              "66    SATFIN    0.132993\n",
              "96      MAR1    0.128412\n",
              "128   I_RACE    0.120431\n",
              "21      RACE    0.120431\n",
              "70      COOP    0.119099"
            ]
          },
          "metadata": {
            "tags": []
          },
          "execution_count": 46
        }
      ]
    },
    {
      "cell_type": "code",
      "metadata": {
        "colab": {
          "base_uri": "https://localhost:8080/",
          "height": 499
        },
        "id": "5bYSqyPW3qeR",
        "outputId": "d16fa22a-2754-40ea-ea73-6eaff0025b52"
      },
      "source": [
        "pie_plot_cf = pd.DataFrame({'value_corr': [0.371238, 0.340677, 0.140301, 0.132993, 0.128412, 0.120431]},\n",
        "                            index=['MARITAL', 'HAPPY', 'COHORT', 'SATFIN', 'MAR1', 'I_RACE'])\n",
        "\n",
        "plot = pie_plot_cf.plot.pie(y='value_corr', figsize=(20, 8))\n",
        "plt.title(\"ingredients for a happy marriage \")"
      ],
      "execution_count": 47,
      "outputs": [
        {
          "output_type": "execute_result",
          "data": {
            "text/plain": [
              "Text(0.5, 1.0, 'ingredients for a happy marriage ')"
            ]
          },
          "metadata": {
            "tags": []
          },
          "execution_count": 47
        },
        {
          "output_type": "display_data",
          "data": {
            "image/png": "[encoded data removed]",
            "text/plain": [
              "<Figure size 1440x576 with 1 Axes>"
            ]
          },
          "metadata": {
            "tags": []
          }
        }
      ]
    },
    {
      "cell_type": "code",
      "metadata": {
        "id": "TnzBK6ufKdR5"
      },
      "source": [
        "df_new = df2[[\"HAPMAR\",'MARITAL', 'HAPPY', 'COHORT', 'SATFIN', 'I_RACE']]"
      ],
      "execution_count": 48,
      "outputs": []
    },
    {
      "cell_type": "code",
      "metadata": {
        "colab": {
          "base_uri": "https://localhost:8080/",
          "height": 423
        },
        "id": "JosTg0HG-OR9",
        "outputId": "121d3064-ab8c-42b0-eab1-40506c0cf229"
      },
      "source": [
        "df_new"
      ],
      "execution_count": 49,
      "outputs": [
        {
          "output_type": "execute_result",
          "data": {
            "text/html": [
              "<div>\n",
              "<style scoped>\n",
              "    .dataframe tbody tr th:only-of-type {\n",
              "        vertical-align: middle;\n",
              "    }\n",
              "\n",
              "    .dataframe tbody tr th {\n",
              "        vertical-align: top;\n",
              "    }\n",
              "\n",
              "    .dataframe thead th {\n",
              "        text-align: right;\n",
              "    }\n",
              "</style>\n",
              "<table border=\"1\" class=\"dataframe\">\n",
              "  <thead>\n",
              "    <tr style=\"text-align: right;\">\n",
              "      <th></th>\n",
              "      <th>HAPMAR</th>\n",
              "      <th>MARITAL</th>\n",
              "      <th>HAPPY</th>\n",
              "      <th>COHORT</th>\n",
              "      <th>SATFIN</th>\n",
              "      <th>I_RACE</th>\n",
              "    </tr>\n",
              "  </thead>\n",
              "  <tbody>\n",
              "    <tr>\n",
              "      <th>5</th>\n",
              "      <td>2.0</td>\n",
              "      <td>1</td>\n",
              "      <td>2.0</td>\n",
              "      <td>1971</td>\n",
              "      <td>3.0</td>\n",
              "      <td>3</td>\n",
              "    </tr>\n",
              "    <tr>\n",
              "      <th>14</th>\n",
              "      <td>1.0</td>\n",
              "      <td>1</td>\n",
              "      <td>1.0</td>\n",
              "      <td>1972</td>\n",
              "      <td>2.0</td>\n",
              "      <td>1</td>\n",
              "    </tr>\n",
              "    <tr>\n",
              "      <th>26</th>\n",
              "      <td>2.0</td>\n",
              "      <td>1</td>\n",
              "      <td>2.0</td>\n",
              "      <td>1954</td>\n",
              "      <td>2.0</td>\n",
              "      <td>3</td>\n",
              "    </tr>\n",
              "    <tr>\n",
              "      <th>28</th>\n",
              "      <td>1.0</td>\n",
              "      <td>1</td>\n",
              "      <td>2.0</td>\n",
              "      <td>1944</td>\n",
              "      <td>3.0</td>\n",
              "      <td>2</td>\n",
              "    </tr>\n",
              "    <tr>\n",
              "      <th>34</th>\n",
              "      <td>1.0</td>\n",
              "      <td>1</td>\n",
              "      <td>1.0</td>\n",
              "      <td>1975</td>\n",
              "      <td>2.0</td>\n",
              "      <td>1</td>\n",
              "    </tr>\n",
              "    <tr>\n",
              "      <th>...</th>\n",
              "      <td>...</td>\n",
              "      <td>...</td>\n",
              "      <td>...</td>\n",
              "      <td>...</td>\n",
              "      <td>...</td>\n",
              "      <td>...</td>\n",
              "    </tr>\n",
              "    <tr>\n",
              "      <th>4497</th>\n",
              "      <td>2.0</td>\n",
              "      <td>1</td>\n",
              "      <td>1.0</td>\n",
              "      <td>1925</td>\n",
              "      <td>1.0</td>\n",
              "      <td>1</td>\n",
              "    </tr>\n",
              "    <tr>\n",
              "      <th>4498</th>\n",
              "      <td>2.0</td>\n",
              "      <td>1</td>\n",
              "      <td>2.0</td>\n",
              "      <td>1942</td>\n",
              "      <td>1.0</td>\n",
              "      <td>1</td>\n",
              "    </tr>\n",
              "    <tr>\n",
              "      <th>4499</th>\n",
              "      <td>1.0</td>\n",
              "      <td>1</td>\n",
              "      <td>1.0</td>\n",
              "      <td>1959</td>\n",
              "      <td>1.0</td>\n",
              "      <td>1</td>\n",
              "    </tr>\n",
              "    <tr>\n",
              "      <th>4501</th>\n",
              "      <td>2.0</td>\n",
              "      <td>1</td>\n",
              "      <td>3.0</td>\n",
              "      <td>1945</td>\n",
              "      <td>2.0</td>\n",
              "      <td>3</td>\n",
              "    </tr>\n",
              "    <tr>\n",
              "      <th>4508</th>\n",
              "      <td>2.0</td>\n",
              "      <td>1</td>\n",
              "      <td>3.0</td>\n",
              "      <td>1974</td>\n",
              "      <td>2.0</td>\n",
              "      <td>3</td>\n",
              "    </tr>\n",
              "  </tbody>\n",
              "</table>\n",
              "<p>1416 rows × 6 columns</p>\n",
              "</div>"
            ],
            "text/plain": [
              "     HAPMAR  MARITAL  HAPPY  COHORT  SATFIN  I_RACE\n",
              "5       2.0        1    2.0    1971     3.0       3\n",
              "14      1.0        1    1.0    1972     2.0       1\n",
              "26      2.0        1    2.0    1954     2.0       3\n",
              "28      1.0        1    2.0    1944     3.0       2\n",
              "34      1.0        1    1.0    1975     2.0       1\n",
              "...     ...      ...    ...     ...     ...     ...\n",
              "4497    2.0        1    1.0    1925     1.0       1\n",
              "4498    2.0        1    2.0    1942     1.0       1\n",
              "4499    1.0        1    1.0    1959     1.0       1\n",
              "4501    2.0        1    3.0    1945     2.0       3\n",
              "4508    2.0        1    3.0    1974     2.0       3\n",
              "\n",
              "[1416 rows x 6 columns]"
            ]
          },
          "metadata": {
            "tags": []
          },
          "execution_count": 49
        }
      ]
    },
    {
      "cell_type": "code",
      "metadata": {
        "colab": {
          "base_uri": "https://localhost:8080/",
          "height": 206
        },
        "id": "0wi6iezW-O9w",
        "outputId": "de61b931-8e50-4388-955f-a66c1ebcb78b"
      },
      "source": [
        "df_new.describe().round(2).T"
      ],
      "execution_count": 50,
      "outputs": [
        {
          "output_type": "execute_result",
          "data": {
            "text/html": [
              "<div>\n",
              "<style scoped>\n",
              "    .dataframe tbody tr th:only-of-type {\n",
              "        vertical-align: middle;\n",
              "    }\n",
              "\n",
              "    .dataframe tbody tr th {\n",
              "        vertical-align: top;\n",
              "    }\n",
              "\n",
              "    .dataframe thead th {\n",
              "        text-align: right;\n",
              "    }\n",
              "</style>\n",
              "<table border=\"1\" class=\"dataframe\">\n",
              "  <thead>\n",
              "    <tr style=\"text-align: right;\">\n",
              "      <th></th>\n",
              "      <th>count</th>\n",
              "      <th>mean</th>\n",
              "      <th>std</th>\n",
              "      <th>min</th>\n",
              "      <th>25%</th>\n",
              "      <th>50%</th>\n",
              "      <th>75%</th>\n",
              "      <th>max</th>\n",
              "    </tr>\n",
              "  </thead>\n",
              "  <tbody>\n",
              "    <tr>\n",
              "      <th>MARITAL</th>\n",
              "      <td>1416.0</td>\n",
              "      <td>1.01</td>\n",
              "      <td>0.24</td>\n",
              "      <td>1.0</td>\n",
              "      <td>1.0</td>\n",
              "      <td>1.0</td>\n",
              "      <td>1.0</td>\n",
              "      <td>9.0</td>\n",
              "    </tr>\n",
              "    <tr>\n",
              "      <th>HAPPY</th>\n",
              "      <td>1416.0</td>\n",
              "      <td>1.65</td>\n",
              "      <td>0.63</td>\n",
              "      <td>1.0</td>\n",
              "      <td>1.0</td>\n",
              "      <td>2.0</td>\n",
              "      <td>2.0</td>\n",
              "      <td>8.0</td>\n",
              "    </tr>\n",
              "    <tr>\n",
              "      <th>COHORT</th>\n",
              "      <td>1416.0</td>\n",
              "      <td>1974.64</td>\n",
              "      <td>370.19</td>\n",
              "      <td>1917.0</td>\n",
              "      <td>1947.0</td>\n",
              "      <td>1959.0</td>\n",
              "      <td>1970.0</td>\n",
              "      <td>9999.0</td>\n",
              "    </tr>\n",
              "    <tr>\n",
              "      <th>SATFIN</th>\n",
              "      <td>1416.0</td>\n",
              "      <td>1.89</td>\n",
              "      <td>0.86</td>\n",
              "      <td>1.0</td>\n",
              "      <td>1.0</td>\n",
              "      <td>2.0</td>\n",
              "      <td>2.0</td>\n",
              "      <td>9.0</td>\n",
              "    </tr>\n",
              "    <tr>\n",
              "      <th>I_RACE</th>\n",
              "      <td>1416.0</td>\n",
              "      <td>1.36</td>\n",
              "      <td>0.71</td>\n",
              "      <td>1.0</td>\n",
              "      <td>1.0</td>\n",
              "      <td>1.0</td>\n",
              "      <td>1.0</td>\n",
              "      <td>3.0</td>\n",
              "    </tr>\n",
              "  </tbody>\n",
              "</table>\n",
              "</div>"
            ],
            "text/plain": [
              "          count     mean     std     min     25%     50%     75%     max\n",
              "MARITAL  1416.0     1.01    0.24     1.0     1.0     1.0     1.0     9.0\n",
              "HAPPY    1416.0     1.65    0.63     1.0     1.0     2.0     2.0     8.0\n",
              "COHORT   1416.0  1974.64  370.19  1917.0  1947.0  1959.0  1970.0  9999.0\n",
              "SATFIN   1416.0     1.89    0.86     1.0     1.0     2.0     2.0     9.0\n",
              "I_RACE   1416.0     1.36    0.71     1.0     1.0     1.0     1.0     3.0"
            ]
          },
          "metadata": {
            "tags": []
          },
          "execution_count": 50
        }
      ]
    },
    {
      "cell_type": "code",
      "metadata": {
        "id": "ugRN6-vN-Uci"
      },
      "source": [
        "from sklearn.model_selection import train_test_split\n",
        "from sklearn.linear_model import LinearRegression\n",
        "from sklearn import metrics\n",
        "\n",
        "from sklearn.ensemble import RandomForestRegressor"
      ],
      "execution_count": 51,
      "outputs": []
    },
    {
      "cell_type": "code",
      "metadata": {
        "id": "ghKwJhof-bTv"
      },
      "source": [
        "y = df_new['HAPMAR']"
      ],
      "execution_count": 52,
      "outputs": []
    },
    {
      "cell_type": "code",
      "metadata": {
        "id": "nx_OYl3u-k_V"
      },
      "source": [
        "X = df_new.drop(columns=['HAPMAR']).copy()"
      ],
      "execution_count": 53,
      "outputs": []
    },
    {
      "cell_type": "code",
      "metadata": {
        "id": "zzdsCNix-riT"
      },
      "source": [
        "X_train, X_test, y_train, y_test = train_test_split(X, y, test_size=0.3, random_state=2811)"
      ],
      "execution_count": 54,
      "outputs": []
    },
    {
      "cell_type": "code",
      "metadata": {
        "id": "799gaM6R-s2u"
      },
      "source": [
        "#model = LinearRegression()\n",
        "model = RandomForestRegressor(n_estimators=100)"
      ],
      "execution_count": 55,
      "outputs": []
    },
    {
      "cell_type": "code",
      "metadata": {
        "colab": {
          "base_uri": "https://localhost:8080/"
        },
        "id": "ak4ag2Z3-wYi",
        "outputId": "0f6e18ad-c30e-43b7-e4e6-f316e8033cdb"
      },
      "source": [
        "model.fit(X_train, y_train)"
      ],
      "execution_count": 56,
      "outputs": [
        {
          "output_type": "execute_result",
          "data": {
            "text/plain": [
              "RandomForestRegressor(bootstrap=True, ccp_alpha=0.0, criterion='mse',\n",
              "                      max_depth=None, max_features='auto', max_leaf_nodes=None,\n",
              "                      max_samples=None, min_impurity_decrease=0.0,\n",
              "                      min_impurity_split=None, min_samples_leaf=1,\n",
              "                      min_samples_split=2, min_weight_fraction_leaf=0.0,\n",
              "                      n_estimators=100, n_jobs=None, oob_score=False,\n",
              "                      random_state=None, verbose=0, warm_start=False)"
            ]
          },
          "metadata": {
            "tags": []
          },
          "execution_count": 56
        }
      ]
    },
    {
      "cell_type": "code",
      "metadata": {
        "colab": {
          "base_uri": "https://localhost:8080/"
        },
        "id": "8T0YTDF9-y-b",
        "outputId": "4c03761b-f953-4c47-8c3c-c25478d58a2d"
      },
      "source": [
        "print('R² = {}'.format(model.score(X_train, y_train).round(2)))"
      ],
      "execution_count": 57,
      "outputs": [
        {
          "output_type": "stream",
          "text": [
            "R² = 0.66\n"
          ],
          "name": "stdout"
        }
      ]
    },
    {
      "cell_type": "code",
      "metadata": {
        "id": "glhhGhuG-49x"
      },
      "source": [
        "y_previsto = model.predict(X_test)"
      ],
      "execution_count": 59,
      "outputs": []
    },
    {
      "cell_type": "code",
      "metadata": {
        "colab": {
          "base_uri": "https://localhost:8080/"
        },
        "id": "lKADN7wR-7f5",
        "outputId": "d6bd6aa3-2f85-45f4-9622-b15588cb1438"
      },
      "source": [
        "marital = 1\n",
        "happy = 2 \n",
        "cohort = 1950\n",
        "satfin = 2\n",
        "race = 5\n",
        "\n",
        "predict_test =[[marital, happy, cohort, satfin, race]]\n",
        "\n",
        "print('$ {0:.0f}'.format(model.predict(predict_test)[0]))"
      ],
      "execution_count": 60,
      "outputs": [
        {
          "output_type": "stream",
          "text": [
            "$ 2\n"
          ],
          "name": "stdout"
        }
      ]
    },
    {
      "cell_type": "code",
      "metadata": {
        "colab": {
          "base_uri": "https://localhost:8080/",
          "height": 143
        },
        "id": "kXuV7f41_Zla",
        "outputId": "b13d43e1-4ee0-4d6b-ca9c-f9204d26f2c8"
      },
      "source": [
        "R2 = model.score(X_train, y_train).round(2)\n",
        "EQM = metrics.mean_squared_error(y_test, y_previsto).round(2)\n",
        "REQM = np.sqrt(metrics.mean_squared_error(y_test, y_previsto)).round(2)\n",
        "\n",
        "\n",
        "pd.DataFrame([EQM, REQM, R2], ['EQM', 'REQM', 'R²'], columns=['Metrics'])"
      ],
      "execution_count": 61,
      "outputs": [
        {
          "output_type": "execute_result",
          "data": {
            "text/html": [
              "<div>\n",
              "<style scoped>\n",
              "    .dataframe tbody tr th:only-of-type {\n",
              "        vertical-align: middle;\n",
              "    }\n",
              "\n",
              "    .dataframe tbody tr th {\n",
              "        vertical-align: top;\n",
              "    }\n",
              "\n",
              "    .dataframe thead th {\n",
              "        text-align: right;\n",
              "    }\n",
              "</style>\n",
              "<table border=\"1\" class=\"dataframe\">\n",
              "  <thead>\n",
              "    <tr style=\"text-align: right;\">\n",
              "      <th></th>\n",
              "      <th>Metrics</th>\n",
              "    </tr>\n",
              "  </thead>\n",
              "  <tbody>\n",
              "    <tr>\n",
              "      <th>EQM</th>\n",
              "      <td>0.54</td>\n",
              "    </tr>\n",
              "    <tr>\n",
              "      <th>REQM</th>\n",
              "      <td>0.73</td>\n",
              "    </tr>\n",
              "    <tr>\n",
              "      <th>R²</th>\n",
              "      <td>0.66</td>\n",
              "    </tr>\n",
              "  </tbody>\n",
              "</table>\n",
              "</div>"
            ],
            "text/plain": [
              "      Metrics\n",
              "EQM      0.54\n",
              "REQM     0.73\n",
              "R²       0.66"
            ]
          },
          "metadata": {
            "tags": []
          },
          "execution_count": 61
        }
      ]
    },
    {
      "cell_type": "code",
      "metadata": {
        "id": "tTtue8PJ_pgd"
      },
      "source": [
        "# Save model using picle\n",
        "import pickle\n",
        "\n",
        "output = open('model_happyMarriage', 'wb')\n",
        "pickle.dump(model, output)\n",
        "output.close()"
      ],
      "execution_count": 62,
      "outputs": []
    },
    {
      "cell_type": "code",
      "metadata": {
        "id": "zYqcbs1pALiS"
      },
      "source": [
        "# load model in other jupyter notebook\n",
        "\n",
        "import pickle\n",
        "\n",
        "model = open('model_happyMarriage','rb')\n",
        "lm_new = pickle.load(model)\n",
        "model.close()"
      ],
      "execution_count": 63,
      "outputs": []
    },
    {
      "cell_type": "code",
      "metadata": {
        "id": "1V3Qx4bnAxnj"
      },
      "source": [
        "# test unique\n",
        "marital = 1\n",
        "happy = 2 \n",
        "cohort = 1950\n",
        "satfin = 2\n",
        "race = 5\n",
        "\n",
        "predict_test =[[marital, happy, cohort, satfin, race]]"
      ],
      "execution_count": 64,
      "outputs": []
    },
    {
      "cell_type": "code",
      "metadata": {
        "id": "MUPk1eEmAkHh"
      },
      "source": [
        "from ipywidgets import widgets, HBox, VBox\n",
        "from IPython.display import display\n",
        "\n",
        "marital = widgets.Text(description=\"Marital\")\n",
        "happy = widgets.Text(description=\"Happy\")\n",
        "cohort = widgets.Text(description=\"Year of birth\")\n",
        "satfin = widgets.Text(description=\"satfin\")\n",
        "race = widgets.Text(description=\"Race\")\n",
        "btn = widgets.Button(description=\"Start simulator\")\n",
        "\n",
        "left = VBox([marital, happy, cohort])\n",
        "right = VBox([satfin, race])\n",
        "inputs = HBox([left, right])\n",
        "\n",
        "def Simulator(sender):\n",
        "    input=[[\n",
        "                float(marital.value if marital.value else 0), \n",
        "                float(happy.value if happy.value else 0), \n",
        "                float(cohort.value if cohort.value else 0), \n",
        "                float(satfin.value if satfin.value else 0),\n",
        "                float(race.value if race.value else 0)\n",
        "             ]]\n",
        "    print('$ {0:.0f}'.format(lm_new.predict(input)[0]))\n",
        "    result = '{0:.0f}'.format(lm_new.predict(input)[0])\n",
        "    if(result=='1'):\n",
        "      print(\"Marriage very happy\")\n",
        "    elif(result=='2'):\n",
        "      print(\"Marriage pretty happy\")\n",
        "    elif(result=='3'):\n",
        "      print(\"Marriage not too happy\")\n",
        "    else:\n",
        "      print(\"Marriage no happy\")\n",
        "\n",
        "    \n",
        "btn.on_click(Simulator)    "
      ],
      "execution_count": 65,
      "outputs": []
    },
    {
      "cell_type": "markdown",
      "metadata": {
        "id": "mKpiCLdJC6uF"
      },
      "source": [
        "  - Marital                     \n",
        "(1) Married\t- (2) Widowed\t -   (3) Divorced\t-  (4) Separated\t- (5) Never married\n",
        "\n",
        "  - Happy                    \n",
        "(1) Very happy\t- (2) Pretty happy\t- (3) Not too happy -\t (8) Don't know\t\n",
        "\n",
        "  - Financial situation  _ satfin                   \n",
        "(1) Pretty well satisfied\t- (2) More or less satisfied\t- (3) Not satisfied at ll\t - (8) Don't know\n",
        "  - Race                    \n",
        "(1) White -\t(2) Black\t-  (3) Other\n",
        "\n"
      ]
    },
    {
      "cell_type": "code",
      "metadata": {
        "colab": {
          "base_uri": "https://localhost:8080/",
          "height": 145,
          "referenced_widgets": [
            "803583b3b65144ee8c3e693da9c33b24",
            "5911c052b51b4d2dac089e37da851b61",
            "acd3d655fb6244b5a423e94d6617ef1f",
            "3a747529bd9b43c5b9fc324887fc67b1",
            "f737dc5e196d479184dfcae70404aeed",
            "0812ce47c512497c8b7cdc1668c7d0e5",
            "dd87cb08baa24bfdaad1791d2f43cb4b",
            "721997ee3f894e2d91f1006871f43464",
            "90c7bd9f8c00406199db0824af629ae3",
            "de22433e7d6247fbaeeef34b3fee1eef",
            "43f1991eaab34d0cbaeac373413fc186",
            "6e9c65c86aa442679773130553620552",
            "381fc72f4eca40f8be2307f73549d6cc",
            "d7425f8311a246d983f2d01781d23468",
            "c42f8d4aee7b49e59e53d122a59acec1",
            "c45dd474e59a494e9ece3ed19e5b31c6",
            "10342e8ab60c41b8af4415e8e298864d",
            "706c0a2c021643cebebec774114cf497",
            "77c9b1ad699241b491f92f624d80317f",
            "242bc7507c854d2489099147b412483d",
            "f6b22419ff76470cacedb56a5aad939a",
            "4a114aafc0a24c45904bac9939a4aa27",
            "f47246b447f5489a8663aae0344eec83",
            "2cab87ed434c4108bfd64968675cdab8"
          ]
        },
        "id": "DiVuKHJ1BRsS",
        "outputId": "c931c999-f795-4623-eadb-6aa54bb551cc"
      },
      "source": [
        "display(inputs,btn)\n",
        "\n",
        "\n",
        "# test model simulator"
      ],
      "execution_count": 71,
      "outputs": [
        {
          "output_type": "display_data",
          "data": {
            "application/vnd.jupyter.widget-view+json": {
              "model_id": "803583b3b65144ee8c3e693da9c33b24",
              "version_minor": 0,
              "version_major": 2
            },
            "text/plain": [
              "HBox(children=(VBox(children=(Text(value='', description='Marital'), Text(value='', description='Happy'), Text…"
            ]
          },
          "metadata": {
            "tags": []
          }
        },
        {
          "output_type": "display_data",
          "data": {
            "application/vnd.jupyter.widget-view+json": {
              "model_id": "4a114aafc0a24c45904bac9939a4aa27",
              "version_minor": 0,
              "version_major": 2
            },
            "text/plain": [
              "Button(description='Start simulator', style=ButtonStyle())"
            ]
          },
          "metadata": {
            "tags": []
          }
        }
      ]
    },
    {
      "cell_type": "code",
      "metadata": {
        "id": "jWw7DbNZBZMW"
      },
      "source": [
        ""
      ],
      "execution_count": 65,
      "outputs": []
    }
  ]
}